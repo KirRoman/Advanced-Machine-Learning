{
 "cells": [
  {
   "cell_type": "markdown",
   "metadata": {},
   "source": [
    "## Day 14. Task 05\n",
    "## Пайплайны и ООП\n",
    "### 0. Импорты"
   ]
  },
  {
   "cell_type": "code",
   "execution_count": 15,
   "metadata": {},
   "outputs": [],
   "source": [
    "import pandas as pd\n",
    "from sklearn.preprocessing import OneHotEncoder\n",
    "from sklearn.pipeline import Pipeline, make_pipeline\n",
    "from sklearn.base import BaseEstimator\n",
    "from sklearn.base import TransformerMixin\n",
    "from sklearn.model_selection import train_test_split\n",
    "from sklearn.model_selection import GridSearchCV\n",
    "from sklearn.svm import SVC\n",
    "from sklearn.tree import DecisionTreeClassifier\n",
    "from sklearn.ensemble import RandomForestClassifier\n",
    "from tqdm.notebook import tqdm\n",
    "from sklearn.metrics import accuracy_score\n",
    "from joblib import dump, load\n",
    "pd.set_option('display.max_colwidth', None)"
   ]
  },
  {
   "cell_type": "markdown",
   "metadata": {},
   "source": [
    "### 1. Пайплайн препроцессинга\n",
    " Создайте три кастомных трансформера согласно указаниям ниже. Первые два трансформера из списка будут использованы внутри Pipeline.\n",
    "1. Класс FeatureExtractor():\n",
    "    - принимает на вход датафрейм с полями uid, labname, numTrials, timestamp из файла datasets/checker_submits.csv\n",
    "    - вытаскивает hour из timestamp\n",
    "    - вытаскивает weekday из timestamp (сохраняет в виде цифр)\n",
    "    - удаляет столбец timestamp\n",
    "    - возвращает новый датафрейм\n",
    "2. Класс MyOneHotEncoder():\n",
    "    - принимает на вход датафрейм из предыдущего трансформера и название столбца с целевой переменной\n",
    "    - обнаруживает все категориальные признаки и трансормирует их при помощи OneHotEncoder(). Если целевая переменная является тоже категориальной, то трансформация на нее не распространяется\n",
    "    - удаляет изначальные категориальные столбцы из датафрейма\n",
    "    - возвращает датафрейм с признаками и series со столбцом целевой переменной\n",
    "3. Класс TrainValidationTest():\n",
    "    - принимает на вход X и y\n",
    "    - возвращает X_train, X_valid, X_test, y_train, y_valid, y_test (test_size=0.2, random_state=21, stratified)."
   ]
  },
  {
   "cell_type": "code",
   "execution_count": 2,
   "metadata": {},
   "outputs": [],
   "source": [
    "class FeatureExtractor(BaseEstimator, TransformerMixin):\n",
    "\n",
    "    def fit(self, X, y = None):\n",
    "        return self\n",
    "    \n",
    "    def transform(self, X, y = None):\n",
    "        X['hour'] = X['timestamp'].dt.hour\n",
    "        X['dayofweek'] = X['timestamp'].dt.weekday\n",
    "        X = X.drop(columns = ['timestamp'])\n",
    "        return X"
   ]
  },
  {
   "cell_type": "code",
   "execution_count": 11,
   "metadata": {},
   "outputs": [],
   "source": [
    "class MyOneHotEncoder(BaseEstimator, TransformerMixin):\n",
    "\n",
    "    def __init__(self, target):\n",
    "        self.target = target\n",
    "    \n",
    "    def fit(self, X, y = None):\n",
    "        return self\n",
    "\n",
    "    def transform(self, X, y = None):\n",
    "        ohe = OneHotEncoder(sparse=False)\n",
    "        X_cat = X.drop(columns=[self.target]).select_dtypes(include = ['object'])\n",
    "        X_num = X.drop(columns=[self.target]).select_dtypes(exclude = ['object'])\n",
    "        X_dum = pd.DataFrame(data = ohe.fit_transform(X_cat), columns=ohe.get_feature_names())\n",
    "        X_trans = X_dum.join(X_num)\n",
    "        return X_trans, X[self.target]"
   ]
  },
  {
   "cell_type": "code",
   "execution_count": 5,
   "metadata": {},
   "outputs": [],
   "source": [
    "class TrainValidationTest():\n",
    "\n",
    "    def __init__(self, X, y):\n",
    "        self.X = X\n",
    "        self.y = y\n",
    "    \n",
    "    def train_valid_test_split(self):\n",
    "        X_train, X_test, y_train, y_test = train_test_split(X, y, stratify=y, test_size=0.2, random_state=21)\n",
    "        X_train, X_valid, y_train, y_validt = train_test_split(X_train, y_train, stratify=y_train, test_size=0.2, random_state=21)\n",
    "        return X_train, X_valid, X_test,  y_train, y_validt, y_test"
   ]
  },
  {
   "cell_type": "markdown",
   "metadata": {},
   "source": [
    "### 2. Пайплайн выбора модели\n",
    " Класс `ModelSelection()`\n",
    "  - Принимает на вход список экземпляров `GridSearchCV` и словарь, в котором ключами являются индексы из этого списка, а значениями – названия моделей. Ниже пример в обратном порядке (для лучшего понимания, строки кода не будут работать при прогоне). Такой порядок позволяет посмотреть на это от общего к частному:\n",
    "```ModelSelection(grids, grid_dict)\n",
    "\n",
    "grids = [gs_svm, gs_tree, gs_rf]\n",
    "\n",
    "gs_svm = GridSearchCV(estimator=svm, param_grid=svm_params, scoring='accuracy', cv=2, n_jobs=jobs), where jobs you can specify by yourself\n",
    "\n",
    "svm_params = [{'kernel':('linear', 'rbf', 'sigmoid'), 'C':[0.01, 0.1, 1, 1.5, 5, 10], 'gamma': ['scale', 'auto'], 'class_weight':('balanced', None), 'random_state':[21], 'probability':[True]}]\n",
    "```\n",
    "  - метод `choose()` принимает на вход `X_train`, `y_train`, `X_valid`, `y_valid` и возвращает название лучшего классификатора среди всех моделей на валидационной выборке\n",
    "  - метод `best_results()` возвращает датафрейм со столбцами `model`, `params`, `valid_score`, где строки – это модели, являющиеся лучшими в своем классе моделей (пример ниже, ваши значения будут другими)\n",
    "  ```\n",
    "model    params    valid_score\n",
    "0    SVM    {'C': 10, 'class_weight': None, 'gamma': 'auto...    0.772727\n",
    "1    Decision Tree    {'class_weight': 'balanced', 'criterion': 'gin...    0.801484\n",
    "2    Random Forest    {'class_weight': None, 'criterion': 'entropy',...    0.855288\n",
    "```\n",
    "  - когда вы итерируетесь по параметрам класса моделей, выводите на экран название этого класса, а также показывайте прогресс, используя `tqdm.notebook`, в конце цикла этого класса моделей выведете на экран лучшую модель этого класса (ниже пример, значения могут отличаться)\n",
    "```\n",
    "Estimator: SVM\n",
    "100%\n",
    "72/72 [01:32<00:00, 1.36it/s]\n",
    "Best params: {'C': 10, 'class_weight': None, 'gamma': 'auto', 'kernel': 'rbf', 'probability': True, 'random_state': 21}\n",
    "Best training accuracy: 0.773\n",
    "Validation set accuracy score for best params: 0.878 \n",
    "\n",
    "Estimator: Decision Tree\n",
    "100%\n",
    "196/196 [01:07<00:00, 1.22it/s]\n",
    "Best params: {'class_weight': 'balanced', 'criterion': 'gini', 'max_depth': 21, 'random_state': 21}\n",
    "Best training accuracy: 0.801\n",
    "Validation set accuracy score for best params: 0.867 \n",
    "\n",
    "Estimator: Random Forest\n",
    "100%\n",
    "784/784 [06:47<00:00, 1.13s/it]\n",
    "Best params: {'class_weight': None, 'criterion': 'entropy', 'max_depth': 22, 'n_estimators': 50, 'random_state': 21}\n",
    "Best training accuracy: 0.855\n",
    "Validation set accuracy score for best params: 0.907 \n",
    "\n",
    "Classifier with best validation set accuracy: Random Forest\n",
    "```"
   ]
  },
  {
   "cell_type": "code",
   "execution_count": 16,
   "metadata": {},
   "outputs": [],
   "source": [
    "class ModelSelection():\n",
    "    def __init__(self, grids, grid_dict):\n",
    "        self.grids = grids\n",
    "        self.grid_dict = grid_dict\n",
    "\n",
    "    def choose(self, X_train, y_train, X_valid, y_valid):\n",
    "        self.model = []\n",
    "        self.params = []\n",
    "        self.valid_score = []\n",
    "        best_name = None\n",
    "        best_score = 0\n",
    "        for i in tqdm(range(len(self.grids))):\n",
    "            print(f'Estimator: {grid_dict[i]}')\n",
    "            self.grids[i].fit(X_train, y_train)\n",
    "            print(f'Best params: {self.grids[i].best_params_}')\n",
    "            print(f'Best training accuracy: {self.grids[i].best_score_}')\n",
    "            self.grids[i].best_estimator_.fit(X_train, y_train)\n",
    "            valid_score = accuracy_score(y_valid, self.grids[i].best_estimator_.predict(X_valid))\n",
    "            print(f'Validation set accuracy score for best params: {valid_score}\\n')\n",
    "            self.model.append(grid_dict[i])\n",
    "            self.params.append(self.grids[i].best_params_)\n",
    "            self.valid_score.append(valid_score)\n",
    "            if valid_score > best_score:\n",
    "                best_name = grid_dict[i]\n",
    "                best_score = valid_score\n",
    "        print(f'Classifier with best validation set accuracy: {best_name}')\n",
    "\n",
    "    def best_results(self):\n",
    "        return pd.DataFrame(data = {'model': self.model, 'params': self.params, 'valid_score': self.valid_score})"
   ]
  },
  {
   "cell_type": "markdown",
   "metadata": {},
   "source": [
    "### 3. Финализация\n",
    " Класс `Finalize()`\n",
    "   - принимает на вход estimator (класс, который оценивает качество модели)\n",
    "   - у класса должен быть метод `save_model()`, который сохраняет финальную модель с заданным путем и именем и сообщает, что модель успешно сохранена, а также метод `final_score()`, который принимает на вход `X_train`, `y_train`, `X_test`, `y_test` и возвращает accuracy модели, как в примере ниже:\n",
    "```\n",
    "final.final_score(X_train, y_train, X_test, y_test)\n",
    "Accuracy of the final model is 0.908284023668639\n",
    "```\n",
    " "
   ]
  },
  {
   "cell_type": "code",
   "execution_count": 25,
   "metadata": {},
   "outputs": [],
   "source": [
    "class Finalize():\n",
    "    def __init__(self, estimator):\n",
    "        self.estimator = estimator\n",
    "\n",
    "    def final_score (self, X_train, y_train, X_test, y_test):\n",
    "        self.estimator.fit(X_train, y_train)\n",
    "        return f'Accuracy of the final model is {accuracy_score(y_test, self.estimator.predict(X_test))}'\n",
    "\n",
    "    def save_model(self, filename):\n",
    "        dump(self.estimator, open(filename, 'wb'))"
   ]
  },
  {
   "cell_type": "markdown",
   "metadata": {},
   "source": [
    "### 4. Основная программа\n",
    " \n",
    "1. Загрузите данные из файла.\n",
    "2. Создайте пайплайн препроцессинга, который состоит из двух написанных вами трансформеров: `FeatureExtractor()` и `MyOneHotEncoder()`.\n",
    "```\n",
    "preprocessing = Pipeline([('feature_extractor', FeatureExtractor()), ('onehot_encoder', MyOneHotEncoder('dayofweek'))])\n",
    "```\n",
    "3. Примените этот пайплайн и его метод `fit_transform()` по отношению к изначальному датасету.\n",
    "```\n",
    "data = preprocessing.fit_transform(df)\n",
    "```\n",
    "4. Получите `X_train`, `X_valid`, `X_test`, `y_train`, `y_valid`, `y_test`, используя `TrainValidationTest()` и результат предыдущего пайплайна.\n",
    "5. Создайте объект класса `ModelSelection()`, воспользуйтесь методом `choose()`, применив его к тем моделям и тем параметрам моделей, которые вы хотите. Получите датафрейм с лучшими результатами.\n",
    "6. Создайте объект класса `Finalize()` с вашей лучшей моделью. Воспользуйтесь методом `final_score()` и сохраните модель в формате `name_of_the_model_{accuracy on test dataset}.sav.`  \n",
    "Это всё. Поздравляем! Это серьезный результат. Вы смогли автоматизировать свою работу."
   ]
  },
  {
   "cell_type": "code",
   "execution_count": 12,
   "metadata": {},
   "outputs": [
    {
     "name": "stderr",
     "output_type": "stream",
     "text": [
      "C:\\Users\\зщ\\AppData\\Roaming\\Python\\Python39\\site-packages\\sklearn\\utils\\deprecation.py:87: FutureWarning: Function get_feature_names is deprecated; get_feature_names is deprecated in 1.0 and will be removed in 1.2. Please use get_feature_names_out instead.\n",
      "  warnings.warn(msg, category=FutureWarning)\n"
     ]
    }
   ],
   "source": [
    "df = pd.read_csv('checker_submits.csv', parse_dates=['timestamp'])\n",
    "pipe = make_pipeline(FeatureExtractor(), MyOneHotEncoder(target='dayofweek'))\n",
    "X, y = pipe.fit_transform(df)\n",
    "X_train, X_valid, X_test,  y_train, y_valid, y_test = TrainValidationTest(X, y).train_valid_test_split()"
   ]
  },
  {
   "cell_type": "code",
   "execution_count": 20,
   "metadata": {},
   "outputs": [],
   "source": [
    "svm = SVC()\n",
    "svm_params =  {'kernel' : ['linear', 'rbf', 'sigmoid'],\n",
    "              'C': [0.01, 0.1, 1, 1.5, 5, 10],\n",
    "              'gamma': ['scale', 'auto'],\n",
    "              'class_weight': ['balanced', None],\n",
    "              'random_state': [21],\n",
    "              'probability': [True]}\n",
    "gs_svm = GridSearchCV(estimator=svm, param_grid=svm_params, scoring='accuracy', cv=2, n_jobs=-1)\n",
    "\n",
    "dt = DecisionTreeClassifier()\n",
    "dt_params  = {'max_depth': range(1,50),\n",
    "              'class_weight': ['balanced', None],\n",
    "              'criterion': ['entropy', 'gini'],\n",
    "              'random_state': [21]}\n",
    "gs_dt = GridSearchCV(estimator=dt, param_grid=dt_params, scoring='accuracy', cv=2, n_jobs=-1)\n",
    "\n",
    "rf = RandomForestClassifier()\n",
    "rf_params  = {'max_depth': range(1,50),\n",
    "              'class_weight': ['balanced', None],\n",
    "              'criterion': ['entropy', 'gini'],\n",
    "              'n_estimators': [5, 10, 50, 100],\n",
    "              'random_state': [21]}\n",
    "gs_rf = GridSearchCV(estimator=rf, param_grid=rf_params, scoring='accuracy', cv=2, n_jobs=-1)\n",
    "\n",
    "grids = [gs_svm, gs_dt, gs_rf]\n",
    "grid_dict = {0: 'SVM', 1: 'Decision Tree', 2: 'Random Forest'}\n"
   ]
  },
  {
   "cell_type": "code",
   "execution_count": 21,
   "metadata": {},
   "outputs": [
    {
     "data": {
      "application/vnd.jupyter.widget-view+json": {
       "model_id": "cae077daf45046c3a323684d481426e3",
       "version_major": 2,
       "version_minor": 0
      },
      "text/plain": [
       "  0%|          | 0/3 [00:00<?, ?it/s]"
      ]
     },
     "metadata": {},
     "output_type": "display_data"
    },
    {
     "name": "stdout",
     "output_type": "stream",
     "text": [
      "Estimator: SVM\n",
      "Best params: {'C': 10, 'class_weight': None, 'gamma': 'auto', 'kernel': 'rbf', 'probability': True, 'random_state': 21}\n",
      "Best training accuracy: 0.7727272727272727\n",
      "Validation set accuracy score for best params: 0.8777777777777778\n",
      "\n",
      "Estimator: Decision Tree\n",
      "Best params: {'class_weight': None, 'criterion': 'gini', 'max_depth': 17, 'random_state': 21}\n",
      "Best training accuracy: 0.7996289424860854\n",
      "Validation set accuracy score for best params: 0.8703703703703703\n",
      "\n",
      "Estimator: Random Forest\n",
      "Best params: {'class_weight': None, 'criterion': 'gini', 'max_depth': 27, 'n_estimators': 50, 'random_state': 21}\n",
      "Best training accuracy: 0.8571428571428572\n",
      "Validation set accuracy score for best params: 0.8925925925925926\n",
      "\n",
      "Classifier with best validation set accuracy: Random Forest\n"
     ]
    },
    {
     "data": {
      "text/html": [
       "<div>\n",
       "<style scoped>\n",
       "    .dataframe tbody tr th:only-of-type {\n",
       "        vertical-align: middle;\n",
       "    }\n",
       "\n",
       "    .dataframe tbody tr th {\n",
       "        vertical-align: top;\n",
       "    }\n",
       "\n",
       "    .dataframe thead th {\n",
       "        text-align: right;\n",
       "    }\n",
       "</style>\n",
       "<table border=\"1\" class=\"dataframe\">\n",
       "  <thead>\n",
       "    <tr style=\"text-align: right;\">\n",
       "      <th></th>\n",
       "      <th>model</th>\n",
       "      <th>params</th>\n",
       "      <th>valid_score</th>\n",
       "    </tr>\n",
       "  </thead>\n",
       "  <tbody>\n",
       "    <tr>\n",
       "      <th>0</th>\n",
       "      <td>SVM</td>\n",
       "      <td>{'C': 10, 'class_weight': None, 'gamma': 'auto', 'kernel': 'rbf', 'probability': True, 'random_state': 21}</td>\n",
       "      <td>0.877778</td>\n",
       "    </tr>\n",
       "    <tr>\n",
       "      <th>1</th>\n",
       "      <td>Decision Tree</td>\n",
       "      <td>{'class_weight': None, 'criterion': 'gini', 'max_depth': 17, 'random_state': 21}</td>\n",
       "      <td>0.870370</td>\n",
       "    </tr>\n",
       "    <tr>\n",
       "      <th>2</th>\n",
       "      <td>Random Forest</td>\n",
       "      <td>{'class_weight': None, 'criterion': 'gini', 'max_depth': 27, 'n_estimators': 50, 'random_state': 21}</td>\n",
       "      <td>0.892593</td>\n",
       "    </tr>\n",
       "  </tbody>\n",
       "</table>\n",
       "</div>"
      ],
      "text/plain": [
       "           model  \\\n",
       "0            SVM   \n",
       "1  Decision Tree   \n",
       "2  Random Forest   \n",
       "\n",
       "                                                                                                       params  \\\n",
       "0  {'C': 10, 'class_weight': None, 'gamma': 'auto', 'kernel': 'rbf', 'probability': True, 'random_state': 21}   \n",
       "1                            {'class_weight': None, 'criterion': 'gini', 'max_depth': 17, 'random_state': 21}   \n",
       "2        {'class_weight': None, 'criterion': 'gini', 'max_depth': 27, 'n_estimators': 50, 'random_state': 21}   \n",
       "\n",
       "   valid_score  \n",
       "0     0.877778  \n",
       "1     0.870370  \n",
       "2     0.892593  "
      ]
     },
     "execution_count": 21,
     "metadata": {},
     "output_type": "execute_result"
    }
   ],
   "source": [
    "ms = ModelSelection(grids=grids, grid_dict=grid_dict)\n",
    "ms.choose(X_train=X_train, y_train=y_train, X_valid=X_valid, y_valid=y_valid)\n",
    "best_results = ms.best_results()\n",
    "best_results"
   ]
  },
  {
   "cell_type": "code",
   "execution_count": 22,
   "metadata": {},
   "outputs": [
    {
     "data": {
      "text/plain": [
       "{'class_weight': None,\n",
       " 'criterion': 'gini',\n",
       " 'max_depth': 27,\n",
       " 'n_estimators': 50,\n",
       " 'random_state': 21}"
      ]
     },
     "execution_count": 22,
     "metadata": {},
     "output_type": "execute_result"
    }
   ],
   "source": [
    "best_params = best_results.sort_values('valid_score', ascending=False).reset_index(drop=True).loc[0, 'params']\n",
    "best_params"
   ]
  },
  {
   "cell_type": "code",
   "execution_count": 23,
   "metadata": {},
   "outputs": [
    {
     "data": {
      "text/html": [
       "<style>#sk-container-id-1 {color: black;background-color: white;}#sk-container-id-1 pre{padding: 0;}#sk-container-id-1 div.sk-toggleable {background-color: white;}#sk-container-id-1 label.sk-toggleable__label {cursor: pointer;display: block;width: 100%;margin-bottom: 0;padding: 0.3em;box-sizing: border-box;text-align: center;}#sk-container-id-1 label.sk-toggleable__label-arrow:before {content: \"▸\";float: left;margin-right: 0.25em;color: #696969;}#sk-container-id-1 label.sk-toggleable__label-arrow:hover:before {color: black;}#sk-container-id-1 div.sk-estimator:hover label.sk-toggleable__label-arrow:before {color: black;}#sk-container-id-1 div.sk-toggleable__content {max-height: 0;max-width: 0;overflow: hidden;text-align: left;background-color: #f0f8ff;}#sk-container-id-1 div.sk-toggleable__content pre {margin: 0.2em;color: black;border-radius: 0.25em;background-color: #f0f8ff;}#sk-container-id-1 input.sk-toggleable__control:checked~div.sk-toggleable__content {max-height: 200px;max-width: 100%;overflow: auto;}#sk-container-id-1 input.sk-toggleable__control:checked~label.sk-toggleable__label-arrow:before {content: \"▾\";}#sk-container-id-1 div.sk-estimator input.sk-toggleable__control:checked~label.sk-toggleable__label {background-color: #d4ebff;}#sk-container-id-1 div.sk-label input.sk-toggleable__control:checked~label.sk-toggleable__label {background-color: #d4ebff;}#sk-container-id-1 input.sk-hidden--visually {border: 0;clip: rect(1px 1px 1px 1px);clip: rect(1px, 1px, 1px, 1px);height: 1px;margin: -1px;overflow: hidden;padding: 0;position: absolute;width: 1px;}#sk-container-id-1 div.sk-estimator {font-family: monospace;background-color: #f0f8ff;border: 1px dotted black;border-radius: 0.25em;box-sizing: border-box;margin-bottom: 0.5em;}#sk-container-id-1 div.sk-estimator:hover {background-color: #d4ebff;}#sk-container-id-1 div.sk-parallel-item::after {content: \"\";width: 100%;border-bottom: 1px solid gray;flex-grow: 1;}#sk-container-id-1 div.sk-label:hover label.sk-toggleable__label {background-color: #d4ebff;}#sk-container-id-1 div.sk-serial::before {content: \"\";position: absolute;border-left: 1px solid gray;box-sizing: border-box;top: 0;bottom: 0;left: 50%;z-index: 0;}#sk-container-id-1 div.sk-serial {display: flex;flex-direction: column;align-items: center;background-color: white;padding-right: 0.2em;padding-left: 0.2em;position: relative;}#sk-container-id-1 div.sk-item {position: relative;z-index: 1;}#sk-container-id-1 div.sk-parallel {display: flex;align-items: stretch;justify-content: center;background-color: white;position: relative;}#sk-container-id-1 div.sk-item::before, #sk-container-id-1 div.sk-parallel-item::before {content: \"\";position: absolute;border-left: 1px solid gray;box-sizing: border-box;top: 0;bottom: 0;left: 50%;z-index: -1;}#sk-container-id-1 div.sk-parallel-item {display: flex;flex-direction: column;z-index: 1;position: relative;background-color: white;}#sk-container-id-1 div.sk-parallel-item:first-child::after {align-self: flex-end;width: 50%;}#sk-container-id-1 div.sk-parallel-item:last-child::after {align-self: flex-start;width: 50%;}#sk-container-id-1 div.sk-parallel-item:only-child::after {width: 0;}#sk-container-id-1 div.sk-dashed-wrapped {border: 1px dashed gray;margin: 0 0.4em 0.5em 0.4em;box-sizing: border-box;padding-bottom: 0.4em;background-color: white;}#sk-container-id-1 div.sk-label label {font-family: monospace;font-weight: bold;display: inline-block;line-height: 1.2em;}#sk-container-id-1 div.sk-label-container {text-align: center;}#sk-container-id-1 div.sk-container {/* jupyter's `normalize.less` sets `[hidden] { display: none; }` but bootstrap.min.css set `[hidden] { display: none !important; }` so we also need the `!important` here to be able to override the default hidden behavior on the sphinx rendered scikit-learn.org. See: https://github.com/scikit-learn/scikit-learn/issues/21755 */display: inline-block !important;position: relative;}#sk-container-id-1 div.sk-text-repr-fallback {display: none;}</style><div id=\"sk-container-id-1\" class=\"sk-top-container\"><div class=\"sk-text-repr-fallback\"><pre>RandomForestClassifier(max_depth=27, n_estimators=50, random_state=21)</pre><b>In a Jupyter environment, please rerun this cell to show the HTML representation or trust the notebook. <br />On GitHub, the HTML representation is unable to render, please try loading this page with nbviewer.org.</b></div><div class=\"sk-container\" hidden><div class=\"sk-item\"><div class=\"sk-estimator sk-toggleable\"><input class=\"sk-toggleable__control sk-hidden--visually\" id=\"sk-estimator-id-1\" type=\"checkbox\" checked><label for=\"sk-estimator-id-1\" class=\"sk-toggleable__label sk-toggleable__label-arrow\">RandomForestClassifier</label><div class=\"sk-toggleable__content\"><pre>RandomForestClassifier(max_depth=27, n_estimators=50, random_state=21)</pre></div></div></div></div></div>"
      ],
      "text/plain": [
       "RandomForestClassifier(max_depth=27, n_estimators=50, random_state=21)"
      ]
     },
     "execution_count": 23,
     "metadata": {},
     "output_type": "execute_result"
    }
   ],
   "source": [
    "best_model = RandomForestClassifier(**best_params)\n",
    "best_model"
   ]
  },
  {
   "cell_type": "code",
   "execution_count": 26,
   "metadata": {},
   "outputs": [
    {
     "data": {
      "text/plain": [
       "'Accuracy of the final model is 0.9171597633136095'"
      ]
     },
     "execution_count": 26,
     "metadata": {},
     "output_type": "execute_result"
    }
   ],
   "source": [
    "final = Finalize(best_model)\n",
    "final.final_score(X_train=X_train, y_train=y_train, X_test=X_test, y_test=y_test)"
   ]
  },
  {
   "cell_type": "code",
   "execution_count": 27,
   "metadata": {},
   "outputs": [],
   "source": [
    "final.save_model('RandomForestClassifier_0.9171597633136095.sav')"
   ]
  },
  {
   "cell_type": "code",
   "execution_count": 28,
   "metadata": {},
   "outputs": [],
   "source": [
    "best_model_1 = load(open('RandomForestClassifier_0.9171597633136095.sav', 'rb'))"
   ]
  },
  {
   "cell_type": "code",
   "execution_count": 29,
   "metadata": {},
   "outputs": [
    {
     "data": {
      "text/html": [
       "<style>#sk-container-id-2 {color: black;background-color: white;}#sk-container-id-2 pre{padding: 0;}#sk-container-id-2 div.sk-toggleable {background-color: white;}#sk-container-id-2 label.sk-toggleable__label {cursor: pointer;display: block;width: 100%;margin-bottom: 0;padding: 0.3em;box-sizing: border-box;text-align: center;}#sk-container-id-2 label.sk-toggleable__label-arrow:before {content: \"▸\";float: left;margin-right: 0.25em;color: #696969;}#sk-container-id-2 label.sk-toggleable__label-arrow:hover:before {color: black;}#sk-container-id-2 div.sk-estimator:hover label.sk-toggleable__label-arrow:before {color: black;}#sk-container-id-2 div.sk-toggleable__content {max-height: 0;max-width: 0;overflow: hidden;text-align: left;background-color: #f0f8ff;}#sk-container-id-2 div.sk-toggleable__content pre {margin: 0.2em;color: black;border-radius: 0.25em;background-color: #f0f8ff;}#sk-container-id-2 input.sk-toggleable__control:checked~div.sk-toggleable__content {max-height: 200px;max-width: 100%;overflow: auto;}#sk-container-id-2 input.sk-toggleable__control:checked~label.sk-toggleable__label-arrow:before {content: \"▾\";}#sk-container-id-2 div.sk-estimator input.sk-toggleable__control:checked~label.sk-toggleable__label {background-color: #d4ebff;}#sk-container-id-2 div.sk-label input.sk-toggleable__control:checked~label.sk-toggleable__label {background-color: #d4ebff;}#sk-container-id-2 input.sk-hidden--visually {border: 0;clip: rect(1px 1px 1px 1px);clip: rect(1px, 1px, 1px, 1px);height: 1px;margin: -1px;overflow: hidden;padding: 0;position: absolute;width: 1px;}#sk-container-id-2 div.sk-estimator {font-family: monospace;background-color: #f0f8ff;border: 1px dotted black;border-radius: 0.25em;box-sizing: border-box;margin-bottom: 0.5em;}#sk-container-id-2 div.sk-estimator:hover {background-color: #d4ebff;}#sk-container-id-2 div.sk-parallel-item::after {content: \"\";width: 100%;border-bottom: 1px solid gray;flex-grow: 1;}#sk-container-id-2 div.sk-label:hover label.sk-toggleable__label {background-color: #d4ebff;}#sk-container-id-2 div.sk-serial::before {content: \"\";position: absolute;border-left: 1px solid gray;box-sizing: border-box;top: 0;bottom: 0;left: 50%;z-index: 0;}#sk-container-id-2 div.sk-serial {display: flex;flex-direction: column;align-items: center;background-color: white;padding-right: 0.2em;padding-left: 0.2em;position: relative;}#sk-container-id-2 div.sk-item {position: relative;z-index: 1;}#sk-container-id-2 div.sk-parallel {display: flex;align-items: stretch;justify-content: center;background-color: white;position: relative;}#sk-container-id-2 div.sk-item::before, #sk-container-id-2 div.sk-parallel-item::before {content: \"\";position: absolute;border-left: 1px solid gray;box-sizing: border-box;top: 0;bottom: 0;left: 50%;z-index: -1;}#sk-container-id-2 div.sk-parallel-item {display: flex;flex-direction: column;z-index: 1;position: relative;background-color: white;}#sk-container-id-2 div.sk-parallel-item:first-child::after {align-self: flex-end;width: 50%;}#sk-container-id-2 div.sk-parallel-item:last-child::after {align-self: flex-start;width: 50%;}#sk-container-id-2 div.sk-parallel-item:only-child::after {width: 0;}#sk-container-id-2 div.sk-dashed-wrapped {border: 1px dashed gray;margin: 0 0.4em 0.5em 0.4em;box-sizing: border-box;padding-bottom: 0.4em;background-color: white;}#sk-container-id-2 div.sk-label label {font-family: monospace;font-weight: bold;display: inline-block;line-height: 1.2em;}#sk-container-id-2 div.sk-label-container {text-align: center;}#sk-container-id-2 div.sk-container {/* jupyter's `normalize.less` sets `[hidden] { display: none; }` but bootstrap.min.css set `[hidden] { display: none !important; }` so we also need the `!important` here to be able to override the default hidden behavior on the sphinx rendered scikit-learn.org. See: https://github.com/scikit-learn/scikit-learn/issues/21755 */display: inline-block !important;position: relative;}#sk-container-id-2 div.sk-text-repr-fallback {display: none;}</style><div id=\"sk-container-id-2\" class=\"sk-top-container\"><div class=\"sk-text-repr-fallback\"><pre>RandomForestClassifier(max_depth=27, n_estimators=50, random_state=21)</pre><b>In a Jupyter environment, please rerun this cell to show the HTML representation or trust the notebook. <br />On GitHub, the HTML representation is unable to render, please try loading this page with nbviewer.org.</b></div><div class=\"sk-container\" hidden><div class=\"sk-item\"><div class=\"sk-estimator sk-toggleable\"><input class=\"sk-toggleable__control sk-hidden--visually\" id=\"sk-estimator-id-2\" type=\"checkbox\" checked><label for=\"sk-estimator-id-2\" class=\"sk-toggleable__label sk-toggleable__label-arrow\">RandomForestClassifier</label><div class=\"sk-toggleable__content\"><pre>RandomForestClassifier(max_depth=27, n_estimators=50, random_state=21)</pre></div></div></div></div></div>"
      ],
      "text/plain": [
       "RandomForestClassifier(max_depth=27, n_estimators=50, random_state=21)"
      ]
     },
     "execution_count": 29,
     "metadata": {},
     "output_type": "execute_result"
    }
   ],
   "source": [
    "best_model_1"
   ]
  }
 ],
 "metadata": {
  "kernelspec": {
   "display_name": "Python 3.9.12 ('base')",
   "language": "python",
   "name": "python3"
  },
  "language_info": {
   "codemirror_mode": {
    "name": "ipython",
    "version": 3
   },
   "file_extension": ".py",
   "mimetype": "text/x-python",
   "name": "python",
   "nbconvert_exporter": "python",
   "pygments_lexer": "ipython3",
   "version": "3.9.12"
  },
  "orig_nbformat": 4,
  "vscode": {
   "interpreter": {
    "hash": "52d9bec1bd0dd1d60d9f041927d73dc99a1ae836019e05c066f33f67e6a94d9c"
   }
  }
 },
 "nbformat": 4,
 "nbformat_minor": 2
}
