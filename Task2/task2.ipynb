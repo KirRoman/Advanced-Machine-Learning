{
 "cells": [
  {
   "cell_type": "markdown",
   "metadata": {},
   "source": [
    "## Day 14. Task 02\n",
    "## Gridsearch\n",
    "### 0. Импорты"
   ]
  },
  {
   "cell_type": "code",
   "execution_count": 1,
   "metadata": {},
   "outputs": [],
   "source": [
    "import pandas as pd\n",
    "from sklearn.model_selection import train_test_split\n",
    "from sklearn.model_selection import GridSearchCV\n",
    "from sklearn.svm import SVC\n",
    "from sklearn.tree import DecisionTreeClassifier\n",
    "from sklearn.ensemble import RandomForestClassifier\n",
    "from sklearn.model_selection import cross_val_score\n",
    "from tqdm.notebook import trange\n",
    "from sklearn.metrics import accuracy_score\n",
    "pd.set_option('display.max_colwidth', None)"
   ]
  },
  {
   "cell_type": "markdown",
   "metadata": {},
   "source": [
    "### 1. Препроцессинг\n",
    " \n",
    "1. Загрузите файл из: datasets/day-of-week-not-scaled.csv. Он похож на датасет из предыдущего задания, но в этот раз в нем численные переменные не были стандартизированы (мы больше не будем пользоваться логистической регрессией).\n",
    "2. Воспользуйтесь train_test_split с параметрами test_size=0.2, random_state=21 и получите X_train, y_train, X_test, y_test. Используйте дополнительный параметр stratify."
   ]
  },
  {
   "cell_type": "code",
   "execution_count": 2,
   "metadata": {},
   "outputs": [
    {
     "data": {
      "text/html": [
       "<div>\n",
       "<style scoped>\n",
       "    .dataframe tbody tr th:only-of-type {\n",
       "        vertical-align: middle;\n",
       "    }\n",
       "\n",
       "    .dataframe tbody tr th {\n",
       "        vertical-align: top;\n",
       "    }\n",
       "\n",
       "    .dataframe thead th {\n",
       "        text-align: right;\n",
       "    }\n",
       "</style>\n",
       "<table border=\"1\" class=\"dataframe\">\n",
       "  <thead>\n",
       "    <tr style=\"text-align: right;\">\n",
       "      <th></th>\n",
       "      <th>numTrials</th>\n",
       "      <th>hour</th>\n",
       "      <th>dayofweek</th>\n",
       "      <th>uid_user_0</th>\n",
       "      <th>uid_user_1</th>\n",
       "      <th>uid_user_10</th>\n",
       "      <th>uid_user_11</th>\n",
       "      <th>uid_user_12</th>\n",
       "      <th>uid_user_13</th>\n",
       "      <th>uid_user_14</th>\n",
       "      <th>...</th>\n",
       "      <th>labname_lab02</th>\n",
       "      <th>labname_lab03</th>\n",
       "      <th>labname_lab03s</th>\n",
       "      <th>labname_lab05s</th>\n",
       "      <th>labname_laba04</th>\n",
       "      <th>labname_laba04s</th>\n",
       "      <th>labname_laba05</th>\n",
       "      <th>labname_laba06</th>\n",
       "      <th>labname_laba06s</th>\n",
       "      <th>labname_project1</th>\n",
       "    </tr>\n",
       "  </thead>\n",
       "  <tbody>\n",
       "    <tr>\n",
       "      <th>0</th>\n",
       "      <td>1</td>\n",
       "      <td>5</td>\n",
       "      <td>4</td>\n",
       "      <td>0.0</td>\n",
       "      <td>0.0</td>\n",
       "      <td>0.0</td>\n",
       "      <td>0.0</td>\n",
       "      <td>0.0</td>\n",
       "      <td>0.0</td>\n",
       "      <td>0.0</td>\n",
       "      <td>...</td>\n",
       "      <td>0.0</td>\n",
       "      <td>0.0</td>\n",
       "      <td>0.0</td>\n",
       "      <td>0.0</td>\n",
       "      <td>0.0</td>\n",
       "      <td>0.0</td>\n",
       "      <td>0.0</td>\n",
       "      <td>0.0</td>\n",
       "      <td>0.0</td>\n",
       "      <td>1.0</td>\n",
       "    </tr>\n",
       "    <tr>\n",
       "      <th>1</th>\n",
       "      <td>2</td>\n",
       "      <td>5</td>\n",
       "      <td>4</td>\n",
       "      <td>0.0</td>\n",
       "      <td>0.0</td>\n",
       "      <td>0.0</td>\n",
       "      <td>0.0</td>\n",
       "      <td>0.0</td>\n",
       "      <td>0.0</td>\n",
       "      <td>0.0</td>\n",
       "      <td>...</td>\n",
       "      <td>0.0</td>\n",
       "      <td>0.0</td>\n",
       "      <td>0.0</td>\n",
       "      <td>0.0</td>\n",
       "      <td>0.0</td>\n",
       "      <td>0.0</td>\n",
       "      <td>0.0</td>\n",
       "      <td>0.0</td>\n",
       "      <td>0.0</td>\n",
       "      <td>1.0</td>\n",
       "    </tr>\n",
       "    <tr>\n",
       "      <th>2</th>\n",
       "      <td>3</td>\n",
       "      <td>5</td>\n",
       "      <td>4</td>\n",
       "      <td>0.0</td>\n",
       "      <td>0.0</td>\n",
       "      <td>0.0</td>\n",
       "      <td>0.0</td>\n",
       "      <td>0.0</td>\n",
       "      <td>0.0</td>\n",
       "      <td>0.0</td>\n",
       "      <td>...</td>\n",
       "      <td>0.0</td>\n",
       "      <td>0.0</td>\n",
       "      <td>0.0</td>\n",
       "      <td>0.0</td>\n",
       "      <td>0.0</td>\n",
       "      <td>0.0</td>\n",
       "      <td>0.0</td>\n",
       "      <td>0.0</td>\n",
       "      <td>0.0</td>\n",
       "      <td>1.0</td>\n",
       "    </tr>\n",
       "    <tr>\n",
       "      <th>3</th>\n",
       "      <td>4</td>\n",
       "      <td>5</td>\n",
       "      <td>4</td>\n",
       "      <td>0.0</td>\n",
       "      <td>0.0</td>\n",
       "      <td>0.0</td>\n",
       "      <td>0.0</td>\n",
       "      <td>0.0</td>\n",
       "      <td>0.0</td>\n",
       "      <td>0.0</td>\n",
       "      <td>...</td>\n",
       "      <td>0.0</td>\n",
       "      <td>0.0</td>\n",
       "      <td>0.0</td>\n",
       "      <td>0.0</td>\n",
       "      <td>0.0</td>\n",
       "      <td>0.0</td>\n",
       "      <td>0.0</td>\n",
       "      <td>0.0</td>\n",
       "      <td>0.0</td>\n",
       "      <td>1.0</td>\n",
       "    </tr>\n",
       "    <tr>\n",
       "      <th>4</th>\n",
       "      <td>5</td>\n",
       "      <td>5</td>\n",
       "      <td>4</td>\n",
       "      <td>0.0</td>\n",
       "      <td>0.0</td>\n",
       "      <td>0.0</td>\n",
       "      <td>0.0</td>\n",
       "      <td>0.0</td>\n",
       "      <td>0.0</td>\n",
       "      <td>0.0</td>\n",
       "      <td>...</td>\n",
       "      <td>0.0</td>\n",
       "      <td>0.0</td>\n",
       "      <td>0.0</td>\n",
       "      <td>0.0</td>\n",
       "      <td>0.0</td>\n",
       "      <td>0.0</td>\n",
       "      <td>0.0</td>\n",
       "      <td>0.0</td>\n",
       "      <td>0.0</td>\n",
       "      <td>1.0</td>\n",
       "    </tr>\n",
       "    <tr>\n",
       "      <th>...</th>\n",
       "      <td>...</td>\n",
       "      <td>...</td>\n",
       "      <td>...</td>\n",
       "      <td>...</td>\n",
       "      <td>...</td>\n",
       "      <td>...</td>\n",
       "      <td>...</td>\n",
       "      <td>...</td>\n",
       "      <td>...</td>\n",
       "      <td>...</td>\n",
       "      <td>...</td>\n",
       "      <td>...</td>\n",
       "      <td>...</td>\n",
       "      <td>...</td>\n",
       "      <td>...</td>\n",
       "      <td>...</td>\n",
       "      <td>...</td>\n",
       "      <td>...</td>\n",
       "      <td>...</td>\n",
       "      <td>...</td>\n",
       "      <td>...</td>\n",
       "    </tr>\n",
       "    <tr>\n",
       "      <th>1681</th>\n",
       "      <td>9</td>\n",
       "      <td>20</td>\n",
       "      <td>3</td>\n",
       "      <td>0.0</td>\n",
       "      <td>0.0</td>\n",
       "      <td>0.0</td>\n",
       "      <td>0.0</td>\n",
       "      <td>0.0</td>\n",
       "      <td>0.0</td>\n",
       "      <td>0.0</td>\n",
       "      <td>...</td>\n",
       "      <td>0.0</td>\n",
       "      <td>0.0</td>\n",
       "      <td>0.0</td>\n",
       "      <td>0.0</td>\n",
       "      <td>0.0</td>\n",
       "      <td>0.0</td>\n",
       "      <td>0.0</td>\n",
       "      <td>0.0</td>\n",
       "      <td>1.0</td>\n",
       "      <td>0.0</td>\n",
       "    </tr>\n",
       "    <tr>\n",
       "      <th>1682</th>\n",
       "      <td>6</td>\n",
       "      <td>20</td>\n",
       "      <td>3</td>\n",
       "      <td>0.0</td>\n",
       "      <td>1.0</td>\n",
       "      <td>0.0</td>\n",
       "      <td>0.0</td>\n",
       "      <td>0.0</td>\n",
       "      <td>0.0</td>\n",
       "      <td>0.0</td>\n",
       "      <td>...</td>\n",
       "      <td>0.0</td>\n",
       "      <td>0.0</td>\n",
       "      <td>0.0</td>\n",
       "      <td>0.0</td>\n",
       "      <td>0.0</td>\n",
       "      <td>0.0</td>\n",
       "      <td>0.0</td>\n",
       "      <td>0.0</td>\n",
       "      <td>1.0</td>\n",
       "      <td>0.0</td>\n",
       "    </tr>\n",
       "    <tr>\n",
       "      <th>1683</th>\n",
       "      <td>7</td>\n",
       "      <td>20</td>\n",
       "      <td>3</td>\n",
       "      <td>0.0</td>\n",
       "      <td>1.0</td>\n",
       "      <td>0.0</td>\n",
       "      <td>0.0</td>\n",
       "      <td>0.0</td>\n",
       "      <td>0.0</td>\n",
       "      <td>0.0</td>\n",
       "      <td>...</td>\n",
       "      <td>0.0</td>\n",
       "      <td>0.0</td>\n",
       "      <td>0.0</td>\n",
       "      <td>0.0</td>\n",
       "      <td>0.0</td>\n",
       "      <td>0.0</td>\n",
       "      <td>0.0</td>\n",
       "      <td>0.0</td>\n",
       "      <td>1.0</td>\n",
       "      <td>0.0</td>\n",
       "    </tr>\n",
       "    <tr>\n",
       "      <th>1684</th>\n",
       "      <td>8</td>\n",
       "      <td>20</td>\n",
       "      <td>3</td>\n",
       "      <td>0.0</td>\n",
       "      <td>1.0</td>\n",
       "      <td>0.0</td>\n",
       "      <td>0.0</td>\n",
       "      <td>0.0</td>\n",
       "      <td>0.0</td>\n",
       "      <td>0.0</td>\n",
       "      <td>...</td>\n",
       "      <td>0.0</td>\n",
       "      <td>0.0</td>\n",
       "      <td>0.0</td>\n",
       "      <td>0.0</td>\n",
       "      <td>0.0</td>\n",
       "      <td>0.0</td>\n",
       "      <td>0.0</td>\n",
       "      <td>0.0</td>\n",
       "      <td>1.0</td>\n",
       "      <td>0.0</td>\n",
       "    </tr>\n",
       "    <tr>\n",
       "      <th>1685</th>\n",
       "      <td>9</td>\n",
       "      <td>20</td>\n",
       "      <td>3</td>\n",
       "      <td>0.0</td>\n",
       "      <td>1.0</td>\n",
       "      <td>0.0</td>\n",
       "      <td>0.0</td>\n",
       "      <td>0.0</td>\n",
       "      <td>0.0</td>\n",
       "      <td>0.0</td>\n",
       "      <td>...</td>\n",
       "      <td>0.0</td>\n",
       "      <td>0.0</td>\n",
       "      <td>0.0</td>\n",
       "      <td>0.0</td>\n",
       "      <td>0.0</td>\n",
       "      <td>0.0</td>\n",
       "      <td>0.0</td>\n",
       "      <td>0.0</td>\n",
       "      <td>1.0</td>\n",
       "      <td>0.0</td>\n",
       "    </tr>\n",
       "  </tbody>\n",
       "</table>\n",
       "<p>1686 rows × 44 columns</p>\n",
       "</div>"
      ],
      "text/plain": [
       "      numTrials  hour  dayofweek  uid_user_0  uid_user_1  uid_user_10  \\\n",
       "0             1     5          4         0.0         0.0          0.0   \n",
       "1             2     5          4         0.0         0.0          0.0   \n",
       "2             3     5          4         0.0         0.0          0.0   \n",
       "3             4     5          4         0.0         0.0          0.0   \n",
       "4             5     5          4         0.0         0.0          0.0   \n",
       "...         ...   ...        ...         ...         ...          ...   \n",
       "1681          9    20          3         0.0         0.0          0.0   \n",
       "1682          6    20          3         0.0         1.0          0.0   \n",
       "1683          7    20          3         0.0         1.0          0.0   \n",
       "1684          8    20          3         0.0         1.0          0.0   \n",
       "1685          9    20          3         0.0         1.0          0.0   \n",
       "\n",
       "      uid_user_11  uid_user_12  uid_user_13  uid_user_14  ...  labname_lab02  \\\n",
       "0             0.0          0.0          0.0          0.0  ...            0.0   \n",
       "1             0.0          0.0          0.0          0.0  ...            0.0   \n",
       "2             0.0          0.0          0.0          0.0  ...            0.0   \n",
       "3             0.0          0.0          0.0          0.0  ...            0.0   \n",
       "4             0.0          0.0          0.0          0.0  ...            0.0   \n",
       "...           ...          ...          ...          ...  ...            ...   \n",
       "1681          0.0          0.0          0.0          0.0  ...            0.0   \n",
       "1682          0.0          0.0          0.0          0.0  ...            0.0   \n",
       "1683          0.0          0.0          0.0          0.0  ...            0.0   \n",
       "1684          0.0          0.0          0.0          0.0  ...            0.0   \n",
       "1685          0.0          0.0          0.0          0.0  ...            0.0   \n",
       "\n",
       "      labname_lab03  labname_lab03s  labname_lab05s  labname_laba04  \\\n",
       "0               0.0             0.0             0.0             0.0   \n",
       "1               0.0             0.0             0.0             0.0   \n",
       "2               0.0             0.0             0.0             0.0   \n",
       "3               0.0             0.0             0.0             0.0   \n",
       "4               0.0             0.0             0.0             0.0   \n",
       "...             ...             ...             ...             ...   \n",
       "1681            0.0             0.0             0.0             0.0   \n",
       "1682            0.0             0.0             0.0             0.0   \n",
       "1683            0.0             0.0             0.0             0.0   \n",
       "1684            0.0             0.0             0.0             0.0   \n",
       "1685            0.0             0.0             0.0             0.0   \n",
       "\n",
       "      labname_laba04s  labname_laba05  labname_laba06  labname_laba06s  \\\n",
       "0                 0.0             0.0             0.0              0.0   \n",
       "1                 0.0             0.0             0.0              0.0   \n",
       "2                 0.0             0.0             0.0              0.0   \n",
       "3                 0.0             0.0             0.0              0.0   \n",
       "4                 0.0             0.0             0.0              0.0   \n",
       "...               ...             ...             ...              ...   \n",
       "1681              0.0             0.0             0.0              1.0   \n",
       "1682              0.0             0.0             0.0              1.0   \n",
       "1683              0.0             0.0             0.0              1.0   \n",
       "1684              0.0             0.0             0.0              1.0   \n",
       "1685              0.0             0.0             0.0              1.0   \n",
       "\n",
       "      labname_project1  \n",
       "0                  1.0  \n",
       "1                  1.0  \n",
       "2                  1.0  \n",
       "3                  1.0  \n",
       "4                  1.0  \n",
       "...                ...  \n",
       "1681               0.0  \n",
       "1682               0.0  \n",
       "1683               0.0  \n",
       "1684               0.0  \n",
       "1685               0.0  \n",
       "\n",
       "[1686 rows x 44 columns]"
      ]
     },
     "execution_count": 2,
     "metadata": {},
     "output_type": "execute_result"
    }
   ],
   "source": [
    "df = pd.read_csv('day-of-week-not-scaled.csv')\n",
    "df"
   ]
  },
  {
   "cell_type": "code",
   "execution_count": 3,
   "metadata": {},
   "outputs": [
    {
     "data": {
      "text/html": [
       "<div>\n",
       "<style scoped>\n",
       "    .dataframe tbody tr th:only-of-type {\n",
       "        vertical-align: middle;\n",
       "    }\n",
       "\n",
       "    .dataframe tbody tr th {\n",
       "        vertical-align: top;\n",
       "    }\n",
       "\n",
       "    .dataframe thead th {\n",
       "        text-align: right;\n",
       "    }\n",
       "</style>\n",
       "<table border=\"1\" class=\"dataframe\">\n",
       "  <thead>\n",
       "    <tr style=\"text-align: right;\">\n",
       "      <th></th>\n",
       "      <th>numTrials</th>\n",
       "      <th>hour</th>\n",
       "      <th>uid_user_0</th>\n",
       "      <th>uid_user_1</th>\n",
       "      <th>uid_user_10</th>\n",
       "      <th>uid_user_11</th>\n",
       "      <th>uid_user_12</th>\n",
       "      <th>uid_user_13</th>\n",
       "      <th>uid_user_14</th>\n",
       "      <th>uid_user_15</th>\n",
       "      <th>...</th>\n",
       "      <th>labname_lab02</th>\n",
       "      <th>labname_lab03</th>\n",
       "      <th>labname_lab03s</th>\n",
       "      <th>labname_lab05s</th>\n",
       "      <th>labname_laba04</th>\n",
       "      <th>labname_laba04s</th>\n",
       "      <th>labname_laba05</th>\n",
       "      <th>labname_laba06</th>\n",
       "      <th>labname_laba06s</th>\n",
       "      <th>labname_project1</th>\n",
       "    </tr>\n",
       "  </thead>\n",
       "  <tbody>\n",
       "    <tr>\n",
       "      <th>0</th>\n",
       "      <td>1</td>\n",
       "      <td>5</td>\n",
       "      <td>0.0</td>\n",
       "      <td>0.0</td>\n",
       "      <td>0.0</td>\n",
       "      <td>0.0</td>\n",
       "      <td>0.0</td>\n",
       "      <td>0.0</td>\n",
       "      <td>0.0</td>\n",
       "      <td>0.0</td>\n",
       "      <td>...</td>\n",
       "      <td>0.0</td>\n",
       "      <td>0.0</td>\n",
       "      <td>0.0</td>\n",
       "      <td>0.0</td>\n",
       "      <td>0.0</td>\n",
       "      <td>0.0</td>\n",
       "      <td>0.0</td>\n",
       "      <td>0.0</td>\n",
       "      <td>0.0</td>\n",
       "      <td>1.0</td>\n",
       "    </tr>\n",
       "    <tr>\n",
       "      <th>1</th>\n",
       "      <td>2</td>\n",
       "      <td>5</td>\n",
       "      <td>0.0</td>\n",
       "      <td>0.0</td>\n",
       "      <td>0.0</td>\n",
       "      <td>0.0</td>\n",
       "      <td>0.0</td>\n",
       "      <td>0.0</td>\n",
       "      <td>0.0</td>\n",
       "      <td>0.0</td>\n",
       "      <td>...</td>\n",
       "      <td>0.0</td>\n",
       "      <td>0.0</td>\n",
       "      <td>0.0</td>\n",
       "      <td>0.0</td>\n",
       "      <td>0.0</td>\n",
       "      <td>0.0</td>\n",
       "      <td>0.0</td>\n",
       "      <td>0.0</td>\n",
       "      <td>0.0</td>\n",
       "      <td>1.0</td>\n",
       "    </tr>\n",
       "    <tr>\n",
       "      <th>2</th>\n",
       "      <td>3</td>\n",
       "      <td>5</td>\n",
       "      <td>0.0</td>\n",
       "      <td>0.0</td>\n",
       "      <td>0.0</td>\n",
       "      <td>0.0</td>\n",
       "      <td>0.0</td>\n",
       "      <td>0.0</td>\n",
       "      <td>0.0</td>\n",
       "      <td>0.0</td>\n",
       "      <td>...</td>\n",
       "      <td>0.0</td>\n",
       "      <td>0.0</td>\n",
       "      <td>0.0</td>\n",
       "      <td>0.0</td>\n",
       "      <td>0.0</td>\n",
       "      <td>0.0</td>\n",
       "      <td>0.0</td>\n",
       "      <td>0.0</td>\n",
       "      <td>0.0</td>\n",
       "      <td>1.0</td>\n",
       "    </tr>\n",
       "    <tr>\n",
       "      <th>3</th>\n",
       "      <td>4</td>\n",
       "      <td>5</td>\n",
       "      <td>0.0</td>\n",
       "      <td>0.0</td>\n",
       "      <td>0.0</td>\n",
       "      <td>0.0</td>\n",
       "      <td>0.0</td>\n",
       "      <td>0.0</td>\n",
       "      <td>0.0</td>\n",
       "      <td>0.0</td>\n",
       "      <td>...</td>\n",
       "      <td>0.0</td>\n",
       "      <td>0.0</td>\n",
       "      <td>0.0</td>\n",
       "      <td>0.0</td>\n",
       "      <td>0.0</td>\n",
       "      <td>0.0</td>\n",
       "      <td>0.0</td>\n",
       "      <td>0.0</td>\n",
       "      <td>0.0</td>\n",
       "      <td>1.0</td>\n",
       "    </tr>\n",
       "    <tr>\n",
       "      <th>4</th>\n",
       "      <td>5</td>\n",
       "      <td>5</td>\n",
       "      <td>0.0</td>\n",
       "      <td>0.0</td>\n",
       "      <td>0.0</td>\n",
       "      <td>0.0</td>\n",
       "      <td>0.0</td>\n",
       "      <td>0.0</td>\n",
       "      <td>0.0</td>\n",
       "      <td>0.0</td>\n",
       "      <td>...</td>\n",
       "      <td>0.0</td>\n",
       "      <td>0.0</td>\n",
       "      <td>0.0</td>\n",
       "      <td>0.0</td>\n",
       "      <td>0.0</td>\n",
       "      <td>0.0</td>\n",
       "      <td>0.0</td>\n",
       "      <td>0.0</td>\n",
       "      <td>0.0</td>\n",
       "      <td>1.0</td>\n",
       "    </tr>\n",
       "    <tr>\n",
       "      <th>...</th>\n",
       "      <td>...</td>\n",
       "      <td>...</td>\n",
       "      <td>...</td>\n",
       "      <td>...</td>\n",
       "      <td>...</td>\n",
       "      <td>...</td>\n",
       "      <td>...</td>\n",
       "      <td>...</td>\n",
       "      <td>...</td>\n",
       "      <td>...</td>\n",
       "      <td>...</td>\n",
       "      <td>...</td>\n",
       "      <td>...</td>\n",
       "      <td>...</td>\n",
       "      <td>...</td>\n",
       "      <td>...</td>\n",
       "      <td>...</td>\n",
       "      <td>...</td>\n",
       "      <td>...</td>\n",
       "      <td>...</td>\n",
       "      <td>...</td>\n",
       "    </tr>\n",
       "    <tr>\n",
       "      <th>1681</th>\n",
       "      <td>9</td>\n",
       "      <td>20</td>\n",
       "      <td>0.0</td>\n",
       "      <td>0.0</td>\n",
       "      <td>0.0</td>\n",
       "      <td>0.0</td>\n",
       "      <td>0.0</td>\n",
       "      <td>0.0</td>\n",
       "      <td>0.0</td>\n",
       "      <td>0.0</td>\n",
       "      <td>...</td>\n",
       "      <td>0.0</td>\n",
       "      <td>0.0</td>\n",
       "      <td>0.0</td>\n",
       "      <td>0.0</td>\n",
       "      <td>0.0</td>\n",
       "      <td>0.0</td>\n",
       "      <td>0.0</td>\n",
       "      <td>0.0</td>\n",
       "      <td>1.0</td>\n",
       "      <td>0.0</td>\n",
       "    </tr>\n",
       "    <tr>\n",
       "      <th>1682</th>\n",
       "      <td>6</td>\n",
       "      <td>20</td>\n",
       "      <td>0.0</td>\n",
       "      <td>1.0</td>\n",
       "      <td>0.0</td>\n",
       "      <td>0.0</td>\n",
       "      <td>0.0</td>\n",
       "      <td>0.0</td>\n",
       "      <td>0.0</td>\n",
       "      <td>0.0</td>\n",
       "      <td>...</td>\n",
       "      <td>0.0</td>\n",
       "      <td>0.0</td>\n",
       "      <td>0.0</td>\n",
       "      <td>0.0</td>\n",
       "      <td>0.0</td>\n",
       "      <td>0.0</td>\n",
       "      <td>0.0</td>\n",
       "      <td>0.0</td>\n",
       "      <td>1.0</td>\n",
       "      <td>0.0</td>\n",
       "    </tr>\n",
       "    <tr>\n",
       "      <th>1683</th>\n",
       "      <td>7</td>\n",
       "      <td>20</td>\n",
       "      <td>0.0</td>\n",
       "      <td>1.0</td>\n",
       "      <td>0.0</td>\n",
       "      <td>0.0</td>\n",
       "      <td>0.0</td>\n",
       "      <td>0.0</td>\n",
       "      <td>0.0</td>\n",
       "      <td>0.0</td>\n",
       "      <td>...</td>\n",
       "      <td>0.0</td>\n",
       "      <td>0.0</td>\n",
       "      <td>0.0</td>\n",
       "      <td>0.0</td>\n",
       "      <td>0.0</td>\n",
       "      <td>0.0</td>\n",
       "      <td>0.0</td>\n",
       "      <td>0.0</td>\n",
       "      <td>1.0</td>\n",
       "      <td>0.0</td>\n",
       "    </tr>\n",
       "    <tr>\n",
       "      <th>1684</th>\n",
       "      <td>8</td>\n",
       "      <td>20</td>\n",
       "      <td>0.0</td>\n",
       "      <td>1.0</td>\n",
       "      <td>0.0</td>\n",
       "      <td>0.0</td>\n",
       "      <td>0.0</td>\n",
       "      <td>0.0</td>\n",
       "      <td>0.0</td>\n",
       "      <td>0.0</td>\n",
       "      <td>...</td>\n",
       "      <td>0.0</td>\n",
       "      <td>0.0</td>\n",
       "      <td>0.0</td>\n",
       "      <td>0.0</td>\n",
       "      <td>0.0</td>\n",
       "      <td>0.0</td>\n",
       "      <td>0.0</td>\n",
       "      <td>0.0</td>\n",
       "      <td>1.0</td>\n",
       "      <td>0.0</td>\n",
       "    </tr>\n",
       "    <tr>\n",
       "      <th>1685</th>\n",
       "      <td>9</td>\n",
       "      <td>20</td>\n",
       "      <td>0.0</td>\n",
       "      <td>1.0</td>\n",
       "      <td>0.0</td>\n",
       "      <td>0.0</td>\n",
       "      <td>0.0</td>\n",
       "      <td>0.0</td>\n",
       "      <td>0.0</td>\n",
       "      <td>0.0</td>\n",
       "      <td>...</td>\n",
       "      <td>0.0</td>\n",
       "      <td>0.0</td>\n",
       "      <td>0.0</td>\n",
       "      <td>0.0</td>\n",
       "      <td>0.0</td>\n",
       "      <td>0.0</td>\n",
       "      <td>0.0</td>\n",
       "      <td>0.0</td>\n",
       "      <td>1.0</td>\n",
       "      <td>0.0</td>\n",
       "    </tr>\n",
       "  </tbody>\n",
       "</table>\n",
       "<p>1686 rows × 43 columns</p>\n",
       "</div>"
      ],
      "text/plain": [
       "      numTrials  hour  uid_user_0  uid_user_1  uid_user_10  uid_user_11  \\\n",
       "0             1     5         0.0         0.0          0.0          0.0   \n",
       "1             2     5         0.0         0.0          0.0          0.0   \n",
       "2             3     5         0.0         0.0          0.0          0.0   \n",
       "3             4     5         0.0         0.0          0.0          0.0   \n",
       "4             5     5         0.0         0.0          0.0          0.0   \n",
       "...         ...   ...         ...         ...          ...          ...   \n",
       "1681          9    20         0.0         0.0          0.0          0.0   \n",
       "1682          6    20         0.0         1.0          0.0          0.0   \n",
       "1683          7    20         0.0         1.0          0.0          0.0   \n",
       "1684          8    20         0.0         1.0          0.0          0.0   \n",
       "1685          9    20         0.0         1.0          0.0          0.0   \n",
       "\n",
       "      uid_user_12  uid_user_13  uid_user_14  uid_user_15  ...  labname_lab02  \\\n",
       "0             0.0          0.0          0.0          0.0  ...            0.0   \n",
       "1             0.0          0.0          0.0          0.0  ...            0.0   \n",
       "2             0.0          0.0          0.0          0.0  ...            0.0   \n",
       "3             0.0          0.0          0.0          0.0  ...            0.0   \n",
       "4             0.0          0.0          0.0          0.0  ...            0.0   \n",
       "...           ...          ...          ...          ...  ...            ...   \n",
       "1681          0.0          0.0          0.0          0.0  ...            0.0   \n",
       "1682          0.0          0.0          0.0          0.0  ...            0.0   \n",
       "1683          0.0          0.0          0.0          0.0  ...            0.0   \n",
       "1684          0.0          0.0          0.0          0.0  ...            0.0   \n",
       "1685          0.0          0.0          0.0          0.0  ...            0.0   \n",
       "\n",
       "      labname_lab03  labname_lab03s  labname_lab05s  labname_laba04  \\\n",
       "0               0.0             0.0             0.0             0.0   \n",
       "1               0.0             0.0             0.0             0.0   \n",
       "2               0.0             0.0             0.0             0.0   \n",
       "3               0.0             0.0             0.0             0.0   \n",
       "4               0.0             0.0             0.0             0.0   \n",
       "...             ...             ...             ...             ...   \n",
       "1681            0.0             0.0             0.0             0.0   \n",
       "1682            0.0             0.0             0.0             0.0   \n",
       "1683            0.0             0.0             0.0             0.0   \n",
       "1684            0.0             0.0             0.0             0.0   \n",
       "1685            0.0             0.0             0.0             0.0   \n",
       "\n",
       "      labname_laba04s  labname_laba05  labname_laba06  labname_laba06s  \\\n",
       "0                 0.0             0.0             0.0              0.0   \n",
       "1                 0.0             0.0             0.0              0.0   \n",
       "2                 0.0             0.0             0.0              0.0   \n",
       "3                 0.0             0.0             0.0              0.0   \n",
       "4                 0.0             0.0             0.0              0.0   \n",
       "...               ...             ...             ...              ...   \n",
       "1681              0.0             0.0             0.0              1.0   \n",
       "1682              0.0             0.0             0.0              1.0   \n",
       "1683              0.0             0.0             0.0              1.0   \n",
       "1684              0.0             0.0             0.0              1.0   \n",
       "1685              0.0             0.0             0.0              1.0   \n",
       "\n",
       "      labname_project1  \n",
       "0                  1.0  \n",
       "1                  1.0  \n",
       "2                  1.0  \n",
       "3                  1.0  \n",
       "4                  1.0  \n",
       "...                ...  \n",
       "1681               0.0  \n",
       "1682               0.0  \n",
       "1683               0.0  \n",
       "1684               0.0  \n",
       "1685               0.0  \n",
       "\n",
       "[1686 rows x 43 columns]"
      ]
     },
     "execution_count": 3,
     "metadata": {},
     "output_type": "execute_result"
    }
   ],
   "source": [
    "X = df.drop(columns=['dayofweek'])\n",
    "X"
   ]
  },
  {
   "cell_type": "code",
   "execution_count": 4,
   "metadata": {},
   "outputs": [
    {
     "data": {
      "text/plain": [
       "0       4\n",
       "1       4\n",
       "2       4\n",
       "3       4\n",
       "4       4\n",
       "       ..\n",
       "1681    3\n",
       "1682    3\n",
       "1683    3\n",
       "1684    3\n",
       "1685    3\n",
       "Name: dayofweek, Length: 1686, dtype: int64"
      ]
     },
     "execution_count": 4,
     "metadata": {},
     "output_type": "execute_result"
    }
   ],
   "source": [
    "y = df['dayofweek']\n",
    "y"
   ]
  },
  {
   "cell_type": "code",
   "execution_count": 5,
   "metadata": {},
   "outputs": [],
   "source": [
    "X_train, X_test, y_train, y_test = train_test_split(X, y, stratify=y, test_size=0.2, random_state=21)"
   ]
  },
  {
   "cell_type": "code",
   "execution_count": 6,
   "metadata": {},
   "outputs": [
    {
     "data": {
      "text/html": [
       "<div>\n",
       "<style scoped>\n",
       "    .dataframe tbody tr th:only-of-type {\n",
       "        vertical-align: middle;\n",
       "    }\n",
       "\n",
       "    .dataframe tbody tr th {\n",
       "        vertical-align: top;\n",
       "    }\n",
       "\n",
       "    .dataframe thead th {\n",
       "        text-align: right;\n",
       "    }\n",
       "</style>\n",
       "<table border=\"1\" class=\"dataframe\">\n",
       "  <thead>\n",
       "    <tr style=\"text-align: right;\">\n",
       "      <th></th>\n",
       "      <th>numTrials</th>\n",
       "      <th>hour</th>\n",
       "      <th>uid_user_0</th>\n",
       "      <th>uid_user_1</th>\n",
       "      <th>uid_user_10</th>\n",
       "      <th>uid_user_11</th>\n",
       "      <th>uid_user_12</th>\n",
       "      <th>uid_user_13</th>\n",
       "      <th>uid_user_14</th>\n",
       "      <th>uid_user_15</th>\n",
       "      <th>...</th>\n",
       "      <th>labname_lab02</th>\n",
       "      <th>labname_lab03</th>\n",
       "      <th>labname_lab03s</th>\n",
       "      <th>labname_lab05s</th>\n",
       "      <th>labname_laba04</th>\n",
       "      <th>labname_laba04s</th>\n",
       "      <th>labname_laba05</th>\n",
       "      <th>labname_laba06</th>\n",
       "      <th>labname_laba06s</th>\n",
       "      <th>labname_project1</th>\n",
       "    </tr>\n",
       "  </thead>\n",
       "  <tbody>\n",
       "    <tr>\n",
       "      <th>860</th>\n",
       "      <td>3</td>\n",
       "      <td>13</td>\n",
       "      <td>0.0</td>\n",
       "      <td>0.0</td>\n",
       "      <td>0.0</td>\n",
       "      <td>0.0</td>\n",
       "      <td>0.0</td>\n",
       "      <td>0.0</td>\n",
       "      <td>0.0</td>\n",
       "      <td>0.0</td>\n",
       "      <td>...</td>\n",
       "      <td>0.0</td>\n",
       "      <td>0.0</td>\n",
       "      <td>0.0</td>\n",
       "      <td>0.0</td>\n",
       "      <td>0.0</td>\n",
       "      <td>0.0</td>\n",
       "      <td>0.0</td>\n",
       "      <td>0.0</td>\n",
       "      <td>0.0</td>\n",
       "      <td>1.0</td>\n",
       "    </tr>\n",
       "    <tr>\n",
       "      <th>385</th>\n",
       "      <td>6</td>\n",
       "      <td>11</td>\n",
       "      <td>0.0</td>\n",
       "      <td>0.0</td>\n",
       "      <td>0.0</td>\n",
       "      <td>0.0</td>\n",
       "      <td>0.0</td>\n",
       "      <td>0.0</td>\n",
       "      <td>0.0</td>\n",
       "      <td>0.0</td>\n",
       "      <td>...</td>\n",
       "      <td>0.0</td>\n",
       "      <td>0.0</td>\n",
       "      <td>0.0</td>\n",
       "      <td>0.0</td>\n",
       "      <td>0.0</td>\n",
       "      <td>0.0</td>\n",
       "      <td>1.0</td>\n",
       "      <td>0.0</td>\n",
       "      <td>0.0</td>\n",
       "      <td>0.0</td>\n",
       "    </tr>\n",
       "    <tr>\n",
       "      <th>422</th>\n",
       "      <td>1</td>\n",
       "      <td>10</td>\n",
       "      <td>0.0</td>\n",
       "      <td>0.0</td>\n",
       "      <td>0.0</td>\n",
       "      <td>0.0</td>\n",
       "      <td>0.0</td>\n",
       "      <td>0.0</td>\n",
       "      <td>0.0</td>\n",
       "      <td>0.0</td>\n",
       "      <td>...</td>\n",
       "      <td>0.0</td>\n",
       "      <td>0.0</td>\n",
       "      <td>0.0</td>\n",
       "      <td>1.0</td>\n",
       "      <td>0.0</td>\n",
       "      <td>0.0</td>\n",
       "      <td>0.0</td>\n",
       "      <td>0.0</td>\n",
       "      <td>0.0</td>\n",
       "      <td>0.0</td>\n",
       "    </tr>\n",
       "    <tr>\n",
       "      <th>326</th>\n",
       "      <td>9</td>\n",
       "      <td>20</td>\n",
       "      <td>0.0</td>\n",
       "      <td>0.0</td>\n",
       "      <td>0.0</td>\n",
       "      <td>0.0</td>\n",
       "      <td>0.0</td>\n",
       "      <td>0.0</td>\n",
       "      <td>0.0</td>\n",
       "      <td>0.0</td>\n",
       "      <td>...</td>\n",
       "      <td>0.0</td>\n",
       "      <td>0.0</td>\n",
       "      <td>0.0</td>\n",
       "      <td>0.0</td>\n",
       "      <td>1.0</td>\n",
       "      <td>0.0</td>\n",
       "      <td>0.0</td>\n",
       "      <td>0.0</td>\n",
       "      <td>0.0</td>\n",
       "      <td>0.0</td>\n",
       "    </tr>\n",
       "    <tr>\n",
       "      <th>714</th>\n",
       "      <td>47</td>\n",
       "      <td>12</td>\n",
       "      <td>0.0</td>\n",
       "      <td>0.0</td>\n",
       "      <td>0.0</td>\n",
       "      <td>0.0</td>\n",
       "      <td>0.0</td>\n",
       "      <td>0.0</td>\n",
       "      <td>0.0</td>\n",
       "      <td>0.0</td>\n",
       "      <td>...</td>\n",
       "      <td>0.0</td>\n",
       "      <td>0.0</td>\n",
       "      <td>0.0</td>\n",
       "      <td>0.0</td>\n",
       "      <td>0.0</td>\n",
       "      <td>0.0</td>\n",
       "      <td>0.0</td>\n",
       "      <td>0.0</td>\n",
       "      <td>0.0</td>\n",
       "      <td>1.0</td>\n",
       "    </tr>\n",
       "    <tr>\n",
       "      <th>...</th>\n",
       "      <td>...</td>\n",
       "      <td>...</td>\n",
       "      <td>...</td>\n",
       "      <td>...</td>\n",
       "      <td>...</td>\n",
       "      <td>...</td>\n",
       "      <td>...</td>\n",
       "      <td>...</td>\n",
       "      <td>...</td>\n",
       "      <td>...</td>\n",
       "      <td>...</td>\n",
       "      <td>...</td>\n",
       "      <td>...</td>\n",
       "      <td>...</td>\n",
       "      <td>...</td>\n",
       "      <td>...</td>\n",
       "      <td>...</td>\n",
       "      <td>...</td>\n",
       "      <td>...</td>\n",
       "      <td>...</td>\n",
       "      <td>...</td>\n",
       "    </tr>\n",
       "    <tr>\n",
       "      <th>1413</th>\n",
       "      <td>10</td>\n",
       "      <td>16</td>\n",
       "      <td>0.0</td>\n",
       "      <td>0.0</td>\n",
       "      <td>0.0</td>\n",
       "      <td>0.0</td>\n",
       "      <td>0.0</td>\n",
       "      <td>0.0</td>\n",
       "      <td>0.0</td>\n",
       "      <td>0.0</td>\n",
       "      <td>...</td>\n",
       "      <td>0.0</td>\n",
       "      <td>0.0</td>\n",
       "      <td>0.0</td>\n",
       "      <td>0.0</td>\n",
       "      <td>0.0</td>\n",
       "      <td>0.0</td>\n",
       "      <td>0.0</td>\n",
       "      <td>0.0</td>\n",
       "      <td>0.0</td>\n",
       "      <td>1.0</td>\n",
       "    </tr>\n",
       "    <tr>\n",
       "      <th>1637</th>\n",
       "      <td>2</td>\n",
       "      <td>14</td>\n",
       "      <td>0.0</td>\n",
       "      <td>0.0</td>\n",
       "      <td>0.0</td>\n",
       "      <td>0.0</td>\n",
       "      <td>0.0</td>\n",
       "      <td>0.0</td>\n",
       "      <td>0.0</td>\n",
       "      <td>0.0</td>\n",
       "      <td>...</td>\n",
       "      <td>0.0</td>\n",
       "      <td>0.0</td>\n",
       "      <td>0.0</td>\n",
       "      <td>0.0</td>\n",
       "      <td>0.0</td>\n",
       "      <td>0.0</td>\n",
       "      <td>0.0</td>\n",
       "      <td>0.0</td>\n",
       "      <td>1.0</td>\n",
       "      <td>0.0</td>\n",
       "    </tr>\n",
       "    <tr>\n",
       "      <th>1334</th>\n",
       "      <td>71</td>\n",
       "      <td>13</td>\n",
       "      <td>0.0</td>\n",
       "      <td>0.0</td>\n",
       "      <td>0.0</td>\n",
       "      <td>0.0</td>\n",
       "      <td>0.0</td>\n",
       "      <td>0.0</td>\n",
       "      <td>0.0</td>\n",
       "      <td>0.0</td>\n",
       "      <td>...</td>\n",
       "      <td>0.0</td>\n",
       "      <td>0.0</td>\n",
       "      <td>0.0</td>\n",
       "      <td>0.0</td>\n",
       "      <td>0.0</td>\n",
       "      <td>0.0</td>\n",
       "      <td>0.0</td>\n",
       "      <td>0.0</td>\n",
       "      <td>0.0</td>\n",
       "      <td>1.0</td>\n",
       "    </tr>\n",
       "    <tr>\n",
       "      <th>979</th>\n",
       "      <td>49</td>\n",
       "      <td>19</td>\n",
       "      <td>0.0</td>\n",
       "      <td>0.0</td>\n",
       "      <td>0.0</td>\n",
       "      <td>0.0</td>\n",
       "      <td>0.0</td>\n",
       "      <td>0.0</td>\n",
       "      <td>0.0</td>\n",
       "      <td>0.0</td>\n",
       "      <td>...</td>\n",
       "      <td>0.0</td>\n",
       "      <td>0.0</td>\n",
       "      <td>0.0</td>\n",
       "      <td>0.0</td>\n",
       "      <td>0.0</td>\n",
       "      <td>0.0</td>\n",
       "      <td>0.0</td>\n",
       "      <td>0.0</td>\n",
       "      <td>0.0</td>\n",
       "      <td>1.0</td>\n",
       "    </tr>\n",
       "    <tr>\n",
       "      <th>1241</th>\n",
       "      <td>29</td>\n",
       "      <td>20</td>\n",
       "      <td>0.0</td>\n",
       "      <td>0.0</td>\n",
       "      <td>0.0</td>\n",
       "      <td>0.0</td>\n",
       "      <td>0.0</td>\n",
       "      <td>0.0</td>\n",
       "      <td>0.0</td>\n",
       "      <td>0.0</td>\n",
       "      <td>...</td>\n",
       "      <td>0.0</td>\n",
       "      <td>0.0</td>\n",
       "      <td>0.0</td>\n",
       "      <td>0.0</td>\n",
       "      <td>0.0</td>\n",
       "      <td>0.0</td>\n",
       "      <td>0.0</td>\n",
       "      <td>0.0</td>\n",
       "      <td>0.0</td>\n",
       "      <td>1.0</td>\n",
       "    </tr>\n",
       "  </tbody>\n",
       "</table>\n",
       "<p>1348 rows × 43 columns</p>\n",
       "</div>"
      ],
      "text/plain": [
       "      numTrials  hour  uid_user_0  uid_user_1  uid_user_10  uid_user_11  \\\n",
       "860           3    13         0.0         0.0          0.0          0.0   \n",
       "385           6    11         0.0         0.0          0.0          0.0   \n",
       "422           1    10         0.0         0.0          0.0          0.0   \n",
       "326           9    20         0.0         0.0          0.0          0.0   \n",
       "714          47    12         0.0         0.0          0.0          0.0   \n",
       "...         ...   ...         ...         ...          ...          ...   \n",
       "1413         10    16         0.0         0.0          0.0          0.0   \n",
       "1637          2    14         0.0         0.0          0.0          0.0   \n",
       "1334         71    13         0.0         0.0          0.0          0.0   \n",
       "979          49    19         0.0         0.0          0.0          0.0   \n",
       "1241         29    20         0.0         0.0          0.0          0.0   \n",
       "\n",
       "      uid_user_12  uid_user_13  uid_user_14  uid_user_15  ...  labname_lab02  \\\n",
       "860           0.0          0.0          0.0          0.0  ...            0.0   \n",
       "385           0.0          0.0          0.0          0.0  ...            0.0   \n",
       "422           0.0          0.0          0.0          0.0  ...            0.0   \n",
       "326           0.0          0.0          0.0          0.0  ...            0.0   \n",
       "714           0.0          0.0          0.0          0.0  ...            0.0   \n",
       "...           ...          ...          ...          ...  ...            ...   \n",
       "1413          0.0          0.0          0.0          0.0  ...            0.0   \n",
       "1637          0.0          0.0          0.0          0.0  ...            0.0   \n",
       "1334          0.0          0.0          0.0          0.0  ...            0.0   \n",
       "979           0.0          0.0          0.0          0.0  ...            0.0   \n",
       "1241          0.0          0.0          0.0          0.0  ...            0.0   \n",
       "\n",
       "      labname_lab03  labname_lab03s  labname_lab05s  labname_laba04  \\\n",
       "860             0.0             0.0             0.0             0.0   \n",
       "385             0.0             0.0             0.0             0.0   \n",
       "422             0.0             0.0             1.0             0.0   \n",
       "326             0.0             0.0             0.0             1.0   \n",
       "714             0.0             0.0             0.0             0.0   \n",
       "...             ...             ...             ...             ...   \n",
       "1413            0.0             0.0             0.0             0.0   \n",
       "1637            0.0             0.0             0.0             0.0   \n",
       "1334            0.0             0.0             0.0             0.0   \n",
       "979             0.0             0.0             0.0             0.0   \n",
       "1241            0.0             0.0             0.0             0.0   \n",
       "\n",
       "      labname_laba04s  labname_laba05  labname_laba06  labname_laba06s  \\\n",
       "860               0.0             0.0             0.0              0.0   \n",
       "385               0.0             1.0             0.0              0.0   \n",
       "422               0.0             0.0             0.0              0.0   \n",
       "326               0.0             0.0             0.0              0.0   \n",
       "714               0.0             0.0             0.0              0.0   \n",
       "...               ...             ...             ...              ...   \n",
       "1413              0.0             0.0             0.0              0.0   \n",
       "1637              0.0             0.0             0.0              1.0   \n",
       "1334              0.0             0.0             0.0              0.0   \n",
       "979               0.0             0.0             0.0              0.0   \n",
       "1241              0.0             0.0             0.0              0.0   \n",
       "\n",
       "      labname_project1  \n",
       "860                1.0  \n",
       "385                0.0  \n",
       "422                0.0  \n",
       "326                0.0  \n",
       "714                1.0  \n",
       "...                ...  \n",
       "1413               1.0  \n",
       "1637               0.0  \n",
       "1334               1.0  \n",
       "979                1.0  \n",
       "1241               1.0  \n",
       "\n",
       "[1348 rows x 43 columns]"
      ]
     },
     "execution_count": 6,
     "metadata": {},
     "output_type": "execute_result"
    }
   ],
   "source": [
    "X_train"
   ]
  },
  {
   "cell_type": "code",
   "execution_count": 7,
   "metadata": {},
   "outputs": [
    {
     "data": {
      "text/plain": [
       "860     6\n",
       "385     4\n",
       "422     5\n",
       "326     6\n",
       "714     1\n",
       "       ..\n",
       "1413    3\n",
       "1637    1\n",
       "1334    3\n",
       "979     0\n",
       "1241    2\n",
       "Name: dayofweek, Length: 1348, dtype: int64"
      ]
     },
     "execution_count": 7,
     "metadata": {},
     "output_type": "execute_result"
    }
   ],
   "source": [
    "y_train"
   ]
  },
  {
   "cell_type": "code",
   "execution_count": 8,
   "metadata": {},
   "outputs": [
    {
     "data": {
      "text/html": [
       "<div>\n",
       "<style scoped>\n",
       "    .dataframe tbody tr th:only-of-type {\n",
       "        vertical-align: middle;\n",
       "    }\n",
       "\n",
       "    .dataframe tbody tr th {\n",
       "        vertical-align: top;\n",
       "    }\n",
       "\n",
       "    .dataframe thead th {\n",
       "        text-align: right;\n",
       "    }\n",
       "</style>\n",
       "<table border=\"1\" class=\"dataframe\">\n",
       "  <thead>\n",
       "    <tr style=\"text-align: right;\">\n",
       "      <th></th>\n",
       "      <th>numTrials</th>\n",
       "      <th>hour</th>\n",
       "      <th>uid_user_0</th>\n",
       "      <th>uid_user_1</th>\n",
       "      <th>uid_user_10</th>\n",
       "      <th>uid_user_11</th>\n",
       "      <th>uid_user_12</th>\n",
       "      <th>uid_user_13</th>\n",
       "      <th>uid_user_14</th>\n",
       "      <th>uid_user_15</th>\n",
       "      <th>...</th>\n",
       "      <th>labname_lab02</th>\n",
       "      <th>labname_lab03</th>\n",
       "      <th>labname_lab03s</th>\n",
       "      <th>labname_lab05s</th>\n",
       "      <th>labname_laba04</th>\n",
       "      <th>labname_laba04s</th>\n",
       "      <th>labname_laba05</th>\n",
       "      <th>labname_laba06</th>\n",
       "      <th>labname_laba06s</th>\n",
       "      <th>labname_project1</th>\n",
       "    </tr>\n",
       "  </thead>\n",
       "  <tbody>\n",
       "    <tr>\n",
       "      <th>1087</th>\n",
       "      <td>67</td>\n",
       "      <td>17</td>\n",
       "      <td>0.0</td>\n",
       "      <td>0.0</td>\n",
       "      <td>0.0</td>\n",
       "      <td>0.0</td>\n",
       "      <td>0.0</td>\n",
       "      <td>0.0</td>\n",
       "      <td>1.0</td>\n",
       "      <td>0.0</td>\n",
       "      <td>...</td>\n",
       "      <td>0.0</td>\n",
       "      <td>0.0</td>\n",
       "      <td>0.0</td>\n",
       "      <td>0.0</td>\n",
       "      <td>0.0</td>\n",
       "      <td>0.0</td>\n",
       "      <td>0.0</td>\n",
       "      <td>0.0</td>\n",
       "      <td>0.0</td>\n",
       "      <td>1.0</td>\n",
       "    </tr>\n",
       "    <tr>\n",
       "      <th>16</th>\n",
       "      <td>1</td>\n",
       "      <td>13</td>\n",
       "      <td>0.0</td>\n",
       "      <td>0.0</td>\n",
       "      <td>0.0</td>\n",
       "      <td>0.0</td>\n",
       "      <td>0.0</td>\n",
       "      <td>0.0</td>\n",
       "      <td>0.0</td>\n",
       "      <td>0.0</td>\n",
       "      <td>...</td>\n",
       "      <td>0.0</td>\n",
       "      <td>0.0</td>\n",
       "      <td>0.0</td>\n",
       "      <td>0.0</td>\n",
       "      <td>0.0</td>\n",
       "      <td>1.0</td>\n",
       "      <td>0.0</td>\n",
       "      <td>0.0</td>\n",
       "      <td>0.0</td>\n",
       "      <td>0.0</td>\n",
       "    </tr>\n",
       "    <tr>\n",
       "      <th>563</th>\n",
       "      <td>14</td>\n",
       "      <td>10</td>\n",
       "      <td>0.0</td>\n",
       "      <td>0.0</td>\n",
       "      <td>0.0</td>\n",
       "      <td>0.0</td>\n",
       "      <td>1.0</td>\n",
       "      <td>0.0</td>\n",
       "      <td>0.0</td>\n",
       "      <td>0.0</td>\n",
       "      <td>...</td>\n",
       "      <td>0.0</td>\n",
       "      <td>0.0</td>\n",
       "      <td>0.0</td>\n",
       "      <td>0.0</td>\n",
       "      <td>0.0</td>\n",
       "      <td>0.0</td>\n",
       "      <td>1.0</td>\n",
       "      <td>0.0</td>\n",
       "      <td>0.0</td>\n",
       "      <td>0.0</td>\n",
       "    </tr>\n",
       "    <tr>\n",
       "      <th>1381</th>\n",
       "      <td>20</td>\n",
       "      <td>15</td>\n",
       "      <td>0.0</td>\n",
       "      <td>0.0</td>\n",
       "      <td>0.0</td>\n",
       "      <td>0.0</td>\n",
       "      <td>0.0</td>\n",
       "      <td>0.0</td>\n",
       "      <td>0.0</td>\n",
       "      <td>0.0</td>\n",
       "      <td>...</td>\n",
       "      <td>0.0</td>\n",
       "      <td>0.0</td>\n",
       "      <td>0.0</td>\n",
       "      <td>0.0</td>\n",
       "      <td>0.0</td>\n",
       "      <td>0.0</td>\n",
       "      <td>0.0</td>\n",
       "      <td>0.0</td>\n",
       "      <td>0.0</td>\n",
       "      <td>1.0</td>\n",
       "    </tr>\n",
       "    <tr>\n",
       "      <th>1199</th>\n",
       "      <td>9</td>\n",
       "      <td>13</td>\n",
       "      <td>0.0</td>\n",
       "      <td>0.0</td>\n",
       "      <td>0.0</td>\n",
       "      <td>0.0</td>\n",
       "      <td>0.0</td>\n",
       "      <td>0.0</td>\n",
       "      <td>0.0</td>\n",
       "      <td>0.0</td>\n",
       "      <td>...</td>\n",
       "      <td>0.0</td>\n",
       "      <td>0.0</td>\n",
       "      <td>0.0</td>\n",
       "      <td>0.0</td>\n",
       "      <td>0.0</td>\n",
       "      <td>0.0</td>\n",
       "      <td>0.0</td>\n",
       "      <td>0.0</td>\n",
       "      <td>0.0</td>\n",
       "      <td>1.0</td>\n",
       "    </tr>\n",
       "    <tr>\n",
       "      <th>...</th>\n",
       "      <td>...</td>\n",
       "      <td>...</td>\n",
       "      <td>...</td>\n",
       "      <td>...</td>\n",
       "      <td>...</td>\n",
       "      <td>...</td>\n",
       "      <td>...</td>\n",
       "      <td>...</td>\n",
       "      <td>...</td>\n",
       "      <td>...</td>\n",
       "      <td>...</td>\n",
       "      <td>...</td>\n",
       "      <td>...</td>\n",
       "      <td>...</td>\n",
       "      <td>...</td>\n",
       "      <td>...</td>\n",
       "      <td>...</td>\n",
       "      <td>...</td>\n",
       "      <td>...</td>\n",
       "      <td>...</td>\n",
       "      <td>...</td>\n",
       "    </tr>\n",
       "    <tr>\n",
       "      <th>1411</th>\n",
       "      <td>156</td>\n",
       "      <td>16</td>\n",
       "      <td>0.0</td>\n",
       "      <td>0.0</td>\n",
       "      <td>0.0</td>\n",
       "      <td>0.0</td>\n",
       "      <td>0.0</td>\n",
       "      <td>0.0</td>\n",
       "      <td>0.0</td>\n",
       "      <td>0.0</td>\n",
       "      <td>...</td>\n",
       "      <td>0.0</td>\n",
       "      <td>0.0</td>\n",
       "      <td>0.0</td>\n",
       "      <td>0.0</td>\n",
       "      <td>0.0</td>\n",
       "      <td>0.0</td>\n",
       "      <td>0.0</td>\n",
       "      <td>0.0</td>\n",
       "      <td>0.0</td>\n",
       "      <td>1.0</td>\n",
       "    </tr>\n",
       "    <tr>\n",
       "      <th>1079</th>\n",
       "      <td>59</td>\n",
       "      <td>17</td>\n",
       "      <td>0.0</td>\n",
       "      <td>0.0</td>\n",
       "      <td>0.0</td>\n",
       "      <td>0.0</td>\n",
       "      <td>0.0</td>\n",
       "      <td>0.0</td>\n",
       "      <td>1.0</td>\n",
       "      <td>0.0</td>\n",
       "      <td>...</td>\n",
       "      <td>0.0</td>\n",
       "      <td>0.0</td>\n",
       "      <td>0.0</td>\n",
       "      <td>0.0</td>\n",
       "      <td>0.0</td>\n",
       "      <td>0.0</td>\n",
       "      <td>0.0</td>\n",
       "      <td>0.0</td>\n",
       "      <td>0.0</td>\n",
       "      <td>1.0</td>\n",
       "    </tr>\n",
       "    <tr>\n",
       "      <th>1222</th>\n",
       "      <td>22</td>\n",
       "      <td>17</td>\n",
       "      <td>0.0</td>\n",
       "      <td>0.0</td>\n",
       "      <td>0.0</td>\n",
       "      <td>0.0</td>\n",
       "      <td>0.0</td>\n",
       "      <td>0.0</td>\n",
       "      <td>0.0</td>\n",
       "      <td>0.0</td>\n",
       "      <td>...</td>\n",
       "      <td>0.0</td>\n",
       "      <td>0.0</td>\n",
       "      <td>0.0</td>\n",
       "      <td>0.0</td>\n",
       "      <td>0.0</td>\n",
       "      <td>0.0</td>\n",
       "      <td>0.0</td>\n",
       "      <td>0.0</td>\n",
       "      <td>0.0</td>\n",
       "      <td>1.0</td>\n",
       "    </tr>\n",
       "    <tr>\n",
       "      <th>1064</th>\n",
       "      <td>50</td>\n",
       "      <td>16</td>\n",
       "      <td>0.0</td>\n",
       "      <td>0.0</td>\n",
       "      <td>0.0</td>\n",
       "      <td>0.0</td>\n",
       "      <td>0.0</td>\n",
       "      <td>0.0</td>\n",
       "      <td>1.0</td>\n",
       "      <td>0.0</td>\n",
       "      <td>...</td>\n",
       "      <td>0.0</td>\n",
       "      <td>0.0</td>\n",
       "      <td>0.0</td>\n",
       "      <td>0.0</td>\n",
       "      <td>0.0</td>\n",
       "      <td>0.0</td>\n",
       "      <td>0.0</td>\n",
       "      <td>0.0</td>\n",
       "      <td>0.0</td>\n",
       "      <td>1.0</td>\n",
       "    </tr>\n",
       "    <tr>\n",
       "      <th>1243</th>\n",
       "      <td>37</td>\n",
       "      <td>20</td>\n",
       "      <td>0.0</td>\n",
       "      <td>0.0</td>\n",
       "      <td>0.0</td>\n",
       "      <td>0.0</td>\n",
       "      <td>0.0</td>\n",
       "      <td>0.0</td>\n",
       "      <td>0.0</td>\n",
       "      <td>0.0</td>\n",
       "      <td>...</td>\n",
       "      <td>0.0</td>\n",
       "      <td>0.0</td>\n",
       "      <td>0.0</td>\n",
       "      <td>0.0</td>\n",
       "      <td>0.0</td>\n",
       "      <td>0.0</td>\n",
       "      <td>0.0</td>\n",
       "      <td>0.0</td>\n",
       "      <td>0.0</td>\n",
       "      <td>1.0</td>\n",
       "    </tr>\n",
       "  </tbody>\n",
       "</table>\n",
       "<p>338 rows × 43 columns</p>\n",
       "</div>"
      ],
      "text/plain": [
       "      numTrials  hour  uid_user_0  uid_user_1  uid_user_10  uid_user_11  \\\n",
       "1087         67    17         0.0         0.0          0.0          0.0   \n",
       "16            1    13         0.0         0.0          0.0          0.0   \n",
       "563          14    10         0.0         0.0          0.0          0.0   \n",
       "1381         20    15         0.0         0.0          0.0          0.0   \n",
       "1199          9    13         0.0         0.0          0.0          0.0   \n",
       "...         ...   ...         ...         ...          ...          ...   \n",
       "1411        156    16         0.0         0.0          0.0          0.0   \n",
       "1079         59    17         0.0         0.0          0.0          0.0   \n",
       "1222         22    17         0.0         0.0          0.0          0.0   \n",
       "1064         50    16         0.0         0.0          0.0          0.0   \n",
       "1243         37    20         0.0         0.0          0.0          0.0   \n",
       "\n",
       "      uid_user_12  uid_user_13  uid_user_14  uid_user_15  ...  labname_lab02  \\\n",
       "1087          0.0          0.0          1.0          0.0  ...            0.0   \n",
       "16            0.0          0.0          0.0          0.0  ...            0.0   \n",
       "563           1.0          0.0          0.0          0.0  ...            0.0   \n",
       "1381          0.0          0.0          0.0          0.0  ...            0.0   \n",
       "1199          0.0          0.0          0.0          0.0  ...            0.0   \n",
       "...           ...          ...          ...          ...  ...            ...   \n",
       "1411          0.0          0.0          0.0          0.0  ...            0.0   \n",
       "1079          0.0          0.0          1.0          0.0  ...            0.0   \n",
       "1222          0.0          0.0          0.0          0.0  ...            0.0   \n",
       "1064          0.0          0.0          1.0          0.0  ...            0.0   \n",
       "1243          0.0          0.0          0.0          0.0  ...            0.0   \n",
       "\n",
       "      labname_lab03  labname_lab03s  labname_lab05s  labname_laba04  \\\n",
       "1087            0.0             0.0             0.0             0.0   \n",
       "16              0.0             0.0             0.0             0.0   \n",
       "563             0.0             0.0             0.0             0.0   \n",
       "1381            0.0             0.0             0.0             0.0   \n",
       "1199            0.0             0.0             0.0             0.0   \n",
       "...             ...             ...             ...             ...   \n",
       "1411            0.0             0.0             0.0             0.0   \n",
       "1079            0.0             0.0             0.0             0.0   \n",
       "1222            0.0             0.0             0.0             0.0   \n",
       "1064            0.0             0.0             0.0             0.0   \n",
       "1243            0.0             0.0             0.0             0.0   \n",
       "\n",
       "      labname_laba04s  labname_laba05  labname_laba06  labname_laba06s  \\\n",
       "1087              0.0             0.0             0.0              0.0   \n",
       "16                1.0             0.0             0.0              0.0   \n",
       "563               0.0             1.0             0.0              0.0   \n",
       "1381              0.0             0.0             0.0              0.0   \n",
       "1199              0.0             0.0             0.0              0.0   \n",
       "...               ...             ...             ...              ...   \n",
       "1411              0.0             0.0             0.0              0.0   \n",
       "1079              0.0             0.0             0.0              0.0   \n",
       "1222              0.0             0.0             0.0              0.0   \n",
       "1064              0.0             0.0             0.0              0.0   \n",
       "1243              0.0             0.0             0.0              0.0   \n",
       "\n",
       "      labname_project1  \n",
       "1087               1.0  \n",
       "16                 0.0  \n",
       "563                0.0  \n",
       "1381               1.0  \n",
       "1199               1.0  \n",
       "...                ...  \n",
       "1411               1.0  \n",
       "1079               1.0  \n",
       "1222               1.0  \n",
       "1064               1.0  \n",
       "1243               1.0  \n",
       "\n",
       "[338 rows x 43 columns]"
      ]
     },
     "execution_count": 8,
     "metadata": {},
     "output_type": "execute_result"
    }
   ],
   "source": [
    "X_test"
   ]
  },
  {
   "cell_type": "code",
   "execution_count": 9,
   "metadata": {},
   "outputs": [
    {
     "data": {
      "text/plain": [
       "1087    1\n",
       "16      5\n",
       "563     6\n",
       "1381    3\n",
       "1199    2\n",
       "       ..\n",
       "1411    3\n",
       "1079    1\n",
       "1222    2\n",
       "1064    1\n",
       "1243    2\n",
       "Name: dayofweek, Length: 338, dtype: int64"
      ]
     },
     "execution_count": 9,
     "metadata": {},
     "output_type": "execute_result"
    }
   ],
   "source": [
    "y_test"
   ]
  },
  {
   "cell_type": "code",
   "execution_count": 10,
   "metadata": {},
   "outputs": [
    {
     "data": {
      "text/plain": [
       "3    0.234421\n",
       "6    0.211424\n",
       "1    0.162463\n",
       "5    0.160979\n",
       "2    0.088279\n",
       "0    0.080861\n",
       "4    0.061573\n",
       "Name: dayofweek, dtype: float64"
      ]
     },
     "execution_count": 10,
     "metadata": {},
     "output_type": "execute_result"
    }
   ],
   "source": [
    "y_train.value_counts(normalize=True)"
   ]
  },
  {
   "cell_type": "code",
   "execution_count": 11,
   "metadata": {},
   "outputs": [
    {
     "data": {
      "text/plain": [
       "3    0.236686\n",
       "6    0.210059\n",
       "1    0.162722\n",
       "5    0.159763\n",
       "2    0.088757\n",
       "0    0.079882\n",
       "4    0.062130\n",
       "Name: dayofweek, dtype: float64"
      ]
     },
     "execution_count": 11,
     "metadata": {},
     "output_type": "execute_result"
    }
   ],
   "source": [
    "y_test.value_counts(normalize=True)"
   ]
  },
  {
   "cell_type": "markdown",
   "metadata": {},
   "source": [
    "### 2. SVM gridsearch\n",
    " \n",
    "1. Используя GridSearchCV попробуйте разные значения параметра kernel (linear, rbf, sigmoid), параметра C (0.01, 0.1, 1, 1.5, 5, 10), параметра gamma (scale, auto), параметра class_weight (balanced, None). Используйте random_state=21 и probability=True найдите наилучшую комбинацию параметров с точки зрения accuracy.\n",
    "2. Создайте из результатов gridsearch датафрейм и отсортируйте по возрастанию значений rank_test_score. Посмотрите есть ли между какими-то соседними комбинациями большая разница (иногда более простая модель может давать сопоставимый результат)."
   ]
  },
  {
   "cell_type": "code",
   "execution_count": 12,
   "metadata": {},
   "outputs": [],
   "source": [
    "param_grid = {'kernel' : ['linear', 'rbf', 'sigmoid'],\n",
    "              'C': [0.01, 0.1, 1, 1.5, 5, 10],\n",
    "              'gamma': ['scale', 'auto'],\n",
    "              'class_weight': ['balanced', None]}"
   ]
  },
  {
   "cell_type": "code",
   "execution_count": 13,
   "metadata": {},
   "outputs": [],
   "source": [
    "grid = GridSearchCV(estimator=SVC(random_state=21, probability=True), param_grid=param_grid)"
   ]
  },
  {
   "cell_type": "code",
   "execution_count": 14,
   "metadata": {},
   "outputs": [
    {
     "data": {
      "text/html": [
       "<style>#sk-container-id-1 {color: black;background-color: white;}#sk-container-id-1 pre{padding: 0;}#sk-container-id-1 div.sk-toggleable {background-color: white;}#sk-container-id-1 label.sk-toggleable__label {cursor: pointer;display: block;width: 100%;margin-bottom: 0;padding: 0.3em;box-sizing: border-box;text-align: center;}#sk-container-id-1 label.sk-toggleable__label-arrow:before {content: \"▸\";float: left;margin-right: 0.25em;color: #696969;}#sk-container-id-1 label.sk-toggleable__label-arrow:hover:before {color: black;}#sk-container-id-1 div.sk-estimator:hover label.sk-toggleable__label-arrow:before {color: black;}#sk-container-id-1 div.sk-toggleable__content {max-height: 0;max-width: 0;overflow: hidden;text-align: left;background-color: #f0f8ff;}#sk-container-id-1 div.sk-toggleable__content pre {margin: 0.2em;color: black;border-radius: 0.25em;background-color: #f0f8ff;}#sk-container-id-1 input.sk-toggleable__control:checked~div.sk-toggleable__content {max-height: 200px;max-width: 100%;overflow: auto;}#sk-container-id-1 input.sk-toggleable__control:checked~label.sk-toggleable__label-arrow:before {content: \"▾\";}#sk-container-id-1 div.sk-estimator input.sk-toggleable__control:checked~label.sk-toggleable__label {background-color: #d4ebff;}#sk-container-id-1 div.sk-label input.sk-toggleable__control:checked~label.sk-toggleable__label {background-color: #d4ebff;}#sk-container-id-1 input.sk-hidden--visually {border: 0;clip: rect(1px 1px 1px 1px);clip: rect(1px, 1px, 1px, 1px);height: 1px;margin: -1px;overflow: hidden;padding: 0;position: absolute;width: 1px;}#sk-container-id-1 div.sk-estimator {font-family: monospace;background-color: #f0f8ff;border: 1px dotted black;border-radius: 0.25em;box-sizing: border-box;margin-bottom: 0.5em;}#sk-container-id-1 div.sk-estimator:hover {background-color: #d4ebff;}#sk-container-id-1 div.sk-parallel-item::after {content: \"\";width: 100%;border-bottom: 1px solid gray;flex-grow: 1;}#sk-container-id-1 div.sk-label:hover label.sk-toggleable__label {background-color: #d4ebff;}#sk-container-id-1 div.sk-serial::before {content: \"\";position: absolute;border-left: 1px solid gray;box-sizing: border-box;top: 0;bottom: 0;left: 50%;z-index: 0;}#sk-container-id-1 div.sk-serial {display: flex;flex-direction: column;align-items: center;background-color: white;padding-right: 0.2em;padding-left: 0.2em;position: relative;}#sk-container-id-1 div.sk-item {position: relative;z-index: 1;}#sk-container-id-1 div.sk-parallel {display: flex;align-items: stretch;justify-content: center;background-color: white;position: relative;}#sk-container-id-1 div.sk-item::before, #sk-container-id-1 div.sk-parallel-item::before {content: \"\";position: absolute;border-left: 1px solid gray;box-sizing: border-box;top: 0;bottom: 0;left: 50%;z-index: -1;}#sk-container-id-1 div.sk-parallel-item {display: flex;flex-direction: column;z-index: 1;position: relative;background-color: white;}#sk-container-id-1 div.sk-parallel-item:first-child::after {align-self: flex-end;width: 50%;}#sk-container-id-1 div.sk-parallel-item:last-child::after {align-self: flex-start;width: 50%;}#sk-container-id-1 div.sk-parallel-item:only-child::after {width: 0;}#sk-container-id-1 div.sk-dashed-wrapped {border: 1px dashed gray;margin: 0 0.4em 0.5em 0.4em;box-sizing: border-box;padding-bottom: 0.4em;background-color: white;}#sk-container-id-1 div.sk-label label {font-family: monospace;font-weight: bold;display: inline-block;line-height: 1.2em;}#sk-container-id-1 div.sk-label-container {text-align: center;}#sk-container-id-1 div.sk-container {/* jupyter's `normalize.less` sets `[hidden] { display: none; }` but bootstrap.min.css set `[hidden] { display: none !important; }` so we also need the `!important` here to be able to override the default hidden behavior on the sphinx rendered scikit-learn.org. See: https://github.com/scikit-learn/scikit-learn/issues/21755 */display: inline-block !important;position: relative;}#sk-container-id-1 div.sk-text-repr-fallback {display: none;}</style><div id=\"sk-container-id-1\" class=\"sk-top-container\"><div class=\"sk-text-repr-fallback\"><pre>GridSearchCV(estimator=SVC(probability=True, random_state=21),\n",
       "             param_grid={&#x27;C&#x27;: [0.01, 0.1, 1, 1.5, 5, 10],\n",
       "                         &#x27;class_weight&#x27;: [&#x27;balanced&#x27;, None],\n",
       "                         &#x27;gamma&#x27;: [&#x27;scale&#x27;, &#x27;auto&#x27;],\n",
       "                         &#x27;kernel&#x27;: [&#x27;linear&#x27;, &#x27;rbf&#x27;, &#x27;sigmoid&#x27;]})</pre><b>In a Jupyter environment, please rerun this cell to show the HTML representation or trust the notebook. <br />On GitHub, the HTML representation is unable to render, please try loading this page with nbviewer.org.</b></div><div class=\"sk-container\" hidden><div class=\"sk-item sk-dashed-wrapped\"><div class=\"sk-label-container\"><div class=\"sk-label sk-toggleable\"><input class=\"sk-toggleable__control sk-hidden--visually\" id=\"sk-estimator-id-1\" type=\"checkbox\" ><label for=\"sk-estimator-id-1\" class=\"sk-toggleable__label sk-toggleable__label-arrow\">GridSearchCV</label><div class=\"sk-toggleable__content\"><pre>GridSearchCV(estimator=SVC(probability=True, random_state=21),\n",
       "             param_grid={&#x27;C&#x27;: [0.01, 0.1, 1, 1.5, 5, 10],\n",
       "                         &#x27;class_weight&#x27;: [&#x27;balanced&#x27;, None],\n",
       "                         &#x27;gamma&#x27;: [&#x27;scale&#x27;, &#x27;auto&#x27;],\n",
       "                         &#x27;kernel&#x27;: [&#x27;linear&#x27;, &#x27;rbf&#x27;, &#x27;sigmoid&#x27;]})</pre></div></div></div><div class=\"sk-parallel\"><div class=\"sk-parallel-item\"><div class=\"sk-item\"><div class=\"sk-label-container\"><div class=\"sk-label sk-toggleable\"><input class=\"sk-toggleable__control sk-hidden--visually\" id=\"sk-estimator-id-2\" type=\"checkbox\" ><label for=\"sk-estimator-id-2\" class=\"sk-toggleable__label sk-toggleable__label-arrow\">estimator: SVC</label><div class=\"sk-toggleable__content\"><pre>SVC(probability=True, random_state=21)</pre></div></div></div><div class=\"sk-serial\"><div class=\"sk-item\"><div class=\"sk-estimator sk-toggleable\"><input class=\"sk-toggleable__control sk-hidden--visually\" id=\"sk-estimator-id-3\" type=\"checkbox\" ><label for=\"sk-estimator-id-3\" class=\"sk-toggleable__label sk-toggleable__label-arrow\">SVC</label><div class=\"sk-toggleable__content\"><pre>SVC(probability=True, random_state=21)</pre></div></div></div></div></div></div></div></div></div></div>"
      ],
      "text/plain": [
       "GridSearchCV(estimator=SVC(probability=True, random_state=21),\n",
       "             param_grid={'C': [0.01, 0.1, 1, 1.5, 5, 10],\n",
       "                         'class_weight': ['balanced', None],\n",
       "                         'gamma': ['scale', 'auto'],\n",
       "                         'kernel': ['linear', 'rbf', 'sigmoid']})"
      ]
     },
     "execution_count": 14,
     "metadata": {},
     "output_type": "execute_result"
    }
   ],
   "source": [
    "grid.fit(X_train, y_train)"
   ]
  },
  {
   "cell_type": "code",
   "execution_count": 15,
   "metadata": {},
   "outputs": [
    {
     "data": {
      "text/plain": [
       "{'C': 10, 'class_weight': None, 'gamma': 'auto', 'kernel': 'rbf'}"
      ]
     },
     "execution_count": 15,
     "metadata": {},
     "output_type": "execute_result"
    }
   ],
   "source": [
    "grid.best_params_"
   ]
  },
  {
   "cell_type": "code",
   "execution_count": 16,
   "metadata": {},
   "outputs": [
    {
     "data": {
      "text/html": [
       "<div>\n",
       "<style scoped>\n",
       "    .dataframe tbody tr th:only-of-type {\n",
       "        vertical-align: middle;\n",
       "    }\n",
       "\n",
       "    .dataframe tbody tr th {\n",
       "        vertical-align: top;\n",
       "    }\n",
       "\n",
       "    .dataframe thead th {\n",
       "        text-align: right;\n",
       "    }\n",
       "</style>\n",
       "<table border=\"1\" class=\"dataframe\">\n",
       "  <thead>\n",
       "    <tr style=\"text-align: right;\">\n",
       "      <th></th>\n",
       "      <th>params</th>\n",
       "      <th>mean_test_score</th>\n",
       "      <th>std_test_score</th>\n",
       "      <th>rank_test_score</th>\n",
       "    </tr>\n",
       "  </thead>\n",
       "  <tbody>\n",
       "    <tr>\n",
       "      <th>70</th>\n",
       "      <td>{'C': 10, 'class_weight': None, 'gamma': 'auto', 'kernel': 'rbf'}</td>\n",
       "      <td>0.876109</td>\n",
       "      <td>0.018419</td>\n",
       "      <td>1</td>\n",
       "    </tr>\n",
       "    <tr>\n",
       "      <th>64</th>\n",
       "      <td>{'C': 10, 'class_weight': 'balanced', 'gamma': 'auto', 'kernel': 'rbf'}</td>\n",
       "      <td>0.863500</td>\n",
       "      <td>0.010870</td>\n",
       "      <td>2</td>\n",
       "    </tr>\n",
       "    <tr>\n",
       "      <th>58</th>\n",
       "      <td>{'C': 5, 'class_weight': None, 'gamma': 'auto', 'kernel': 'rbf'}</td>\n",
       "      <td>0.816018</td>\n",
       "      <td>0.008116</td>\n",
       "      <td>3</td>\n",
       "    </tr>\n",
       "    <tr>\n",
       "      <th>52</th>\n",
       "      <td>{'C': 5, 'class_weight': 'balanced', 'gamma': 'auto', 'kernel': 'rbf'}</td>\n",
       "      <td>0.808608</td>\n",
       "      <td>0.021007</td>\n",
       "      <td>4</td>\n",
       "    </tr>\n",
       "    <tr>\n",
       "      <th>63</th>\n",
       "      <td>{'C': 10, 'class_weight': 'balanced', 'gamma': 'auto', 'kernel': 'linear'}</td>\n",
       "      <td>0.721052</td>\n",
       "      <td>0.034438</td>\n",
       "      <td>5</td>\n",
       "    </tr>\n",
       "    <tr>\n",
       "      <th>...</th>\n",
       "      <td>...</td>\n",
       "      <td>...</td>\n",
       "      <td>...</td>\n",
       "      <td>...</td>\n",
       "    </tr>\n",
       "    <tr>\n",
       "      <th>53</th>\n",
       "      <td>{'C': 5, 'class_weight': 'balanced', 'gamma': 'auto', 'kernel': 'sigmoid'}</td>\n",
       "      <td>0.129792</td>\n",
       "      <td>0.019869</td>\n",
       "      <td>68</td>\n",
       "    </tr>\n",
       "    <tr>\n",
       "      <th>65</th>\n",
       "      <td>{'C': 10, 'class_weight': 'balanced', 'gamma': 'auto', 'kernel': 'sigmoid'}</td>\n",
       "      <td>0.115693</td>\n",
       "      <td>0.020052</td>\n",
       "      <td>69</td>\n",
       "    </tr>\n",
       "    <tr>\n",
       "      <th>41</th>\n",
       "      <td>{'C': 1.5, 'class_weight': 'balanced', 'gamma': 'auto', 'kernel': 'sigmoid'}</td>\n",
       "      <td>0.079380</td>\n",
       "      <td>0.006913</td>\n",
       "      <td>70</td>\n",
       "    </tr>\n",
       "    <tr>\n",
       "      <th>17</th>\n",
       "      <td>{'C': 0.1, 'class_weight': 'balanced', 'gamma': 'auto', 'kernel': 'sigmoid'}</td>\n",
       "      <td>0.062310</td>\n",
       "      <td>0.002678</td>\n",
       "      <td>71</td>\n",
       "    </tr>\n",
       "    <tr>\n",
       "      <th>29</th>\n",
       "      <td>{'C': 1, 'class_weight': 'balanced', 'gamma': 'auto', 'kernel': 'sigmoid'}</td>\n",
       "      <td>0.060088</td>\n",
       "      <td>0.009188</td>\n",
       "      <td>72</td>\n",
       "    </tr>\n",
       "  </tbody>\n",
       "</table>\n",
       "<p>72 rows × 4 columns</p>\n",
       "</div>"
      ],
      "text/plain": [
       "                                                                          params  \\\n",
       "70             {'C': 10, 'class_weight': None, 'gamma': 'auto', 'kernel': 'rbf'}   \n",
       "64       {'C': 10, 'class_weight': 'balanced', 'gamma': 'auto', 'kernel': 'rbf'}   \n",
       "58              {'C': 5, 'class_weight': None, 'gamma': 'auto', 'kernel': 'rbf'}   \n",
       "52        {'C': 5, 'class_weight': 'balanced', 'gamma': 'auto', 'kernel': 'rbf'}   \n",
       "63    {'C': 10, 'class_weight': 'balanced', 'gamma': 'auto', 'kernel': 'linear'}   \n",
       "..                                                                           ...   \n",
       "53    {'C': 5, 'class_weight': 'balanced', 'gamma': 'auto', 'kernel': 'sigmoid'}   \n",
       "65   {'C': 10, 'class_weight': 'balanced', 'gamma': 'auto', 'kernel': 'sigmoid'}   \n",
       "41  {'C': 1.5, 'class_weight': 'balanced', 'gamma': 'auto', 'kernel': 'sigmoid'}   \n",
       "17  {'C': 0.1, 'class_weight': 'balanced', 'gamma': 'auto', 'kernel': 'sigmoid'}   \n",
       "29    {'C': 1, 'class_weight': 'balanced', 'gamma': 'auto', 'kernel': 'sigmoid'}   \n",
       "\n",
       "    mean_test_score  std_test_score  rank_test_score  \n",
       "70         0.876109        0.018419                1  \n",
       "64         0.863500        0.010870                2  \n",
       "58         0.816018        0.008116                3  \n",
       "52         0.808608        0.021007                4  \n",
       "63         0.721052        0.034438                5  \n",
       "..              ...             ...              ...  \n",
       "53         0.129792        0.019869               68  \n",
       "65         0.115693        0.020052               69  \n",
       "41         0.079380        0.006913               70  \n",
       "17         0.062310        0.002678               71  \n",
       "29         0.060088        0.009188               72  \n",
       "\n",
       "[72 rows x 4 columns]"
      ]
     },
     "execution_count": 16,
     "metadata": {},
     "output_type": "execute_result"
    }
   ],
   "source": [
    "SVC_estimators = pd.DataFrame(grid.cv_results_)\n",
    "SVC_estimators.sort_values('rank_test_score', inplace=True)\n",
    "SVC_estimators[['params', 'mean_test_score', 'std_test_score', 'rank_test_score']]"
   ]
  },
  {
   "cell_type": "markdown",
   "metadata": {},
   "source": [
    "###  3. Decision tree\n",
    " \n",
    "1. Используя GridSearchCV попробуйте разные значения параметра max_depth (от 1 до 49), параметра class_weight (balanced, None), параметра criterion (entropy and gini). Используйте random_state=21 найдите наилучшую комбинацию параметров с точки зрения accuracy.\n",
    "2. Создайте из результатов gridsearch датафрейм и отсортируйте по возрастанию значений rank_test_score. Посмотрите есть ли между какими-то соседними комбинациями большая разница (иногда более простая модель может давать сопоставимый результат)."
   ]
  },
  {
   "cell_type": "code",
   "execution_count": 17,
   "metadata": {},
   "outputs": [],
   "source": [
    "param_grid = {'max_depth': range(1,50),\n",
    "              'class_weight': ['balanced', None],\n",
    "              'criterion': ['entropy', 'gini']}"
   ]
  },
  {
   "cell_type": "code",
   "execution_count": 18,
   "metadata": {},
   "outputs": [],
   "source": [
    "grid = GridSearchCV(estimator=DecisionTreeClassifier(random_state=21), param_grid=param_grid)"
   ]
  },
  {
   "cell_type": "code",
   "execution_count": 19,
   "metadata": {},
   "outputs": [
    {
     "data": {
      "text/html": [
       "<style>#sk-container-id-2 {color: black;background-color: white;}#sk-container-id-2 pre{padding: 0;}#sk-container-id-2 div.sk-toggleable {background-color: white;}#sk-container-id-2 label.sk-toggleable__label {cursor: pointer;display: block;width: 100%;margin-bottom: 0;padding: 0.3em;box-sizing: border-box;text-align: center;}#sk-container-id-2 label.sk-toggleable__label-arrow:before {content: \"▸\";float: left;margin-right: 0.25em;color: #696969;}#sk-container-id-2 label.sk-toggleable__label-arrow:hover:before {color: black;}#sk-container-id-2 div.sk-estimator:hover label.sk-toggleable__label-arrow:before {color: black;}#sk-container-id-2 div.sk-toggleable__content {max-height: 0;max-width: 0;overflow: hidden;text-align: left;background-color: #f0f8ff;}#sk-container-id-2 div.sk-toggleable__content pre {margin: 0.2em;color: black;border-radius: 0.25em;background-color: #f0f8ff;}#sk-container-id-2 input.sk-toggleable__control:checked~div.sk-toggleable__content {max-height: 200px;max-width: 100%;overflow: auto;}#sk-container-id-2 input.sk-toggleable__control:checked~label.sk-toggleable__label-arrow:before {content: \"▾\";}#sk-container-id-2 div.sk-estimator input.sk-toggleable__control:checked~label.sk-toggleable__label {background-color: #d4ebff;}#sk-container-id-2 div.sk-label input.sk-toggleable__control:checked~label.sk-toggleable__label {background-color: #d4ebff;}#sk-container-id-2 input.sk-hidden--visually {border: 0;clip: rect(1px 1px 1px 1px);clip: rect(1px, 1px, 1px, 1px);height: 1px;margin: -1px;overflow: hidden;padding: 0;position: absolute;width: 1px;}#sk-container-id-2 div.sk-estimator {font-family: monospace;background-color: #f0f8ff;border: 1px dotted black;border-radius: 0.25em;box-sizing: border-box;margin-bottom: 0.5em;}#sk-container-id-2 div.sk-estimator:hover {background-color: #d4ebff;}#sk-container-id-2 div.sk-parallel-item::after {content: \"\";width: 100%;border-bottom: 1px solid gray;flex-grow: 1;}#sk-container-id-2 div.sk-label:hover label.sk-toggleable__label {background-color: #d4ebff;}#sk-container-id-2 div.sk-serial::before {content: \"\";position: absolute;border-left: 1px solid gray;box-sizing: border-box;top: 0;bottom: 0;left: 50%;z-index: 0;}#sk-container-id-2 div.sk-serial {display: flex;flex-direction: column;align-items: center;background-color: white;padding-right: 0.2em;padding-left: 0.2em;position: relative;}#sk-container-id-2 div.sk-item {position: relative;z-index: 1;}#sk-container-id-2 div.sk-parallel {display: flex;align-items: stretch;justify-content: center;background-color: white;position: relative;}#sk-container-id-2 div.sk-item::before, #sk-container-id-2 div.sk-parallel-item::before {content: \"\";position: absolute;border-left: 1px solid gray;box-sizing: border-box;top: 0;bottom: 0;left: 50%;z-index: -1;}#sk-container-id-2 div.sk-parallel-item {display: flex;flex-direction: column;z-index: 1;position: relative;background-color: white;}#sk-container-id-2 div.sk-parallel-item:first-child::after {align-self: flex-end;width: 50%;}#sk-container-id-2 div.sk-parallel-item:last-child::after {align-self: flex-start;width: 50%;}#sk-container-id-2 div.sk-parallel-item:only-child::after {width: 0;}#sk-container-id-2 div.sk-dashed-wrapped {border: 1px dashed gray;margin: 0 0.4em 0.5em 0.4em;box-sizing: border-box;padding-bottom: 0.4em;background-color: white;}#sk-container-id-2 div.sk-label label {font-family: monospace;font-weight: bold;display: inline-block;line-height: 1.2em;}#sk-container-id-2 div.sk-label-container {text-align: center;}#sk-container-id-2 div.sk-container {/* jupyter's `normalize.less` sets `[hidden] { display: none; }` but bootstrap.min.css set `[hidden] { display: none !important; }` so we also need the `!important` here to be able to override the default hidden behavior on the sphinx rendered scikit-learn.org. See: https://github.com/scikit-learn/scikit-learn/issues/21755 */display: inline-block !important;position: relative;}#sk-container-id-2 div.sk-text-repr-fallback {display: none;}</style><div id=\"sk-container-id-2\" class=\"sk-top-container\"><div class=\"sk-text-repr-fallback\"><pre>GridSearchCV(estimator=DecisionTreeClassifier(random_state=21),\n",
       "             param_grid={&#x27;class_weight&#x27;: [&#x27;balanced&#x27;, None],\n",
       "                         &#x27;criterion&#x27;: [&#x27;entropy&#x27;, &#x27;gini&#x27;],\n",
       "                         &#x27;max_depth&#x27;: range(1, 50)})</pre><b>In a Jupyter environment, please rerun this cell to show the HTML representation or trust the notebook. <br />On GitHub, the HTML representation is unable to render, please try loading this page with nbviewer.org.</b></div><div class=\"sk-container\" hidden><div class=\"sk-item sk-dashed-wrapped\"><div class=\"sk-label-container\"><div class=\"sk-label sk-toggleable\"><input class=\"sk-toggleable__control sk-hidden--visually\" id=\"sk-estimator-id-4\" type=\"checkbox\" ><label for=\"sk-estimator-id-4\" class=\"sk-toggleable__label sk-toggleable__label-arrow\">GridSearchCV</label><div class=\"sk-toggleable__content\"><pre>GridSearchCV(estimator=DecisionTreeClassifier(random_state=21),\n",
       "             param_grid={&#x27;class_weight&#x27;: [&#x27;balanced&#x27;, None],\n",
       "                         &#x27;criterion&#x27;: [&#x27;entropy&#x27;, &#x27;gini&#x27;],\n",
       "                         &#x27;max_depth&#x27;: range(1, 50)})</pre></div></div></div><div class=\"sk-parallel\"><div class=\"sk-parallel-item\"><div class=\"sk-item\"><div class=\"sk-label-container\"><div class=\"sk-label sk-toggleable\"><input class=\"sk-toggleable__control sk-hidden--visually\" id=\"sk-estimator-id-5\" type=\"checkbox\" ><label for=\"sk-estimator-id-5\" class=\"sk-toggleable__label sk-toggleable__label-arrow\">estimator: DecisionTreeClassifier</label><div class=\"sk-toggleable__content\"><pre>DecisionTreeClassifier(random_state=21)</pre></div></div></div><div class=\"sk-serial\"><div class=\"sk-item\"><div class=\"sk-estimator sk-toggleable\"><input class=\"sk-toggleable__control sk-hidden--visually\" id=\"sk-estimator-id-6\" type=\"checkbox\" ><label for=\"sk-estimator-id-6\" class=\"sk-toggleable__label sk-toggleable__label-arrow\">DecisionTreeClassifier</label><div class=\"sk-toggleable__content\"><pre>DecisionTreeClassifier(random_state=21)</pre></div></div></div></div></div></div></div></div></div></div>"
      ],
      "text/plain": [
       "GridSearchCV(estimator=DecisionTreeClassifier(random_state=21),\n",
       "             param_grid={'class_weight': ['balanced', None],\n",
       "                         'criterion': ['entropy', 'gini'],\n",
       "                         'max_depth': range(1, 50)})"
      ]
     },
     "execution_count": 19,
     "metadata": {},
     "output_type": "execute_result"
    }
   ],
   "source": [
    "grid.fit(X_train, y_train)"
   ]
  },
  {
   "cell_type": "code",
   "execution_count": 20,
   "metadata": {},
   "outputs": [
    {
     "data": {
      "text/plain": [
       "{'class_weight': 'balanced', 'criterion': 'gini', 'max_depth': 22}"
      ]
     },
     "execution_count": 20,
     "metadata": {},
     "output_type": "execute_result"
    }
   ],
   "source": [
    "grid.best_params_"
   ]
  },
  {
   "cell_type": "code",
   "execution_count": 21,
   "metadata": {},
   "outputs": [
    {
     "data": {
      "text/html": [
       "<div>\n",
       "<style scoped>\n",
       "    .dataframe tbody tr th:only-of-type {\n",
       "        vertical-align: middle;\n",
       "    }\n",
       "\n",
       "    .dataframe tbody tr th {\n",
       "        vertical-align: top;\n",
       "    }\n",
       "\n",
       "    .dataframe thead th {\n",
       "        text-align: right;\n",
       "    }\n",
       "</style>\n",
       "<table border=\"1\" class=\"dataframe\">\n",
       "  <thead>\n",
       "    <tr style=\"text-align: right;\">\n",
       "      <th></th>\n",
       "      <th>params</th>\n",
       "      <th>mean_test_score</th>\n",
       "      <th>std_test_score</th>\n",
       "      <th>rank_test_score</th>\n",
       "      <th>rank_test_score</th>\n",
       "    </tr>\n",
       "  </thead>\n",
       "  <tbody>\n",
       "    <tr>\n",
       "      <th>70</th>\n",
       "      <td>{'class_weight': 'balanced', 'criterion': 'gini', 'max_depth': 22}</td>\n",
       "      <td>0.873121</td>\n",
       "      <td>0.023998</td>\n",
       "      <td>1</td>\n",
       "      <td>1</td>\n",
       "    </tr>\n",
       "    <tr>\n",
       "      <th>69</th>\n",
       "      <td>{'class_weight': 'balanced', 'criterion': 'gini', 'max_depth': 21}</td>\n",
       "      <td>0.873121</td>\n",
       "      <td>0.026300</td>\n",
       "      <td>2</td>\n",
       "      <td>2</td>\n",
       "    </tr>\n",
       "    <tr>\n",
       "      <th>97</th>\n",
       "      <td>{'class_weight': 'balanced', 'criterion': 'gini', 'max_depth': 49}</td>\n",
       "      <td>0.873116</td>\n",
       "      <td>0.023911</td>\n",
       "      <td>3</td>\n",
       "      <td>3</td>\n",
       "    </tr>\n",
       "    <tr>\n",
       "      <th>95</th>\n",
       "      <td>{'class_weight': 'balanced', 'criterion': 'gini', 'max_depth': 47}</td>\n",
       "      <td>0.873116</td>\n",
       "      <td>0.023911</td>\n",
       "      <td>3</td>\n",
       "      <td>3</td>\n",
       "    </tr>\n",
       "    <tr>\n",
       "      <th>94</th>\n",
       "      <td>{'class_weight': 'balanced', 'criterion': 'gini', 'max_depth': 46}</td>\n",
       "      <td>0.873116</td>\n",
       "      <td>0.023911</td>\n",
       "      <td>3</td>\n",
       "      <td>3</td>\n",
       "    </tr>\n",
       "    <tr>\n",
       "      <th>71</th>\n",
       "      <td>{'class_weight': 'balanced', 'criterion': 'gini', 'max_depth': 23}</td>\n",
       "      <td>0.873116</td>\n",
       "      <td>0.023911</td>\n",
       "      <td>3</td>\n",
       "      <td>3</td>\n",
       "    </tr>\n",
       "    <tr>\n",
       "      <th>72</th>\n",
       "      <td>{'class_weight': 'balanced', 'criterion': 'gini', 'max_depth': 24}</td>\n",
       "      <td>0.873116</td>\n",
       "      <td>0.023911</td>\n",
       "      <td>3</td>\n",
       "      <td>3</td>\n",
       "    </tr>\n",
       "    <tr>\n",
       "      <th>73</th>\n",
       "      <td>{'class_weight': 'balanced', 'criterion': 'gini', 'max_depth': 25}</td>\n",
       "      <td>0.873116</td>\n",
       "      <td>0.023911</td>\n",
       "      <td>3</td>\n",
       "      <td>3</td>\n",
       "    </tr>\n",
       "    <tr>\n",
       "      <th>75</th>\n",
       "      <td>{'class_weight': 'balanced', 'criterion': 'gini', 'max_depth': 27}</td>\n",
       "      <td>0.873116</td>\n",
       "      <td>0.023911</td>\n",
       "      <td>3</td>\n",
       "      <td>3</td>\n",
       "    </tr>\n",
       "    <tr>\n",
       "      <th>76</th>\n",
       "      <td>{'class_weight': 'balanced', 'criterion': 'gini', 'max_depth': 28}</td>\n",
       "      <td>0.873116</td>\n",
       "      <td>0.023911</td>\n",
       "      <td>3</td>\n",
       "      <td>3</td>\n",
       "    </tr>\n",
       "    <tr>\n",
       "      <th>77</th>\n",
       "      <td>{'class_weight': 'balanced', 'criterion': 'gini', 'max_depth': 29}</td>\n",
       "      <td>0.873116</td>\n",
       "      <td>0.023911</td>\n",
       "      <td>3</td>\n",
       "      <td>3</td>\n",
       "    </tr>\n",
       "    <tr>\n",
       "      <th>78</th>\n",
       "      <td>{'class_weight': 'balanced', 'criterion': 'gini', 'max_depth': 30}</td>\n",
       "      <td>0.873116</td>\n",
       "      <td>0.023911</td>\n",
       "      <td>3</td>\n",
       "      <td>3</td>\n",
       "    </tr>\n",
       "    <tr>\n",
       "      <th>96</th>\n",
       "      <td>{'class_weight': 'balanced', 'criterion': 'gini', 'max_depth': 48}</td>\n",
       "      <td>0.873116</td>\n",
       "      <td>0.023911</td>\n",
       "      <td>3</td>\n",
       "      <td>3</td>\n",
       "    </tr>\n",
       "    <tr>\n",
       "      <th>79</th>\n",
       "      <td>{'class_weight': 'balanced', 'criterion': 'gini', 'max_depth': 31}</td>\n",
       "      <td>0.873116</td>\n",
       "      <td>0.023911</td>\n",
       "      <td>3</td>\n",
       "      <td>3</td>\n",
       "    </tr>\n",
       "    <tr>\n",
       "      <th>81</th>\n",
       "      <td>{'class_weight': 'balanced', 'criterion': 'gini', 'max_depth': 33}</td>\n",
       "      <td>0.873116</td>\n",
       "      <td>0.023911</td>\n",
       "      <td>3</td>\n",
       "      <td>3</td>\n",
       "    </tr>\n",
       "    <tr>\n",
       "      <th>82</th>\n",
       "      <td>{'class_weight': 'balanced', 'criterion': 'gini', 'max_depth': 34}</td>\n",
       "      <td>0.873116</td>\n",
       "      <td>0.023911</td>\n",
       "      <td>3</td>\n",
       "      <td>3</td>\n",
       "    </tr>\n",
       "    <tr>\n",
       "      <th>83</th>\n",
       "      <td>{'class_weight': 'balanced', 'criterion': 'gini', 'max_depth': 35}</td>\n",
       "      <td>0.873116</td>\n",
       "      <td>0.023911</td>\n",
       "      <td>3</td>\n",
       "      <td>3</td>\n",
       "    </tr>\n",
       "    <tr>\n",
       "      <th>84</th>\n",
       "      <td>{'class_weight': 'balanced', 'criterion': 'gini', 'max_depth': 36}</td>\n",
       "      <td>0.873116</td>\n",
       "      <td>0.023911</td>\n",
       "      <td>3</td>\n",
       "      <td>3</td>\n",
       "    </tr>\n",
       "    <tr>\n",
       "      <th>85</th>\n",
       "      <td>{'class_weight': 'balanced', 'criterion': 'gini', 'max_depth': 37}</td>\n",
       "      <td>0.873116</td>\n",
       "      <td>0.023911</td>\n",
       "      <td>3</td>\n",
       "      <td>3</td>\n",
       "    </tr>\n",
       "    <tr>\n",
       "      <th>86</th>\n",
       "      <td>{'class_weight': 'balanced', 'criterion': 'gini', 'max_depth': 38}</td>\n",
       "      <td>0.873116</td>\n",
       "      <td>0.023911</td>\n",
       "      <td>3</td>\n",
       "      <td>3</td>\n",
       "    </tr>\n",
       "  </tbody>\n",
       "</table>\n",
       "</div>"
      ],
      "text/plain": [
       "                                                                params  \\\n",
       "70  {'class_weight': 'balanced', 'criterion': 'gini', 'max_depth': 22}   \n",
       "69  {'class_weight': 'balanced', 'criterion': 'gini', 'max_depth': 21}   \n",
       "97  {'class_weight': 'balanced', 'criterion': 'gini', 'max_depth': 49}   \n",
       "95  {'class_weight': 'balanced', 'criterion': 'gini', 'max_depth': 47}   \n",
       "94  {'class_weight': 'balanced', 'criterion': 'gini', 'max_depth': 46}   \n",
       "71  {'class_weight': 'balanced', 'criterion': 'gini', 'max_depth': 23}   \n",
       "72  {'class_weight': 'balanced', 'criterion': 'gini', 'max_depth': 24}   \n",
       "73  {'class_weight': 'balanced', 'criterion': 'gini', 'max_depth': 25}   \n",
       "75  {'class_weight': 'balanced', 'criterion': 'gini', 'max_depth': 27}   \n",
       "76  {'class_weight': 'balanced', 'criterion': 'gini', 'max_depth': 28}   \n",
       "77  {'class_weight': 'balanced', 'criterion': 'gini', 'max_depth': 29}   \n",
       "78  {'class_weight': 'balanced', 'criterion': 'gini', 'max_depth': 30}   \n",
       "96  {'class_weight': 'balanced', 'criterion': 'gini', 'max_depth': 48}   \n",
       "79  {'class_weight': 'balanced', 'criterion': 'gini', 'max_depth': 31}   \n",
       "81  {'class_weight': 'balanced', 'criterion': 'gini', 'max_depth': 33}   \n",
       "82  {'class_weight': 'balanced', 'criterion': 'gini', 'max_depth': 34}   \n",
       "83  {'class_weight': 'balanced', 'criterion': 'gini', 'max_depth': 35}   \n",
       "84  {'class_weight': 'balanced', 'criterion': 'gini', 'max_depth': 36}   \n",
       "85  {'class_weight': 'balanced', 'criterion': 'gini', 'max_depth': 37}   \n",
       "86  {'class_weight': 'balanced', 'criterion': 'gini', 'max_depth': 38}   \n",
       "\n",
       "    mean_test_score  std_test_score  rank_test_score  rank_test_score  \n",
       "70         0.873121        0.023998                1                1  \n",
       "69         0.873121        0.026300                2                2  \n",
       "97         0.873116        0.023911                3                3  \n",
       "95         0.873116        0.023911                3                3  \n",
       "94         0.873116        0.023911                3                3  \n",
       "71         0.873116        0.023911                3                3  \n",
       "72         0.873116        0.023911                3                3  \n",
       "73         0.873116        0.023911                3                3  \n",
       "75         0.873116        0.023911                3                3  \n",
       "76         0.873116        0.023911                3                3  \n",
       "77         0.873116        0.023911                3                3  \n",
       "78         0.873116        0.023911                3                3  \n",
       "96         0.873116        0.023911                3                3  \n",
       "79         0.873116        0.023911                3                3  \n",
       "81         0.873116        0.023911                3                3  \n",
       "82         0.873116        0.023911                3                3  \n",
       "83         0.873116        0.023911                3                3  \n",
       "84         0.873116        0.023911                3                3  \n",
       "85         0.873116        0.023911                3                3  \n",
       "86         0.873116        0.023911                3                3  "
      ]
     },
     "execution_count": 21,
     "metadata": {},
     "output_type": "execute_result"
    }
   ],
   "source": [
    "DT_estimators = pd.DataFrame(grid.cv_results_)\n",
    "DT_estimators.sort_values('rank_test_score', inplace=True)\n",
    "DT_estimators[['params', 'mean_test_score', 'std_test_score', 'rank_test_score', 'rank_test_score']].head(20)"
   ]
  },
  {
   "cell_type": "markdown",
   "metadata": {},
   "source": [
    "### 4. Случайный лес\n",
    " \n",
    "1. Используя GridSearchCV попробуйте разные значения параметра n_estimators (5, 10, 50, 100), параметра max_depth (от 1 до 49), параметра class_weight (balanced, None), параметра criterion (entropy and gini). Используйте random_state=21 найдите наилучшую комбинацию параметров с точки зрения accuracy.\n",
    "2. Создайте из результатов gridsearch датафрейм и отсортируйте по возрастанию значений rank_test_score. Посмотрите есть ли между какими-то соседними комбинациями большая разница (иногда более простая модель может давать сопоставимый результат).\n",
    " "
   ]
  },
  {
   "cell_type": "code",
   "execution_count": 22,
   "metadata": {},
   "outputs": [],
   "source": [
    "param_grid = {'max_depth': range(1,50),\n",
    "              'class_weight': ['balanced', None],\n",
    "              'criterion': ['entropy', 'gini'],\n",
    "              'n_estimators': [5, 10, 50, 100]}"
   ]
  },
  {
   "cell_type": "code",
   "execution_count": 23,
   "metadata": {},
   "outputs": [],
   "source": [
    "grid = GridSearchCV(estimator=RandomForestClassifier(random_state=21), param_grid=param_grid, verbose=True)"
   ]
  },
  {
   "cell_type": "code",
   "execution_count": 24,
   "metadata": {},
   "outputs": [
    {
     "name": "stdout",
     "output_type": "stream",
     "text": [
      "Fitting 5 folds for each of 784 candidates, totalling 3920 fits\n"
     ]
    },
    {
     "data": {
      "text/html": [
       "<style>#sk-container-id-3 {color: black;background-color: white;}#sk-container-id-3 pre{padding: 0;}#sk-container-id-3 div.sk-toggleable {background-color: white;}#sk-container-id-3 label.sk-toggleable__label {cursor: pointer;display: block;width: 100%;margin-bottom: 0;padding: 0.3em;box-sizing: border-box;text-align: center;}#sk-container-id-3 label.sk-toggleable__label-arrow:before {content: \"▸\";float: left;margin-right: 0.25em;color: #696969;}#sk-container-id-3 label.sk-toggleable__label-arrow:hover:before {color: black;}#sk-container-id-3 div.sk-estimator:hover label.sk-toggleable__label-arrow:before {color: black;}#sk-container-id-3 div.sk-toggleable__content {max-height: 0;max-width: 0;overflow: hidden;text-align: left;background-color: #f0f8ff;}#sk-container-id-3 div.sk-toggleable__content pre {margin: 0.2em;color: black;border-radius: 0.25em;background-color: #f0f8ff;}#sk-container-id-3 input.sk-toggleable__control:checked~div.sk-toggleable__content {max-height: 200px;max-width: 100%;overflow: auto;}#sk-container-id-3 input.sk-toggleable__control:checked~label.sk-toggleable__label-arrow:before {content: \"▾\";}#sk-container-id-3 div.sk-estimator input.sk-toggleable__control:checked~label.sk-toggleable__label {background-color: #d4ebff;}#sk-container-id-3 div.sk-label input.sk-toggleable__control:checked~label.sk-toggleable__label {background-color: #d4ebff;}#sk-container-id-3 input.sk-hidden--visually {border: 0;clip: rect(1px 1px 1px 1px);clip: rect(1px, 1px, 1px, 1px);height: 1px;margin: -1px;overflow: hidden;padding: 0;position: absolute;width: 1px;}#sk-container-id-3 div.sk-estimator {font-family: monospace;background-color: #f0f8ff;border: 1px dotted black;border-radius: 0.25em;box-sizing: border-box;margin-bottom: 0.5em;}#sk-container-id-3 div.sk-estimator:hover {background-color: #d4ebff;}#sk-container-id-3 div.sk-parallel-item::after {content: \"\";width: 100%;border-bottom: 1px solid gray;flex-grow: 1;}#sk-container-id-3 div.sk-label:hover label.sk-toggleable__label {background-color: #d4ebff;}#sk-container-id-3 div.sk-serial::before {content: \"\";position: absolute;border-left: 1px solid gray;box-sizing: border-box;top: 0;bottom: 0;left: 50%;z-index: 0;}#sk-container-id-3 div.sk-serial {display: flex;flex-direction: column;align-items: center;background-color: white;padding-right: 0.2em;padding-left: 0.2em;position: relative;}#sk-container-id-3 div.sk-item {position: relative;z-index: 1;}#sk-container-id-3 div.sk-parallel {display: flex;align-items: stretch;justify-content: center;background-color: white;position: relative;}#sk-container-id-3 div.sk-item::before, #sk-container-id-3 div.sk-parallel-item::before {content: \"\";position: absolute;border-left: 1px solid gray;box-sizing: border-box;top: 0;bottom: 0;left: 50%;z-index: -1;}#sk-container-id-3 div.sk-parallel-item {display: flex;flex-direction: column;z-index: 1;position: relative;background-color: white;}#sk-container-id-3 div.sk-parallel-item:first-child::after {align-self: flex-end;width: 50%;}#sk-container-id-3 div.sk-parallel-item:last-child::after {align-self: flex-start;width: 50%;}#sk-container-id-3 div.sk-parallel-item:only-child::after {width: 0;}#sk-container-id-3 div.sk-dashed-wrapped {border: 1px dashed gray;margin: 0 0.4em 0.5em 0.4em;box-sizing: border-box;padding-bottom: 0.4em;background-color: white;}#sk-container-id-3 div.sk-label label {font-family: monospace;font-weight: bold;display: inline-block;line-height: 1.2em;}#sk-container-id-3 div.sk-label-container {text-align: center;}#sk-container-id-3 div.sk-container {/* jupyter's `normalize.less` sets `[hidden] { display: none; }` but bootstrap.min.css set `[hidden] { display: none !important; }` so we also need the `!important` here to be able to override the default hidden behavior on the sphinx rendered scikit-learn.org. See: https://github.com/scikit-learn/scikit-learn/issues/21755 */display: inline-block !important;position: relative;}#sk-container-id-3 div.sk-text-repr-fallback {display: none;}</style><div id=\"sk-container-id-3\" class=\"sk-top-container\"><div class=\"sk-text-repr-fallback\"><pre>GridSearchCV(estimator=RandomForestClassifier(random_state=21),\n",
       "             param_grid={&#x27;class_weight&#x27;: [&#x27;balanced&#x27;, None],\n",
       "                         &#x27;criterion&#x27;: [&#x27;entropy&#x27;, &#x27;gini&#x27;],\n",
       "                         &#x27;max_depth&#x27;: range(1, 50),\n",
       "                         &#x27;n_estimators&#x27;: [5, 10, 50, 100]},\n",
       "             verbose=True)</pre><b>In a Jupyter environment, please rerun this cell to show the HTML representation or trust the notebook. <br />On GitHub, the HTML representation is unable to render, please try loading this page with nbviewer.org.</b></div><div class=\"sk-container\" hidden><div class=\"sk-item sk-dashed-wrapped\"><div class=\"sk-label-container\"><div class=\"sk-label sk-toggleable\"><input class=\"sk-toggleable__control sk-hidden--visually\" id=\"sk-estimator-id-7\" type=\"checkbox\" ><label for=\"sk-estimator-id-7\" class=\"sk-toggleable__label sk-toggleable__label-arrow\">GridSearchCV</label><div class=\"sk-toggleable__content\"><pre>GridSearchCV(estimator=RandomForestClassifier(random_state=21),\n",
       "             param_grid={&#x27;class_weight&#x27;: [&#x27;balanced&#x27;, None],\n",
       "                         &#x27;criterion&#x27;: [&#x27;entropy&#x27;, &#x27;gini&#x27;],\n",
       "                         &#x27;max_depth&#x27;: range(1, 50),\n",
       "                         &#x27;n_estimators&#x27;: [5, 10, 50, 100]},\n",
       "             verbose=True)</pre></div></div></div><div class=\"sk-parallel\"><div class=\"sk-parallel-item\"><div class=\"sk-item\"><div class=\"sk-label-container\"><div class=\"sk-label sk-toggleable\"><input class=\"sk-toggleable__control sk-hidden--visually\" id=\"sk-estimator-id-8\" type=\"checkbox\" ><label for=\"sk-estimator-id-8\" class=\"sk-toggleable__label sk-toggleable__label-arrow\">estimator: RandomForestClassifier</label><div class=\"sk-toggleable__content\"><pre>RandomForestClassifier(random_state=21)</pre></div></div></div><div class=\"sk-serial\"><div class=\"sk-item\"><div class=\"sk-estimator sk-toggleable\"><input class=\"sk-toggleable__control sk-hidden--visually\" id=\"sk-estimator-id-9\" type=\"checkbox\" ><label for=\"sk-estimator-id-9\" class=\"sk-toggleable__label sk-toggleable__label-arrow\">RandomForestClassifier</label><div class=\"sk-toggleable__content\"><pre>RandomForestClassifier(random_state=21)</pre></div></div></div></div></div></div></div></div></div></div>"
      ],
      "text/plain": [
       "GridSearchCV(estimator=RandomForestClassifier(random_state=21),\n",
       "             param_grid={'class_weight': ['balanced', None],\n",
       "                         'criterion': ['entropy', 'gini'],\n",
       "                         'max_depth': range(1, 50),\n",
       "                         'n_estimators': [5, 10, 50, 100]},\n",
       "             verbose=True)"
      ]
     },
     "execution_count": 24,
     "metadata": {},
     "output_type": "execute_result"
    }
   ],
   "source": [
    "grid.fit(X_train, y_train)"
   ]
  },
  {
   "cell_type": "code",
   "execution_count": 25,
   "metadata": {},
   "outputs": [
    {
     "data": {
      "text/plain": [
       "{'class_weight': None,\n",
       " 'criterion': 'gini',\n",
       " 'max_depth': 28,\n",
       " 'n_estimators': 50}"
      ]
     },
     "execution_count": 25,
     "metadata": {},
     "output_type": "execute_result"
    }
   ],
   "source": [
    "grid.best_params_"
   ]
  },
  {
   "cell_type": "code",
   "execution_count": 26,
   "metadata": {},
   "outputs": [
    {
     "data": {
      "text/html": [
       "<div>\n",
       "<style scoped>\n",
       "    .dataframe tbody tr th:only-of-type {\n",
       "        vertical-align: middle;\n",
       "    }\n",
       "\n",
       "    .dataframe tbody tr th {\n",
       "        vertical-align: top;\n",
       "    }\n",
       "\n",
       "    .dataframe thead th {\n",
       "        text-align: right;\n",
       "    }\n",
       "</style>\n",
       "<table border=\"1\" class=\"dataframe\">\n",
       "  <thead>\n",
       "    <tr style=\"text-align: right;\">\n",
       "      <th></th>\n",
       "      <th>params</th>\n",
       "      <th>mean_test_score</th>\n",
       "      <th>std_test_score</th>\n",
       "      <th>rank_test_score</th>\n",
       "      <th>rank_test_score</th>\n",
       "    </tr>\n",
       "  </thead>\n",
       "  <tbody>\n",
       "    <tr>\n",
       "      <th>698</th>\n",
       "      <td>{'class_weight': None, 'criterion': 'gini', 'max_depth': 28, 'n_estimators': 50}</td>\n",
       "      <td>0.904290</td>\n",
       "      <td>0.010961</td>\n",
       "      <td>1</td>\n",
       "      <td>1</td>\n",
       "    </tr>\n",
       "    <tr>\n",
       "      <th>711</th>\n",
       "      <td>{'class_weight': None, 'criterion': 'gini', 'max_depth': 31, 'n_estimators': 100}</td>\n",
       "      <td>0.903547</td>\n",
       "      <td>0.014380</td>\n",
       "      <td>2</td>\n",
       "      <td>2</td>\n",
       "    </tr>\n",
       "    <tr>\n",
       "      <th>314</th>\n",
       "      <td>{'class_weight': 'balanced', 'criterion': 'gini', 'max_depth': 30, 'n_estimators': 50}</td>\n",
       "      <td>0.902817</td>\n",
       "      <td>0.013554</td>\n",
       "      <td>3</td>\n",
       "      <td>3</td>\n",
       "    </tr>\n",
       "    <tr>\n",
       "      <th>330</th>\n",
       "      <td>{'class_weight': 'balanced', 'criterion': 'gini', 'max_depth': 34, 'n_estimators': 50}</td>\n",
       "      <td>0.902809</td>\n",
       "      <td>0.013010</td>\n",
       "      <td>4</td>\n",
       "      <td>4</td>\n",
       "    </tr>\n",
       "    <tr>\n",
       "      <th>702</th>\n",
       "      <td>{'class_weight': None, 'criterion': 'gini', 'max_depth': 29, 'n_estimators': 50}</td>\n",
       "      <td>0.902806</td>\n",
       "      <td>0.011698</td>\n",
       "      <td>5</td>\n",
       "      <td>5</td>\n",
       "    </tr>\n",
       "    <tr>\n",
       "      <th>731</th>\n",
       "      <td>{'class_weight': None, 'criterion': 'gini', 'max_depth': 36, 'n_estimators': 100}</td>\n",
       "      <td>0.902806</td>\n",
       "      <td>0.010460</td>\n",
       "      <td>5</td>\n",
       "      <td>5</td>\n",
       "    </tr>\n",
       "    <tr>\n",
       "      <th>735</th>\n",
       "      <td>{'class_weight': None, 'criterion': 'gini', 'max_depth': 37, 'n_estimators': 100}</td>\n",
       "      <td>0.902806</td>\n",
       "      <td>0.010460</td>\n",
       "      <td>5</td>\n",
       "      <td>5</td>\n",
       "    </tr>\n",
       "    <tr>\n",
       "      <th>739</th>\n",
       "      <td>{'class_weight': None, 'criterion': 'gini', 'max_depth': 38, 'n_estimators': 100}</td>\n",
       "      <td>0.902806</td>\n",
       "      <td>0.010460</td>\n",
       "      <td>5</td>\n",
       "      <td>5</td>\n",
       "    </tr>\n",
       "    <tr>\n",
       "      <th>743</th>\n",
       "      <td>{'class_weight': None, 'criterion': 'gini', 'max_depth': 39, 'n_estimators': 100}</td>\n",
       "      <td>0.902806</td>\n",
       "      <td>0.010460</td>\n",
       "      <td>5</td>\n",
       "      <td>5</td>\n",
       "    </tr>\n",
       "    <tr>\n",
       "      <th>747</th>\n",
       "      <td>{'class_weight': None, 'criterion': 'gini', 'max_depth': 40, 'n_estimators': 100}</td>\n",
       "      <td>0.902806</td>\n",
       "      <td>0.010460</td>\n",
       "      <td>5</td>\n",
       "      <td>5</td>\n",
       "    </tr>\n",
       "    <tr>\n",
       "      <th>751</th>\n",
       "      <td>{'class_weight': None, 'criterion': 'gini', 'max_depth': 41, 'n_estimators': 100}</td>\n",
       "      <td>0.902806</td>\n",
       "      <td>0.010460</td>\n",
       "      <td>5</td>\n",
       "      <td>5</td>\n",
       "    </tr>\n",
       "    <tr>\n",
       "      <th>755</th>\n",
       "      <td>{'class_weight': None, 'criterion': 'gini', 'max_depth': 42, 'n_estimators': 100}</td>\n",
       "      <td>0.902806</td>\n",
       "      <td>0.010460</td>\n",
       "      <td>5</td>\n",
       "      <td>5</td>\n",
       "    </tr>\n",
       "    <tr>\n",
       "      <th>783</th>\n",
       "      <td>{'class_weight': None, 'criterion': 'gini', 'max_depth': 49, 'n_estimators': 100}</td>\n",
       "      <td>0.902806</td>\n",
       "      <td>0.010460</td>\n",
       "      <td>5</td>\n",
       "      <td>5</td>\n",
       "    </tr>\n",
       "    <tr>\n",
       "      <th>759</th>\n",
       "      <td>{'class_weight': None, 'criterion': 'gini', 'max_depth': 43, 'n_estimators': 100}</td>\n",
       "      <td>0.902806</td>\n",
       "      <td>0.010460</td>\n",
       "      <td>5</td>\n",
       "      <td>5</td>\n",
       "    </tr>\n",
       "    <tr>\n",
       "      <th>779</th>\n",
       "      <td>{'class_weight': None, 'criterion': 'gini', 'max_depth': 48, 'n_estimators': 100}</td>\n",
       "      <td>0.902806</td>\n",
       "      <td>0.010460</td>\n",
       "      <td>5</td>\n",
       "      <td>5</td>\n",
       "    </tr>\n",
       "    <tr>\n",
       "      <th>763</th>\n",
       "      <td>{'class_weight': None, 'criterion': 'gini', 'max_depth': 44, 'n_estimators': 100}</td>\n",
       "      <td>0.902806</td>\n",
       "      <td>0.010460</td>\n",
       "      <td>5</td>\n",
       "      <td>5</td>\n",
       "    </tr>\n",
       "    <tr>\n",
       "      <th>767</th>\n",
       "      <td>{'class_weight': None, 'criterion': 'gini', 'max_depth': 45, 'n_estimators': 100}</td>\n",
       "      <td>0.902806</td>\n",
       "      <td>0.010460</td>\n",
       "      <td>5</td>\n",
       "      <td>5</td>\n",
       "    </tr>\n",
       "    <tr>\n",
       "      <th>771</th>\n",
       "      <td>{'class_weight': None, 'criterion': 'gini', 'max_depth': 46, 'n_estimators': 100}</td>\n",
       "      <td>0.902806</td>\n",
       "      <td>0.010460</td>\n",
       "      <td>5</td>\n",
       "      <td>5</td>\n",
       "    </tr>\n",
       "    <tr>\n",
       "      <th>775</th>\n",
       "      <td>{'class_weight': None, 'criterion': 'gini', 'max_depth': 47, 'n_estimators': 100}</td>\n",
       "      <td>0.902806</td>\n",
       "      <td>0.010460</td>\n",
       "      <td>5</td>\n",
       "      <td>5</td>\n",
       "    </tr>\n",
       "    <tr>\n",
       "      <th>322</th>\n",
       "      <td>{'class_weight': 'balanced', 'criterion': 'gini', 'max_depth': 32, 'n_estimators': 50}</td>\n",
       "      <td>0.902803</td>\n",
       "      <td>0.013267</td>\n",
       "      <td>20</td>\n",
       "      <td>20</td>\n",
       "    </tr>\n",
       "  </tbody>\n",
       "</table>\n",
       "</div>"
      ],
      "text/plain": [
       "                                                                                     params  \\\n",
       "698        {'class_weight': None, 'criterion': 'gini', 'max_depth': 28, 'n_estimators': 50}   \n",
       "711       {'class_weight': None, 'criterion': 'gini', 'max_depth': 31, 'n_estimators': 100}   \n",
       "314  {'class_weight': 'balanced', 'criterion': 'gini', 'max_depth': 30, 'n_estimators': 50}   \n",
       "330  {'class_weight': 'balanced', 'criterion': 'gini', 'max_depth': 34, 'n_estimators': 50}   \n",
       "702        {'class_weight': None, 'criterion': 'gini', 'max_depth': 29, 'n_estimators': 50}   \n",
       "731       {'class_weight': None, 'criterion': 'gini', 'max_depth': 36, 'n_estimators': 100}   \n",
       "735       {'class_weight': None, 'criterion': 'gini', 'max_depth': 37, 'n_estimators': 100}   \n",
       "739       {'class_weight': None, 'criterion': 'gini', 'max_depth': 38, 'n_estimators': 100}   \n",
       "743       {'class_weight': None, 'criterion': 'gini', 'max_depth': 39, 'n_estimators': 100}   \n",
       "747       {'class_weight': None, 'criterion': 'gini', 'max_depth': 40, 'n_estimators': 100}   \n",
       "751       {'class_weight': None, 'criterion': 'gini', 'max_depth': 41, 'n_estimators': 100}   \n",
       "755       {'class_weight': None, 'criterion': 'gini', 'max_depth': 42, 'n_estimators': 100}   \n",
       "783       {'class_weight': None, 'criterion': 'gini', 'max_depth': 49, 'n_estimators': 100}   \n",
       "759       {'class_weight': None, 'criterion': 'gini', 'max_depth': 43, 'n_estimators': 100}   \n",
       "779       {'class_weight': None, 'criterion': 'gini', 'max_depth': 48, 'n_estimators': 100}   \n",
       "763       {'class_weight': None, 'criterion': 'gini', 'max_depth': 44, 'n_estimators': 100}   \n",
       "767       {'class_weight': None, 'criterion': 'gini', 'max_depth': 45, 'n_estimators': 100}   \n",
       "771       {'class_weight': None, 'criterion': 'gini', 'max_depth': 46, 'n_estimators': 100}   \n",
       "775       {'class_weight': None, 'criterion': 'gini', 'max_depth': 47, 'n_estimators': 100}   \n",
       "322  {'class_weight': 'balanced', 'criterion': 'gini', 'max_depth': 32, 'n_estimators': 50}   \n",
       "\n",
       "     mean_test_score  std_test_score  rank_test_score  rank_test_score  \n",
       "698         0.904290        0.010961                1                1  \n",
       "711         0.903547        0.014380                2                2  \n",
       "314         0.902817        0.013554                3                3  \n",
       "330         0.902809        0.013010                4                4  \n",
       "702         0.902806        0.011698                5                5  \n",
       "731         0.902806        0.010460                5                5  \n",
       "735         0.902806        0.010460                5                5  \n",
       "739         0.902806        0.010460                5                5  \n",
       "743         0.902806        0.010460                5                5  \n",
       "747         0.902806        0.010460                5                5  \n",
       "751         0.902806        0.010460                5                5  \n",
       "755         0.902806        0.010460                5                5  \n",
       "783         0.902806        0.010460                5                5  \n",
       "759         0.902806        0.010460                5                5  \n",
       "779         0.902806        0.010460                5                5  \n",
       "763         0.902806        0.010460                5                5  \n",
       "767         0.902806        0.010460                5                5  \n",
       "771         0.902806        0.010460                5                5  \n",
       "775         0.902806        0.010460                5                5  \n",
       "322         0.902803        0.013267               20               20  "
      ]
     },
     "execution_count": 26,
     "metadata": {},
     "output_type": "execute_result"
    }
   ],
   "source": [
    "RF_estimators = pd.DataFrame(grid.cv_results_)\n",
    "RF_estimators.sort_values('rank_test_score', inplace=True)\n",
    "RF_estimators[['params', 'mean_test_score', 'std_test_score', 'rank_test_score', 'rank_test_score']].head(20)"
   ]
  },
  {
   "cell_type": "markdown",
   "metadata": {},
   "source": [
    "### 5. Индикатор прогресса\n",
    " Gridsearch может занимать довольно много времени, и вам может быть интересно, а сколько еще ждать до конца. Для этого есть способ.\n",
    "1. Напишите свой собственный gridsearch для тех же самых интервалов параметров случайного леса. Итерируйтесь по списку возможных комбинаций значений и рассчитывайте cross_val_score для каждой комбинации. Попробуйте увеличить параметр n_jobs. Значение cv для cross_val_score равно 5.\n",
    "2. Следите за прогрессом, используя библиотеку tqdm.notebook.\n",
    "3. Создайте датафрейм на основе результатов gridsearch со столбцами, соответствующими названиям параметров, а также их mean_accuracy и std_accuracy.\n",
    "4. Отсортируйте датафрейм по убыванию mean_accuracy. Посмотрите есть ли между какими-то соседними комбинациями большая разница (иногда более простая модель может давать сопоставимый результат)."
   ]
  },
  {
   "cell_type": "code",
   "execution_count": 27,
   "metadata": {},
   "outputs": [],
   "source": [
    "n_estimators = [5, 10, 50, 100]\n",
    "max_depth = list(range(1, 50))\n",
    "class_weight = ['balanced', None]\n",
    "criterion = ['entropy', 'gini']"
   ]
  },
  {
   "cell_type": "code",
   "execution_count": 28,
   "metadata": {},
   "outputs": [],
   "source": [
    "n_estimators_list = []\n",
    "max_depth_list = []\n",
    "class_weight_list = []\n",
    "criterion_list = []\n",
    "mean_list = []\n",
    "std_list = []"
   ]
  },
  {
   "cell_type": "code",
   "execution_count": 29,
   "metadata": {},
   "outputs": [
    {
     "data": {
      "application/vnd.jupyter.widget-view+json": {
       "model_id": "64aa2ee56cee48658d32d1b01f1074d8",
       "version_major": 2,
       "version_minor": 0
      },
      "text/plain": [
       "5, 1, balanced, entropy:   0%|          | 0/2 [00:00<?, ?it/s]"
      ]
     },
     "metadata": {},
     "output_type": "display_data"
    },
    {
     "data": {
      "application/vnd.jupyter.widget-view+json": {
       "model_id": "1d6472c95aa44a53b1707e8807d416a9",
       "version_major": 2,
       "version_minor": 0
      },
      "text/plain": [
       "5, 1, None, gini:   0%|          | 0/2 [00:00<?, ?it/s]"
      ]
     },
     "metadata": {},
     "output_type": "display_data"
    },
    {
     "data": {
      "application/vnd.jupyter.widget-view+json": {
       "model_id": "b54e65c4e99440c59b52bf3103d5fad3",
       "version_major": 2,
       "version_minor": 0
      },
      "text/plain": [
       "5, 2, balanced, entropy:   0%|          | 0/2 [00:00<?, ?it/s]"
      ]
     },
     "metadata": {},
     "output_type": "display_data"
    },
    {
     "data": {
      "application/vnd.jupyter.widget-view+json": {
       "model_id": "92a66d93469c4ebeacd300a42fbabf0a",
       "version_major": 2,
       "version_minor": 0
      },
      "text/plain": [
       "5, 2, None, gini:   0%|          | 0/2 [00:00<?, ?it/s]"
      ]
     },
     "metadata": {},
     "output_type": "display_data"
    },
    {
     "data": {
      "application/vnd.jupyter.widget-view+json": {
       "model_id": "30a37f799ae848ef9c99324e61dd3f24",
       "version_major": 2,
       "version_minor": 0
      },
      "text/plain": [
       "5, 3, balanced, entropy:   0%|          | 0/2 [00:00<?, ?it/s]"
      ]
     },
     "metadata": {},
     "output_type": "display_data"
    },
    {
     "data": {
      "application/vnd.jupyter.widget-view+json": {
       "model_id": "ae08294cc7804474b2cf630eff81d417",
       "version_major": 2,
       "version_minor": 0
      },
      "text/plain": [
       "5, 3, None, gini:   0%|          | 0/2 [00:00<?, ?it/s]"
      ]
     },
     "metadata": {},
     "output_type": "display_data"
    },
    {
     "data": {
      "application/vnd.jupyter.widget-view+json": {
       "model_id": "454a5944b69d415fa3f6a48ab9398052",
       "version_major": 2,
       "version_minor": 0
      },
      "text/plain": [
       "5, 4, balanced, entropy:   0%|          | 0/2 [00:00<?, ?it/s]"
      ]
     },
     "metadata": {},
     "output_type": "display_data"
    },
    {
     "data": {
      "application/vnd.jupyter.widget-view+json": {
       "model_id": "2a7a53580fb94fda9624a48e4cd36a53",
       "version_major": 2,
       "version_minor": 0
      },
      "text/plain": [
       "5, 4, None, gini:   0%|          | 0/2 [00:00<?, ?it/s]"
      ]
     },
     "metadata": {},
     "output_type": "display_data"
    },
    {
     "data": {
      "application/vnd.jupyter.widget-view+json": {
       "model_id": "e87c6e14f6514db3bd2e34e81e5d41f3",
       "version_major": 2,
       "version_minor": 0
      },
      "text/plain": [
       "5, 5, balanced, entropy:   0%|          | 0/2 [00:00<?, ?it/s]"
      ]
     },
     "metadata": {},
     "output_type": "display_data"
    },
    {
     "data": {
      "application/vnd.jupyter.widget-view+json": {
       "model_id": "8d13527e12ac464cacfe2bafb644be36",
       "version_major": 2,
       "version_minor": 0
      },
      "text/plain": [
       "5, 5, None, gini:   0%|          | 0/2 [00:00<?, ?it/s]"
      ]
     },
     "metadata": {},
     "output_type": "display_data"
    },
    {
     "data": {
      "application/vnd.jupyter.widget-view+json": {
       "model_id": "e000540c4e9d4e3eaecba4a7a18a5010",
       "version_major": 2,
       "version_minor": 0
      },
      "text/plain": [
       "5, 6, balanced, entropy:   0%|          | 0/2 [00:00<?, ?it/s]"
      ]
     },
     "metadata": {},
     "output_type": "display_data"
    },
    {
     "data": {
      "application/vnd.jupyter.widget-view+json": {
       "model_id": "d72bb62c2d6543b5b65379d07f69e7b6",
       "version_major": 2,
       "version_minor": 0
      },
      "text/plain": [
       "5, 6, None, gini:   0%|          | 0/2 [00:00<?, ?it/s]"
      ]
     },
     "metadata": {},
     "output_type": "display_data"
    },
    {
     "data": {
      "application/vnd.jupyter.widget-view+json": {
       "model_id": "29d3eccd85344889a7ed7e311b397fb5",
       "version_major": 2,
       "version_minor": 0
      },
      "text/plain": [
       "5, 7, balanced, entropy:   0%|          | 0/2 [00:00<?, ?it/s]"
      ]
     },
     "metadata": {},
     "output_type": "display_data"
    },
    {
     "data": {
      "application/vnd.jupyter.widget-view+json": {
       "model_id": "69f893022a3f45fb80f3414ea5547caa",
       "version_major": 2,
       "version_minor": 0
      },
      "text/plain": [
       "5, 7, None, gini:   0%|          | 0/2 [00:00<?, ?it/s]"
      ]
     },
     "metadata": {},
     "output_type": "display_data"
    },
    {
     "data": {
      "application/vnd.jupyter.widget-view+json": {
       "model_id": "e9cd8f4e79d741daa7c94c729a13536a",
       "version_major": 2,
       "version_minor": 0
      },
      "text/plain": [
       "5, 8, balanced, entropy:   0%|          | 0/2 [00:00<?, ?it/s]"
      ]
     },
     "metadata": {},
     "output_type": "display_data"
    },
    {
     "data": {
      "application/vnd.jupyter.widget-view+json": {
       "model_id": "95e7c297853e46509ee99f9e88d7e0a9",
       "version_major": 2,
       "version_minor": 0
      },
      "text/plain": [
       "5, 8, None, gini:   0%|          | 0/2 [00:00<?, ?it/s]"
      ]
     },
     "metadata": {},
     "output_type": "display_data"
    },
    {
     "data": {
      "application/vnd.jupyter.widget-view+json": {
       "model_id": "cfc28cb51c3b483c8eda58dfca27b224",
       "version_major": 2,
       "version_minor": 0
      },
      "text/plain": [
       "5, 9, balanced, entropy:   0%|          | 0/2 [00:00<?, ?it/s]"
      ]
     },
     "metadata": {},
     "output_type": "display_data"
    },
    {
     "data": {
      "application/vnd.jupyter.widget-view+json": {
       "model_id": "684db487fd6d42a5a9c2787ad77703b2",
       "version_major": 2,
       "version_minor": 0
      },
      "text/plain": [
       "5, 9, None, gini:   0%|          | 0/2 [00:00<?, ?it/s]"
      ]
     },
     "metadata": {},
     "output_type": "display_data"
    },
    {
     "data": {
      "application/vnd.jupyter.widget-view+json": {
       "model_id": "9c6bdc20baba4852a114b0b0a339bc4b",
       "version_major": 2,
       "version_minor": 0
      },
      "text/plain": [
       "5, 10, balanced, entropy:   0%|          | 0/2 [00:00<?, ?it/s]"
      ]
     },
     "metadata": {},
     "output_type": "display_data"
    },
    {
     "data": {
      "application/vnd.jupyter.widget-view+json": {
       "model_id": "65f024f2cfa84dd28c1a0e8434de8836",
       "version_major": 2,
       "version_minor": 0
      },
      "text/plain": [
       "5, 10, None, gini:   0%|          | 0/2 [00:00<?, ?it/s]"
      ]
     },
     "metadata": {},
     "output_type": "display_data"
    },
    {
     "data": {
      "application/vnd.jupyter.widget-view+json": {
       "model_id": "88eac12bac054cecaff33fa457429896",
       "version_major": 2,
       "version_minor": 0
      },
      "text/plain": [
       "5, 11, balanced, entropy:   0%|          | 0/2 [00:00<?, ?it/s]"
      ]
     },
     "metadata": {},
     "output_type": "display_data"
    },
    {
     "data": {
      "application/vnd.jupyter.widget-view+json": {
       "model_id": "73fd962d18fd4dbe928b91e084d68657",
       "version_major": 2,
       "version_minor": 0
      },
      "text/plain": [
       "5, 11, None, gini:   0%|          | 0/2 [00:00<?, ?it/s]"
      ]
     },
     "metadata": {},
     "output_type": "display_data"
    },
    {
     "data": {
      "application/vnd.jupyter.widget-view+json": {
       "model_id": "c2b1026a96274785ba6f4ed0bc9073c0",
       "version_major": 2,
       "version_minor": 0
      },
      "text/plain": [
       "5, 12, balanced, entropy:   0%|          | 0/2 [00:00<?, ?it/s]"
      ]
     },
     "metadata": {},
     "output_type": "display_data"
    },
    {
     "data": {
      "application/vnd.jupyter.widget-view+json": {
       "model_id": "9cf2a616d938488394c738b649d7041d",
       "version_major": 2,
       "version_minor": 0
      },
      "text/plain": [
       "5, 12, None, gini:   0%|          | 0/2 [00:00<?, ?it/s]"
      ]
     },
     "metadata": {},
     "output_type": "display_data"
    },
    {
     "data": {
      "application/vnd.jupyter.widget-view+json": {
       "model_id": "2ae8b0d3899747ff8b4adbc0e5f4c941",
       "version_major": 2,
       "version_minor": 0
      },
      "text/plain": [
       "5, 13, balanced, entropy:   0%|          | 0/2 [00:00<?, ?it/s]"
      ]
     },
     "metadata": {},
     "output_type": "display_data"
    },
    {
     "data": {
      "application/vnd.jupyter.widget-view+json": {
       "model_id": "46830cfde1bc45a0ab67701714a6ff1d",
       "version_major": 2,
       "version_minor": 0
      },
      "text/plain": [
       "5, 13, None, gini:   0%|          | 0/2 [00:00<?, ?it/s]"
      ]
     },
     "metadata": {},
     "output_type": "display_data"
    },
    {
     "data": {
      "application/vnd.jupyter.widget-view+json": {
       "model_id": "36b10dfe81874c438b6792a307a2557d",
       "version_major": 2,
       "version_minor": 0
      },
      "text/plain": [
       "5, 14, balanced, entropy:   0%|          | 0/2 [00:00<?, ?it/s]"
      ]
     },
     "metadata": {},
     "output_type": "display_data"
    },
    {
     "data": {
      "application/vnd.jupyter.widget-view+json": {
       "model_id": "52ee4f3985b548d192ef2fef326cbf64",
       "version_major": 2,
       "version_minor": 0
      },
      "text/plain": [
       "5, 14, None, gini:   0%|          | 0/2 [00:00<?, ?it/s]"
      ]
     },
     "metadata": {},
     "output_type": "display_data"
    },
    {
     "data": {
      "application/vnd.jupyter.widget-view+json": {
       "model_id": "d55d36e65c1b4980b2a046f3a2187464",
       "version_major": 2,
       "version_minor": 0
      },
      "text/plain": [
       "5, 15, balanced, entropy:   0%|          | 0/2 [00:00<?, ?it/s]"
      ]
     },
     "metadata": {},
     "output_type": "display_data"
    },
    {
     "data": {
      "application/vnd.jupyter.widget-view+json": {
       "model_id": "48d23e1fbe0c4c59a8a96e47256c4e41",
       "version_major": 2,
       "version_minor": 0
      },
      "text/plain": [
       "5, 15, None, gini:   0%|          | 0/2 [00:00<?, ?it/s]"
      ]
     },
     "metadata": {},
     "output_type": "display_data"
    },
    {
     "data": {
      "application/vnd.jupyter.widget-view+json": {
       "model_id": "34a72bceabc14e8fae9c11d5a7ab09f4",
       "version_major": 2,
       "version_minor": 0
      },
      "text/plain": [
       "5, 16, balanced, entropy:   0%|          | 0/2 [00:00<?, ?it/s]"
      ]
     },
     "metadata": {},
     "output_type": "display_data"
    },
    {
     "data": {
      "application/vnd.jupyter.widget-view+json": {
       "model_id": "5b7b3233fce048aaa9ed770a19a8dc3c",
       "version_major": 2,
       "version_minor": 0
      },
      "text/plain": [
       "5, 16, None, gini:   0%|          | 0/2 [00:00<?, ?it/s]"
      ]
     },
     "metadata": {},
     "output_type": "display_data"
    },
    {
     "data": {
      "application/vnd.jupyter.widget-view+json": {
       "model_id": "1c51b6e4452147cca91bd8251447f0cd",
       "version_major": 2,
       "version_minor": 0
      },
      "text/plain": [
       "5, 17, balanced, entropy:   0%|          | 0/2 [00:00<?, ?it/s]"
      ]
     },
     "metadata": {},
     "output_type": "display_data"
    },
    {
     "data": {
      "application/vnd.jupyter.widget-view+json": {
       "model_id": "4e504f70f12743ba9d91168414242f85",
       "version_major": 2,
       "version_minor": 0
      },
      "text/plain": [
       "5, 17, None, gini:   0%|          | 0/2 [00:00<?, ?it/s]"
      ]
     },
     "metadata": {},
     "output_type": "display_data"
    },
    {
     "data": {
      "application/vnd.jupyter.widget-view+json": {
       "model_id": "31ff5f6b94b74f69b142b7d971286dd7",
       "version_major": 2,
       "version_minor": 0
      },
      "text/plain": [
       "5, 18, balanced, entropy:   0%|          | 0/2 [00:00<?, ?it/s]"
      ]
     },
     "metadata": {},
     "output_type": "display_data"
    },
    {
     "data": {
      "application/vnd.jupyter.widget-view+json": {
       "model_id": "3228a6fd55d1404389beccc6f2c4bd78",
       "version_major": 2,
       "version_minor": 0
      },
      "text/plain": [
       "5, 18, None, gini:   0%|          | 0/2 [00:00<?, ?it/s]"
      ]
     },
     "metadata": {},
     "output_type": "display_data"
    },
    {
     "data": {
      "application/vnd.jupyter.widget-view+json": {
       "model_id": "2155530d3d6e4869a40c6af55d6887a5",
       "version_major": 2,
       "version_minor": 0
      },
      "text/plain": [
       "5, 19, balanced, entropy:   0%|          | 0/2 [00:00<?, ?it/s]"
      ]
     },
     "metadata": {},
     "output_type": "display_data"
    },
    {
     "data": {
      "application/vnd.jupyter.widget-view+json": {
       "model_id": "fe4c0d6922d44f54a3b0f11d9664bd4f",
       "version_major": 2,
       "version_minor": 0
      },
      "text/plain": [
       "5, 19, None, gini:   0%|          | 0/2 [00:00<?, ?it/s]"
      ]
     },
     "metadata": {},
     "output_type": "display_data"
    },
    {
     "data": {
      "application/vnd.jupyter.widget-view+json": {
       "model_id": "f4d3f71e36a14c969d2f5763a8dfe469",
       "version_major": 2,
       "version_minor": 0
      },
      "text/plain": [
       "5, 20, balanced, entropy:   0%|          | 0/2 [00:00<?, ?it/s]"
      ]
     },
     "metadata": {},
     "output_type": "display_data"
    },
    {
     "data": {
      "application/vnd.jupyter.widget-view+json": {
       "model_id": "a5bbe13c3681451a9fe60ceb61b545ef",
       "version_major": 2,
       "version_minor": 0
      },
      "text/plain": [
       "5, 20, None, gini:   0%|          | 0/2 [00:00<?, ?it/s]"
      ]
     },
     "metadata": {},
     "output_type": "display_data"
    },
    {
     "data": {
      "application/vnd.jupyter.widget-view+json": {
       "model_id": "135a513a9dd7496b8eab132aa011eb2e",
       "version_major": 2,
       "version_minor": 0
      },
      "text/plain": [
       "5, 21, balanced, entropy:   0%|          | 0/2 [00:00<?, ?it/s]"
      ]
     },
     "metadata": {},
     "output_type": "display_data"
    },
    {
     "data": {
      "application/vnd.jupyter.widget-view+json": {
       "model_id": "f4b9e1f58f7a4799b7703ded2bd8d7b4",
       "version_major": 2,
       "version_minor": 0
      },
      "text/plain": [
       "5, 21, None, gini:   0%|          | 0/2 [00:00<?, ?it/s]"
      ]
     },
     "metadata": {},
     "output_type": "display_data"
    },
    {
     "data": {
      "application/vnd.jupyter.widget-view+json": {
       "model_id": "c6766b7564da49c9a2bb609a87a7af9b",
       "version_major": 2,
       "version_minor": 0
      },
      "text/plain": [
       "5, 22, balanced, entropy:   0%|          | 0/2 [00:00<?, ?it/s]"
      ]
     },
     "metadata": {},
     "output_type": "display_data"
    },
    {
     "data": {
      "application/vnd.jupyter.widget-view+json": {
       "model_id": "0f62b09187b34fdf885ad72c605fa4ad",
       "version_major": 2,
       "version_minor": 0
      },
      "text/plain": [
       "5, 22, None, gini:   0%|          | 0/2 [00:00<?, ?it/s]"
      ]
     },
     "metadata": {},
     "output_type": "display_data"
    },
    {
     "data": {
      "application/vnd.jupyter.widget-view+json": {
       "model_id": "524d0debd07a4198a944ebe644511e70",
       "version_major": 2,
       "version_minor": 0
      },
      "text/plain": [
       "5, 23, balanced, entropy:   0%|          | 0/2 [00:00<?, ?it/s]"
      ]
     },
     "metadata": {},
     "output_type": "display_data"
    },
    {
     "data": {
      "application/vnd.jupyter.widget-view+json": {
       "model_id": "b28a3970c2934ab1809c0cc52efd3b66",
       "version_major": 2,
       "version_minor": 0
      },
      "text/plain": [
       "5, 23, None, gini:   0%|          | 0/2 [00:00<?, ?it/s]"
      ]
     },
     "metadata": {},
     "output_type": "display_data"
    },
    {
     "data": {
      "application/vnd.jupyter.widget-view+json": {
       "model_id": "67803f9c52044ff6abe3f8035cb0c666",
       "version_major": 2,
       "version_minor": 0
      },
      "text/plain": [
       "5, 24, balanced, entropy:   0%|          | 0/2 [00:00<?, ?it/s]"
      ]
     },
     "metadata": {},
     "output_type": "display_data"
    },
    {
     "data": {
      "application/vnd.jupyter.widget-view+json": {
       "model_id": "2a42d8be282f4291b30ded8580230557",
       "version_major": 2,
       "version_minor": 0
      },
      "text/plain": [
       "5, 24, None, gini:   0%|          | 0/2 [00:00<?, ?it/s]"
      ]
     },
     "metadata": {},
     "output_type": "display_data"
    },
    {
     "data": {
      "application/vnd.jupyter.widget-view+json": {
       "model_id": "a6712be8f4554e3088f564f0d162aa98",
       "version_major": 2,
       "version_minor": 0
      },
      "text/plain": [
       "5, 25, balanced, entropy:   0%|          | 0/2 [00:00<?, ?it/s]"
      ]
     },
     "metadata": {},
     "output_type": "display_data"
    },
    {
     "data": {
      "application/vnd.jupyter.widget-view+json": {
       "model_id": "4a6cb3c0700b405298dfcab02525c1a3",
       "version_major": 2,
       "version_minor": 0
      },
      "text/plain": [
       "5, 25, None, gini:   0%|          | 0/2 [00:00<?, ?it/s]"
      ]
     },
     "metadata": {},
     "output_type": "display_data"
    },
    {
     "data": {
      "application/vnd.jupyter.widget-view+json": {
       "model_id": "d513fb00a9494e9495f2405c2dd21e6b",
       "version_major": 2,
       "version_minor": 0
      },
      "text/plain": [
       "5, 26, balanced, entropy:   0%|          | 0/2 [00:00<?, ?it/s]"
      ]
     },
     "metadata": {},
     "output_type": "display_data"
    },
    {
     "data": {
      "application/vnd.jupyter.widget-view+json": {
       "model_id": "d6f56e454153467eb9e06efde700b69e",
       "version_major": 2,
       "version_minor": 0
      },
      "text/plain": [
       "5, 26, None, gini:   0%|          | 0/2 [00:00<?, ?it/s]"
      ]
     },
     "metadata": {},
     "output_type": "display_data"
    },
    {
     "data": {
      "application/vnd.jupyter.widget-view+json": {
       "model_id": "b8d332c260114e5dbb748294ab586d15",
       "version_major": 2,
       "version_minor": 0
      },
      "text/plain": [
       "5, 27, balanced, entropy:   0%|          | 0/2 [00:00<?, ?it/s]"
      ]
     },
     "metadata": {},
     "output_type": "display_data"
    },
    {
     "data": {
      "application/vnd.jupyter.widget-view+json": {
       "model_id": "a788c517f1004f9c8693b85b9d822e41",
       "version_major": 2,
       "version_minor": 0
      },
      "text/plain": [
       "5, 27, None, gini:   0%|          | 0/2 [00:00<?, ?it/s]"
      ]
     },
     "metadata": {},
     "output_type": "display_data"
    },
    {
     "data": {
      "application/vnd.jupyter.widget-view+json": {
       "model_id": "55b7a742dc084953869a9c0c02efaddc",
       "version_major": 2,
       "version_minor": 0
      },
      "text/plain": [
       "5, 28, balanced, entropy:   0%|          | 0/2 [00:00<?, ?it/s]"
      ]
     },
     "metadata": {},
     "output_type": "display_data"
    },
    {
     "data": {
      "application/vnd.jupyter.widget-view+json": {
       "model_id": "dd162a5ba3154a9c8c18e7db8bfe7c46",
       "version_major": 2,
       "version_minor": 0
      },
      "text/plain": [
       "5, 28, None, gini:   0%|          | 0/2 [00:00<?, ?it/s]"
      ]
     },
     "metadata": {},
     "output_type": "display_data"
    },
    {
     "data": {
      "application/vnd.jupyter.widget-view+json": {
       "model_id": "3a2cd44d97de461391daff57a933733a",
       "version_major": 2,
       "version_minor": 0
      },
      "text/plain": [
       "5, 29, balanced, entropy:   0%|          | 0/2 [00:00<?, ?it/s]"
      ]
     },
     "metadata": {},
     "output_type": "display_data"
    },
    {
     "data": {
      "application/vnd.jupyter.widget-view+json": {
       "model_id": "91f44651d3ae4849ab85d487351f76a6",
       "version_major": 2,
       "version_minor": 0
      },
      "text/plain": [
       "5, 29, None, gini:   0%|          | 0/2 [00:00<?, ?it/s]"
      ]
     },
     "metadata": {},
     "output_type": "display_data"
    },
    {
     "data": {
      "application/vnd.jupyter.widget-view+json": {
       "model_id": "64955b44040b413ebc8293eade28b22d",
       "version_major": 2,
       "version_minor": 0
      },
      "text/plain": [
       "5, 30, balanced, entropy:   0%|          | 0/2 [00:00<?, ?it/s]"
      ]
     },
     "metadata": {},
     "output_type": "display_data"
    },
    {
     "data": {
      "application/vnd.jupyter.widget-view+json": {
       "model_id": "f362408e22c2496084b9152b3d0e52aa",
       "version_major": 2,
       "version_minor": 0
      },
      "text/plain": [
       "5, 30, None, gini:   0%|          | 0/2 [00:00<?, ?it/s]"
      ]
     },
     "metadata": {},
     "output_type": "display_data"
    },
    {
     "data": {
      "application/vnd.jupyter.widget-view+json": {
       "model_id": "7e367d23b32c43c7b30190f0891a6eda",
       "version_major": 2,
       "version_minor": 0
      },
      "text/plain": [
       "5, 31, balanced, entropy:   0%|          | 0/2 [00:00<?, ?it/s]"
      ]
     },
     "metadata": {},
     "output_type": "display_data"
    },
    {
     "data": {
      "application/vnd.jupyter.widget-view+json": {
       "model_id": "a52462629e7145ce93d510851e65cda2",
       "version_major": 2,
       "version_minor": 0
      },
      "text/plain": [
       "5, 31, None, gini:   0%|          | 0/2 [00:00<?, ?it/s]"
      ]
     },
     "metadata": {},
     "output_type": "display_data"
    },
    {
     "data": {
      "application/vnd.jupyter.widget-view+json": {
       "model_id": "d74ce40086f745fdbd89db34aa0eae2f",
       "version_major": 2,
       "version_minor": 0
      },
      "text/plain": [
       "5, 32, balanced, entropy:   0%|          | 0/2 [00:00<?, ?it/s]"
      ]
     },
     "metadata": {},
     "output_type": "display_data"
    },
    {
     "data": {
      "application/vnd.jupyter.widget-view+json": {
       "model_id": "dfaf18d4fd8d4e9d84a73640daf25be7",
       "version_major": 2,
       "version_minor": 0
      },
      "text/plain": [
       "5, 32, None, gini:   0%|          | 0/2 [00:00<?, ?it/s]"
      ]
     },
     "metadata": {},
     "output_type": "display_data"
    },
    {
     "data": {
      "application/vnd.jupyter.widget-view+json": {
       "model_id": "e5958919198d472e88e41dcc72e29b8e",
       "version_major": 2,
       "version_minor": 0
      },
      "text/plain": [
       "5, 33, balanced, entropy:   0%|          | 0/2 [00:00<?, ?it/s]"
      ]
     },
     "metadata": {},
     "output_type": "display_data"
    },
    {
     "data": {
      "application/vnd.jupyter.widget-view+json": {
       "model_id": "f62d53c098fd43fe8ee57ba569690af4",
       "version_major": 2,
       "version_minor": 0
      },
      "text/plain": [
       "5, 33, None, gini:   0%|          | 0/2 [00:00<?, ?it/s]"
      ]
     },
     "metadata": {},
     "output_type": "display_data"
    },
    {
     "data": {
      "application/vnd.jupyter.widget-view+json": {
       "model_id": "b6f3e63ac1bf4377a9cae998b10ff4be",
       "version_major": 2,
       "version_minor": 0
      },
      "text/plain": [
       "5, 34, balanced, entropy:   0%|          | 0/2 [00:00<?, ?it/s]"
      ]
     },
     "metadata": {},
     "output_type": "display_data"
    },
    {
     "data": {
      "application/vnd.jupyter.widget-view+json": {
       "model_id": "7946f47822b04fe9882c5069d70c5297",
       "version_major": 2,
       "version_minor": 0
      },
      "text/plain": [
       "5, 34, None, gini:   0%|          | 0/2 [00:00<?, ?it/s]"
      ]
     },
     "metadata": {},
     "output_type": "display_data"
    },
    {
     "data": {
      "application/vnd.jupyter.widget-view+json": {
       "model_id": "d21e6b1a838f40e1ab7c8971fc8e05bc",
       "version_major": 2,
       "version_minor": 0
      },
      "text/plain": [
       "5, 35, balanced, entropy:   0%|          | 0/2 [00:00<?, ?it/s]"
      ]
     },
     "metadata": {},
     "output_type": "display_data"
    },
    {
     "data": {
      "application/vnd.jupyter.widget-view+json": {
       "model_id": "db826f6ca4264a01aa1e8ae0af4b4288",
       "version_major": 2,
       "version_minor": 0
      },
      "text/plain": [
       "5, 35, None, gini:   0%|          | 0/2 [00:00<?, ?it/s]"
      ]
     },
     "metadata": {},
     "output_type": "display_data"
    },
    {
     "data": {
      "application/vnd.jupyter.widget-view+json": {
       "model_id": "d3cdadc7f2c24e14a98abc6682a2e64b",
       "version_major": 2,
       "version_minor": 0
      },
      "text/plain": [
       "5, 36, balanced, entropy:   0%|          | 0/2 [00:00<?, ?it/s]"
      ]
     },
     "metadata": {},
     "output_type": "display_data"
    },
    {
     "data": {
      "application/vnd.jupyter.widget-view+json": {
       "model_id": "1c9618428faf48f283ed4958bcb1ec80",
       "version_major": 2,
       "version_minor": 0
      },
      "text/plain": [
       "5, 36, None, gini:   0%|          | 0/2 [00:00<?, ?it/s]"
      ]
     },
     "metadata": {},
     "output_type": "display_data"
    },
    {
     "data": {
      "application/vnd.jupyter.widget-view+json": {
       "model_id": "5916df3599a848c587d92845f125f722",
       "version_major": 2,
       "version_minor": 0
      },
      "text/plain": [
       "5, 37, balanced, entropy:   0%|          | 0/2 [00:00<?, ?it/s]"
      ]
     },
     "metadata": {},
     "output_type": "display_data"
    },
    {
     "data": {
      "application/vnd.jupyter.widget-view+json": {
       "model_id": "bea9671910094f51bd78f4f05d0ffd54",
       "version_major": 2,
       "version_minor": 0
      },
      "text/plain": [
       "5, 37, None, gini:   0%|          | 0/2 [00:00<?, ?it/s]"
      ]
     },
     "metadata": {},
     "output_type": "display_data"
    },
    {
     "data": {
      "application/vnd.jupyter.widget-view+json": {
       "model_id": "3aaa78e7dd6349b5b4fa287bd726428d",
       "version_major": 2,
       "version_minor": 0
      },
      "text/plain": [
       "5, 38, balanced, entropy:   0%|          | 0/2 [00:00<?, ?it/s]"
      ]
     },
     "metadata": {},
     "output_type": "display_data"
    },
    {
     "data": {
      "application/vnd.jupyter.widget-view+json": {
       "model_id": "c7f510cca3074b42b8a7e1c0e0a2d9ad",
       "version_major": 2,
       "version_minor": 0
      },
      "text/plain": [
       "5, 38, None, gini:   0%|          | 0/2 [00:00<?, ?it/s]"
      ]
     },
     "metadata": {},
     "output_type": "display_data"
    },
    {
     "data": {
      "application/vnd.jupyter.widget-view+json": {
       "model_id": "e15edee24cb64ea9ae55adde1786f653",
       "version_major": 2,
       "version_minor": 0
      },
      "text/plain": [
       "5, 39, balanced, entropy:   0%|          | 0/2 [00:00<?, ?it/s]"
      ]
     },
     "metadata": {},
     "output_type": "display_data"
    },
    {
     "data": {
      "application/vnd.jupyter.widget-view+json": {
       "model_id": "97cf74259c704bb9aa1512914f76c775",
       "version_major": 2,
       "version_minor": 0
      },
      "text/plain": [
       "5, 39, None, gini:   0%|          | 0/2 [00:00<?, ?it/s]"
      ]
     },
     "metadata": {},
     "output_type": "display_data"
    },
    {
     "data": {
      "application/vnd.jupyter.widget-view+json": {
       "model_id": "99132d71141c485c84c6feb1fb2c5baf",
       "version_major": 2,
       "version_minor": 0
      },
      "text/plain": [
       "5, 40, balanced, entropy:   0%|          | 0/2 [00:00<?, ?it/s]"
      ]
     },
     "metadata": {},
     "output_type": "display_data"
    },
    {
     "data": {
      "application/vnd.jupyter.widget-view+json": {
       "model_id": "56563d88004b4ea5a0ad77017ba35c1a",
       "version_major": 2,
       "version_minor": 0
      },
      "text/plain": [
       "5, 40, None, gini:   0%|          | 0/2 [00:00<?, ?it/s]"
      ]
     },
     "metadata": {},
     "output_type": "display_data"
    },
    {
     "data": {
      "application/vnd.jupyter.widget-view+json": {
       "model_id": "cc32f51540234b81b06a557584e6177f",
       "version_major": 2,
       "version_minor": 0
      },
      "text/plain": [
       "5, 41, balanced, entropy:   0%|          | 0/2 [00:00<?, ?it/s]"
      ]
     },
     "metadata": {},
     "output_type": "display_data"
    },
    {
     "data": {
      "application/vnd.jupyter.widget-view+json": {
       "model_id": "e4eca265d54541218b2d75b45ea647be",
       "version_major": 2,
       "version_minor": 0
      },
      "text/plain": [
       "5, 41, None, gini:   0%|          | 0/2 [00:00<?, ?it/s]"
      ]
     },
     "metadata": {},
     "output_type": "display_data"
    },
    {
     "data": {
      "application/vnd.jupyter.widget-view+json": {
       "model_id": "984b1e90bd5047a1976b8f2024c8f73b",
       "version_major": 2,
       "version_minor": 0
      },
      "text/plain": [
       "5, 42, balanced, entropy:   0%|          | 0/2 [00:00<?, ?it/s]"
      ]
     },
     "metadata": {},
     "output_type": "display_data"
    },
    {
     "data": {
      "application/vnd.jupyter.widget-view+json": {
       "model_id": "66e07b35b61741a68ef1dd75bb1d41a7",
       "version_major": 2,
       "version_minor": 0
      },
      "text/plain": [
       "5, 42, None, gini:   0%|          | 0/2 [00:00<?, ?it/s]"
      ]
     },
     "metadata": {},
     "output_type": "display_data"
    },
    {
     "data": {
      "application/vnd.jupyter.widget-view+json": {
       "model_id": "78df78b0c1ca40df8819e404650a50ba",
       "version_major": 2,
       "version_minor": 0
      },
      "text/plain": [
       "5, 43, balanced, entropy:   0%|          | 0/2 [00:00<?, ?it/s]"
      ]
     },
     "metadata": {},
     "output_type": "display_data"
    },
    {
     "data": {
      "application/vnd.jupyter.widget-view+json": {
       "model_id": "5b67a759b55a494c8b1eef25d4b2c8b2",
       "version_major": 2,
       "version_minor": 0
      },
      "text/plain": [
       "5, 43, None, gini:   0%|          | 0/2 [00:00<?, ?it/s]"
      ]
     },
     "metadata": {},
     "output_type": "display_data"
    },
    {
     "data": {
      "application/vnd.jupyter.widget-view+json": {
       "model_id": "39803ee70c604933a1a1e4891edb9523",
       "version_major": 2,
       "version_minor": 0
      },
      "text/plain": [
       "5, 44, balanced, entropy:   0%|          | 0/2 [00:00<?, ?it/s]"
      ]
     },
     "metadata": {},
     "output_type": "display_data"
    },
    {
     "data": {
      "application/vnd.jupyter.widget-view+json": {
       "model_id": "0f88ac30c0a4406e9106f76b389896cf",
       "version_major": 2,
       "version_minor": 0
      },
      "text/plain": [
       "5, 44, None, gini:   0%|          | 0/2 [00:00<?, ?it/s]"
      ]
     },
     "metadata": {},
     "output_type": "display_data"
    },
    {
     "data": {
      "application/vnd.jupyter.widget-view+json": {
       "model_id": "b760a5df2c1a4e1c91ea2120865e0886",
       "version_major": 2,
       "version_minor": 0
      },
      "text/plain": [
       "5, 45, balanced, entropy:   0%|          | 0/2 [00:00<?, ?it/s]"
      ]
     },
     "metadata": {},
     "output_type": "display_data"
    },
    {
     "data": {
      "application/vnd.jupyter.widget-view+json": {
       "model_id": "5ddad0cd5b854d2d9f7a026138d8a1f5",
       "version_major": 2,
       "version_minor": 0
      },
      "text/plain": [
       "5, 45, None, gini:   0%|          | 0/2 [00:00<?, ?it/s]"
      ]
     },
     "metadata": {},
     "output_type": "display_data"
    },
    {
     "data": {
      "application/vnd.jupyter.widget-view+json": {
       "model_id": "fe887a5828cc4d0ea1dab10b5f56cfbf",
       "version_major": 2,
       "version_minor": 0
      },
      "text/plain": [
       "5, 46, balanced, entropy:   0%|          | 0/2 [00:00<?, ?it/s]"
      ]
     },
     "metadata": {},
     "output_type": "display_data"
    },
    {
     "data": {
      "application/vnd.jupyter.widget-view+json": {
       "model_id": "de77598d71f5494d9528c510b99a1b46",
       "version_major": 2,
       "version_minor": 0
      },
      "text/plain": [
       "5, 46, None, gini:   0%|          | 0/2 [00:00<?, ?it/s]"
      ]
     },
     "metadata": {},
     "output_type": "display_data"
    },
    {
     "data": {
      "application/vnd.jupyter.widget-view+json": {
       "model_id": "1506dc071b9b4584a2444656bce3a54d",
       "version_major": 2,
       "version_minor": 0
      },
      "text/plain": [
       "5, 47, balanced, entropy:   0%|          | 0/2 [00:00<?, ?it/s]"
      ]
     },
     "metadata": {},
     "output_type": "display_data"
    },
    {
     "data": {
      "application/vnd.jupyter.widget-view+json": {
       "model_id": "e115c51a296a4f45a362411c9169f6a0",
       "version_major": 2,
       "version_minor": 0
      },
      "text/plain": [
       "5, 47, None, gini:   0%|          | 0/2 [00:00<?, ?it/s]"
      ]
     },
     "metadata": {},
     "output_type": "display_data"
    },
    {
     "data": {
      "application/vnd.jupyter.widget-view+json": {
       "model_id": "f82849821bb94962ba7e0ca29d9f8cce",
       "version_major": 2,
       "version_minor": 0
      },
      "text/plain": [
       "5, 48, balanced, entropy:   0%|          | 0/2 [00:00<?, ?it/s]"
      ]
     },
     "metadata": {},
     "output_type": "display_data"
    },
    {
     "data": {
      "application/vnd.jupyter.widget-view+json": {
       "model_id": "20039d530cd347c28448cd541b58459a",
       "version_major": 2,
       "version_minor": 0
      },
      "text/plain": [
       "5, 48, None, gini:   0%|          | 0/2 [00:00<?, ?it/s]"
      ]
     },
     "metadata": {},
     "output_type": "display_data"
    },
    {
     "data": {
      "application/vnd.jupyter.widget-view+json": {
       "model_id": "627da8c1bfb54a008a1ce040cc06ba03",
       "version_major": 2,
       "version_minor": 0
      },
      "text/plain": [
       "5, 49, balanced, entropy:   0%|          | 0/2 [00:00<?, ?it/s]"
      ]
     },
     "metadata": {},
     "output_type": "display_data"
    },
    {
     "data": {
      "application/vnd.jupyter.widget-view+json": {
       "model_id": "93643b3a17104e3b80aef86a76689910",
       "version_major": 2,
       "version_minor": 0
      },
      "text/plain": [
       "5, 49, None, gini:   0%|          | 0/2 [00:00<?, ?it/s]"
      ]
     },
     "metadata": {},
     "output_type": "display_data"
    },
    {
     "data": {
      "application/vnd.jupyter.widget-view+json": {
       "model_id": "93dc56a190fb4cec937f05f0846fb3cd",
       "version_major": 2,
       "version_minor": 0
      },
      "text/plain": [
       "10, 1, balanced, entropy:   0%|          | 0/2 [00:00<?, ?it/s]"
      ]
     },
     "metadata": {},
     "output_type": "display_data"
    },
    {
     "data": {
      "application/vnd.jupyter.widget-view+json": {
       "model_id": "64cce360062640c29f1cb4434b33a378",
       "version_major": 2,
       "version_minor": 0
      },
      "text/plain": [
       "10, 1, None, gini:   0%|          | 0/2 [00:00<?, ?it/s]"
      ]
     },
     "metadata": {},
     "output_type": "display_data"
    },
    {
     "data": {
      "application/vnd.jupyter.widget-view+json": {
       "model_id": "daf9111917924f19b92fd7b2110777e1",
       "version_major": 2,
       "version_minor": 0
      },
      "text/plain": [
       "10, 2, balanced, entropy:   0%|          | 0/2 [00:00<?, ?it/s]"
      ]
     },
     "metadata": {},
     "output_type": "display_data"
    },
    {
     "data": {
      "application/vnd.jupyter.widget-view+json": {
       "model_id": "d3a6fd8a3374467c9b8dc0ede4fd7a3b",
       "version_major": 2,
       "version_minor": 0
      },
      "text/plain": [
       "10, 2, None, gini:   0%|          | 0/2 [00:00<?, ?it/s]"
      ]
     },
     "metadata": {},
     "output_type": "display_data"
    },
    {
     "data": {
      "application/vnd.jupyter.widget-view+json": {
       "model_id": "f14d9518506d4141841ce7b1ee2ec5c8",
       "version_major": 2,
       "version_minor": 0
      },
      "text/plain": [
       "10, 3, balanced, entropy:   0%|          | 0/2 [00:00<?, ?it/s]"
      ]
     },
     "metadata": {},
     "output_type": "display_data"
    },
    {
     "data": {
      "application/vnd.jupyter.widget-view+json": {
       "model_id": "e9ba4789722e4905981abfad7debcdbb",
       "version_major": 2,
       "version_minor": 0
      },
      "text/plain": [
       "10, 3, None, gini:   0%|          | 0/2 [00:00<?, ?it/s]"
      ]
     },
     "metadata": {},
     "output_type": "display_data"
    },
    {
     "data": {
      "application/vnd.jupyter.widget-view+json": {
       "model_id": "340fee168d27422d9d9f31c3fbad05e8",
       "version_major": 2,
       "version_minor": 0
      },
      "text/plain": [
       "10, 4, balanced, entropy:   0%|          | 0/2 [00:00<?, ?it/s]"
      ]
     },
     "metadata": {},
     "output_type": "display_data"
    },
    {
     "data": {
      "application/vnd.jupyter.widget-view+json": {
       "model_id": "71d764c47f554362b46c11d09d7f77d0",
       "version_major": 2,
       "version_minor": 0
      },
      "text/plain": [
       "10, 4, None, gini:   0%|          | 0/2 [00:00<?, ?it/s]"
      ]
     },
     "metadata": {},
     "output_type": "display_data"
    },
    {
     "data": {
      "application/vnd.jupyter.widget-view+json": {
       "model_id": "c5f4a51821fb4521bd7fe6a0f72f64aa",
       "version_major": 2,
       "version_minor": 0
      },
      "text/plain": [
       "10, 5, balanced, entropy:   0%|          | 0/2 [00:00<?, ?it/s]"
      ]
     },
     "metadata": {},
     "output_type": "display_data"
    },
    {
     "data": {
      "application/vnd.jupyter.widget-view+json": {
       "model_id": "2212ebee111641eb96be36b29d9e59b1",
       "version_major": 2,
       "version_minor": 0
      },
      "text/plain": [
       "10, 5, None, gini:   0%|          | 0/2 [00:00<?, ?it/s]"
      ]
     },
     "metadata": {},
     "output_type": "display_data"
    },
    {
     "data": {
      "application/vnd.jupyter.widget-view+json": {
       "model_id": "a0533ece95834da0925b2cb56a451925",
       "version_major": 2,
       "version_minor": 0
      },
      "text/plain": [
       "10, 6, balanced, entropy:   0%|          | 0/2 [00:00<?, ?it/s]"
      ]
     },
     "metadata": {},
     "output_type": "display_data"
    },
    {
     "data": {
      "application/vnd.jupyter.widget-view+json": {
       "model_id": "a34192ab80a9470d9f34d54e3c87e170",
       "version_major": 2,
       "version_minor": 0
      },
      "text/plain": [
       "10, 6, None, gini:   0%|          | 0/2 [00:00<?, ?it/s]"
      ]
     },
     "metadata": {},
     "output_type": "display_data"
    },
    {
     "data": {
      "application/vnd.jupyter.widget-view+json": {
       "model_id": "96c5b3019c5c4290978dfda71b84254c",
       "version_major": 2,
       "version_minor": 0
      },
      "text/plain": [
       "10, 7, balanced, entropy:   0%|          | 0/2 [00:00<?, ?it/s]"
      ]
     },
     "metadata": {},
     "output_type": "display_data"
    },
    {
     "data": {
      "application/vnd.jupyter.widget-view+json": {
       "model_id": "bb249c29d0f045a68e53bb91bd0de9ab",
       "version_major": 2,
       "version_minor": 0
      },
      "text/plain": [
       "10, 7, None, gini:   0%|          | 0/2 [00:00<?, ?it/s]"
      ]
     },
     "metadata": {},
     "output_type": "display_data"
    },
    {
     "data": {
      "application/vnd.jupyter.widget-view+json": {
       "model_id": "971df36449654e698ef2aafef7d9f3a5",
       "version_major": 2,
       "version_minor": 0
      },
      "text/plain": [
       "10, 8, balanced, entropy:   0%|          | 0/2 [00:00<?, ?it/s]"
      ]
     },
     "metadata": {},
     "output_type": "display_data"
    },
    {
     "data": {
      "application/vnd.jupyter.widget-view+json": {
       "model_id": "c5da7d80a201459e9a36db04a9240c4f",
       "version_major": 2,
       "version_minor": 0
      },
      "text/plain": [
       "10, 8, None, gini:   0%|          | 0/2 [00:00<?, ?it/s]"
      ]
     },
     "metadata": {},
     "output_type": "display_data"
    },
    {
     "data": {
      "application/vnd.jupyter.widget-view+json": {
       "model_id": "49f0c39aab8d41129a408a0409f90cfc",
       "version_major": 2,
       "version_minor": 0
      },
      "text/plain": [
       "10, 9, balanced, entropy:   0%|          | 0/2 [00:00<?, ?it/s]"
      ]
     },
     "metadata": {},
     "output_type": "display_data"
    },
    {
     "data": {
      "application/vnd.jupyter.widget-view+json": {
       "model_id": "8f1850f0cc9f45fc9b89e53a9da0204a",
       "version_major": 2,
       "version_minor": 0
      },
      "text/plain": [
       "10, 9, None, gini:   0%|          | 0/2 [00:00<?, ?it/s]"
      ]
     },
     "metadata": {},
     "output_type": "display_data"
    },
    {
     "data": {
      "application/vnd.jupyter.widget-view+json": {
       "model_id": "db3c2488ac564267baad692322a7d4a9",
       "version_major": 2,
       "version_minor": 0
      },
      "text/plain": [
       "10, 10, balanced, entropy:   0%|          | 0/2 [00:00<?, ?it/s]"
      ]
     },
     "metadata": {},
     "output_type": "display_data"
    },
    {
     "data": {
      "application/vnd.jupyter.widget-view+json": {
       "model_id": "8ea251b554c6470097876704fe7253b0",
       "version_major": 2,
       "version_minor": 0
      },
      "text/plain": [
       "10, 10, None, gini:   0%|          | 0/2 [00:00<?, ?it/s]"
      ]
     },
     "metadata": {},
     "output_type": "display_data"
    },
    {
     "data": {
      "application/vnd.jupyter.widget-view+json": {
       "model_id": "bdc327c017064abaa499b7669f208763",
       "version_major": 2,
       "version_minor": 0
      },
      "text/plain": [
       "10, 11, balanced, entropy:   0%|          | 0/2 [00:00<?, ?it/s]"
      ]
     },
     "metadata": {},
     "output_type": "display_data"
    },
    {
     "data": {
      "application/vnd.jupyter.widget-view+json": {
       "model_id": "7aa9312b1afb46bba1aff4b876c05177",
       "version_major": 2,
       "version_minor": 0
      },
      "text/plain": [
       "10, 11, None, gini:   0%|          | 0/2 [00:00<?, ?it/s]"
      ]
     },
     "metadata": {},
     "output_type": "display_data"
    },
    {
     "data": {
      "application/vnd.jupyter.widget-view+json": {
       "model_id": "2e82d788772a4b4c8e41df5839943469",
       "version_major": 2,
       "version_minor": 0
      },
      "text/plain": [
       "10, 12, balanced, entropy:   0%|          | 0/2 [00:00<?, ?it/s]"
      ]
     },
     "metadata": {},
     "output_type": "display_data"
    },
    {
     "data": {
      "application/vnd.jupyter.widget-view+json": {
       "model_id": "166873eb307043208e0b9194145a65cd",
       "version_major": 2,
       "version_minor": 0
      },
      "text/plain": [
       "10, 12, None, gini:   0%|          | 0/2 [00:00<?, ?it/s]"
      ]
     },
     "metadata": {},
     "output_type": "display_data"
    },
    {
     "data": {
      "application/vnd.jupyter.widget-view+json": {
       "model_id": "090ca420b880424181c69185161c11a3",
       "version_major": 2,
       "version_minor": 0
      },
      "text/plain": [
       "10, 13, balanced, entropy:   0%|          | 0/2 [00:00<?, ?it/s]"
      ]
     },
     "metadata": {},
     "output_type": "display_data"
    },
    {
     "data": {
      "application/vnd.jupyter.widget-view+json": {
       "model_id": "ef4edb3929a24254a67932d20edb2c61",
       "version_major": 2,
       "version_minor": 0
      },
      "text/plain": [
       "10, 13, None, gini:   0%|          | 0/2 [00:00<?, ?it/s]"
      ]
     },
     "metadata": {},
     "output_type": "display_data"
    },
    {
     "data": {
      "application/vnd.jupyter.widget-view+json": {
       "model_id": "85034f6063bc4488bd8a47c0d65e83fa",
       "version_major": 2,
       "version_minor": 0
      },
      "text/plain": [
       "10, 14, balanced, entropy:   0%|          | 0/2 [00:00<?, ?it/s]"
      ]
     },
     "metadata": {},
     "output_type": "display_data"
    },
    {
     "data": {
      "application/vnd.jupyter.widget-view+json": {
       "model_id": "3f988c10514e4af2ba1ce552939174bb",
       "version_major": 2,
       "version_minor": 0
      },
      "text/plain": [
       "10, 14, None, gini:   0%|          | 0/2 [00:00<?, ?it/s]"
      ]
     },
     "metadata": {},
     "output_type": "display_data"
    },
    {
     "data": {
      "application/vnd.jupyter.widget-view+json": {
       "model_id": "8b0f8f03a77a443c85023924ac7f2471",
       "version_major": 2,
       "version_minor": 0
      },
      "text/plain": [
       "10, 15, balanced, entropy:   0%|          | 0/2 [00:00<?, ?it/s]"
      ]
     },
     "metadata": {},
     "output_type": "display_data"
    },
    {
     "data": {
      "application/vnd.jupyter.widget-view+json": {
       "model_id": "48d369b6d96a45398079d234f53a4075",
       "version_major": 2,
       "version_minor": 0
      },
      "text/plain": [
       "10, 15, None, gini:   0%|          | 0/2 [00:00<?, ?it/s]"
      ]
     },
     "metadata": {},
     "output_type": "display_data"
    },
    {
     "data": {
      "application/vnd.jupyter.widget-view+json": {
       "model_id": "62c1b161531141dfb9e8ace9bb90b1c1",
       "version_major": 2,
       "version_minor": 0
      },
      "text/plain": [
       "10, 16, balanced, entropy:   0%|          | 0/2 [00:00<?, ?it/s]"
      ]
     },
     "metadata": {},
     "output_type": "display_data"
    },
    {
     "data": {
      "application/vnd.jupyter.widget-view+json": {
       "model_id": "a9ab32c4844941b39be12bf234ddf0a1",
       "version_major": 2,
       "version_minor": 0
      },
      "text/plain": [
       "10, 16, None, gini:   0%|          | 0/2 [00:00<?, ?it/s]"
      ]
     },
     "metadata": {},
     "output_type": "display_data"
    },
    {
     "data": {
      "application/vnd.jupyter.widget-view+json": {
       "model_id": "f3c69276b87944dab461be4db65b75ab",
       "version_major": 2,
       "version_minor": 0
      },
      "text/plain": [
       "10, 17, balanced, entropy:   0%|          | 0/2 [00:00<?, ?it/s]"
      ]
     },
     "metadata": {},
     "output_type": "display_data"
    },
    {
     "data": {
      "application/vnd.jupyter.widget-view+json": {
       "model_id": "0e2161d00a564b0ba6ded7ec2ba07e6f",
       "version_major": 2,
       "version_minor": 0
      },
      "text/plain": [
       "10, 17, None, gini:   0%|          | 0/2 [00:00<?, ?it/s]"
      ]
     },
     "metadata": {},
     "output_type": "display_data"
    },
    {
     "data": {
      "application/vnd.jupyter.widget-view+json": {
       "model_id": "8236f7ca86a241a7a009e9ea2b146c32",
       "version_major": 2,
       "version_minor": 0
      },
      "text/plain": [
       "10, 18, balanced, entropy:   0%|          | 0/2 [00:00<?, ?it/s]"
      ]
     },
     "metadata": {},
     "output_type": "display_data"
    },
    {
     "data": {
      "application/vnd.jupyter.widget-view+json": {
       "model_id": "a22f6a08a72140ab819670380d83bf22",
       "version_major": 2,
       "version_minor": 0
      },
      "text/plain": [
       "10, 18, None, gini:   0%|          | 0/2 [00:00<?, ?it/s]"
      ]
     },
     "metadata": {},
     "output_type": "display_data"
    },
    {
     "data": {
      "application/vnd.jupyter.widget-view+json": {
       "model_id": "a0ea270be5244a45a37e016c55f80427",
       "version_major": 2,
       "version_minor": 0
      },
      "text/plain": [
       "10, 19, balanced, entropy:   0%|          | 0/2 [00:00<?, ?it/s]"
      ]
     },
     "metadata": {},
     "output_type": "display_data"
    },
    {
     "data": {
      "application/vnd.jupyter.widget-view+json": {
       "model_id": "a9b80a2af78e412a8bdbcdb1490d13a5",
       "version_major": 2,
       "version_minor": 0
      },
      "text/plain": [
       "10, 19, None, gini:   0%|          | 0/2 [00:00<?, ?it/s]"
      ]
     },
     "metadata": {},
     "output_type": "display_data"
    },
    {
     "data": {
      "application/vnd.jupyter.widget-view+json": {
       "model_id": "ee31eeeba55d4c4ca63ed2eb7b8249f9",
       "version_major": 2,
       "version_minor": 0
      },
      "text/plain": [
       "10, 20, balanced, entropy:   0%|          | 0/2 [00:00<?, ?it/s]"
      ]
     },
     "metadata": {},
     "output_type": "display_data"
    },
    {
     "data": {
      "application/vnd.jupyter.widget-view+json": {
       "model_id": "cc5760c9a5e145feb6fa5fa5a9759d2f",
       "version_major": 2,
       "version_minor": 0
      },
      "text/plain": [
       "10, 20, None, gini:   0%|          | 0/2 [00:00<?, ?it/s]"
      ]
     },
     "metadata": {},
     "output_type": "display_data"
    },
    {
     "data": {
      "application/vnd.jupyter.widget-view+json": {
       "model_id": "7824fb9d723e467abe875fd46449662e",
       "version_major": 2,
       "version_minor": 0
      },
      "text/plain": [
       "10, 21, balanced, entropy:   0%|          | 0/2 [00:00<?, ?it/s]"
      ]
     },
     "metadata": {},
     "output_type": "display_data"
    },
    {
     "data": {
      "application/vnd.jupyter.widget-view+json": {
       "model_id": "582be3da88da4e6bb6659bfae4824813",
       "version_major": 2,
       "version_minor": 0
      },
      "text/plain": [
       "10, 21, None, gini:   0%|          | 0/2 [00:00<?, ?it/s]"
      ]
     },
     "metadata": {},
     "output_type": "display_data"
    },
    {
     "data": {
      "application/vnd.jupyter.widget-view+json": {
       "model_id": "92a9e19e5f7d4ea298c942f6b5094937",
       "version_major": 2,
       "version_minor": 0
      },
      "text/plain": [
       "10, 22, balanced, entropy:   0%|          | 0/2 [00:00<?, ?it/s]"
      ]
     },
     "metadata": {},
     "output_type": "display_data"
    },
    {
     "data": {
      "application/vnd.jupyter.widget-view+json": {
       "model_id": "fe9de1fc25404d118450db985edb6bd7",
       "version_major": 2,
       "version_minor": 0
      },
      "text/plain": [
       "10, 22, None, gini:   0%|          | 0/2 [00:00<?, ?it/s]"
      ]
     },
     "metadata": {},
     "output_type": "display_data"
    },
    {
     "data": {
      "application/vnd.jupyter.widget-view+json": {
       "model_id": "4e562efaa3ee4b49af8b85e05281592d",
       "version_major": 2,
       "version_minor": 0
      },
      "text/plain": [
       "10, 23, balanced, entropy:   0%|          | 0/2 [00:00<?, ?it/s]"
      ]
     },
     "metadata": {},
     "output_type": "display_data"
    },
    {
     "data": {
      "application/vnd.jupyter.widget-view+json": {
       "model_id": "43b4dfab634d41049ee796d8adfca432",
       "version_major": 2,
       "version_minor": 0
      },
      "text/plain": [
       "10, 23, None, gini:   0%|          | 0/2 [00:00<?, ?it/s]"
      ]
     },
     "metadata": {},
     "output_type": "display_data"
    },
    {
     "data": {
      "application/vnd.jupyter.widget-view+json": {
       "model_id": "344f578d97ef46eab1eda2050f88558d",
       "version_major": 2,
       "version_minor": 0
      },
      "text/plain": [
       "10, 24, balanced, entropy:   0%|          | 0/2 [00:00<?, ?it/s]"
      ]
     },
     "metadata": {},
     "output_type": "display_data"
    },
    {
     "data": {
      "application/vnd.jupyter.widget-view+json": {
       "model_id": "588679e2a8a5425c9b5b4be3f40b86a4",
       "version_major": 2,
       "version_minor": 0
      },
      "text/plain": [
       "10, 24, None, gini:   0%|          | 0/2 [00:00<?, ?it/s]"
      ]
     },
     "metadata": {},
     "output_type": "display_data"
    },
    {
     "data": {
      "application/vnd.jupyter.widget-view+json": {
       "model_id": "19c372b987d84811b9ba0ad51cab9237",
       "version_major": 2,
       "version_minor": 0
      },
      "text/plain": [
       "10, 25, balanced, entropy:   0%|          | 0/2 [00:00<?, ?it/s]"
      ]
     },
     "metadata": {},
     "output_type": "display_data"
    },
    {
     "data": {
      "application/vnd.jupyter.widget-view+json": {
       "model_id": "ef8f59c9926e4115b411a30abc64a625",
       "version_major": 2,
       "version_minor": 0
      },
      "text/plain": [
       "10, 25, None, gini:   0%|          | 0/2 [00:00<?, ?it/s]"
      ]
     },
     "metadata": {},
     "output_type": "display_data"
    },
    {
     "data": {
      "application/vnd.jupyter.widget-view+json": {
       "model_id": "b3f52f12760f4e7ca9af470abb28b87f",
       "version_major": 2,
       "version_minor": 0
      },
      "text/plain": [
       "10, 26, balanced, entropy:   0%|          | 0/2 [00:00<?, ?it/s]"
      ]
     },
     "metadata": {},
     "output_type": "display_data"
    },
    {
     "data": {
      "application/vnd.jupyter.widget-view+json": {
       "model_id": "54bd4fce0c934624a6122f90f205255a",
       "version_major": 2,
       "version_minor": 0
      },
      "text/plain": [
       "10, 26, None, gini:   0%|          | 0/2 [00:00<?, ?it/s]"
      ]
     },
     "metadata": {},
     "output_type": "display_data"
    },
    {
     "data": {
      "application/vnd.jupyter.widget-view+json": {
       "model_id": "862584a63797469bbd137bc4db0286b3",
       "version_major": 2,
       "version_minor": 0
      },
      "text/plain": [
       "10, 27, balanced, entropy:   0%|          | 0/2 [00:00<?, ?it/s]"
      ]
     },
     "metadata": {},
     "output_type": "display_data"
    },
    {
     "data": {
      "application/vnd.jupyter.widget-view+json": {
       "model_id": "24f9a1fba1354dbc844b15db4d0525f4",
       "version_major": 2,
       "version_minor": 0
      },
      "text/plain": [
       "10, 27, None, gini:   0%|          | 0/2 [00:00<?, ?it/s]"
      ]
     },
     "metadata": {},
     "output_type": "display_data"
    },
    {
     "data": {
      "application/vnd.jupyter.widget-view+json": {
       "model_id": "17501e9a9be947d0a3c7e55d7af3bb78",
       "version_major": 2,
       "version_minor": 0
      },
      "text/plain": [
       "10, 28, balanced, entropy:   0%|          | 0/2 [00:00<?, ?it/s]"
      ]
     },
     "metadata": {},
     "output_type": "display_data"
    },
    {
     "data": {
      "application/vnd.jupyter.widget-view+json": {
       "model_id": "dda11168e1b944aabaa51d0fbff11777",
       "version_major": 2,
       "version_minor": 0
      },
      "text/plain": [
       "10, 28, None, gini:   0%|          | 0/2 [00:00<?, ?it/s]"
      ]
     },
     "metadata": {},
     "output_type": "display_data"
    },
    {
     "data": {
      "application/vnd.jupyter.widget-view+json": {
       "model_id": "e4b4e9cfd58a474b8d2e90f43bff7b05",
       "version_major": 2,
       "version_minor": 0
      },
      "text/plain": [
       "10, 29, balanced, entropy:   0%|          | 0/2 [00:00<?, ?it/s]"
      ]
     },
     "metadata": {},
     "output_type": "display_data"
    },
    {
     "data": {
      "application/vnd.jupyter.widget-view+json": {
       "model_id": "6b7866d6f70948fcafd2620b8c759a61",
       "version_major": 2,
       "version_minor": 0
      },
      "text/plain": [
       "10, 29, None, gini:   0%|          | 0/2 [00:00<?, ?it/s]"
      ]
     },
     "metadata": {},
     "output_type": "display_data"
    },
    {
     "data": {
      "application/vnd.jupyter.widget-view+json": {
       "model_id": "8f6f4a76012246c4911f8f3d168a9116",
       "version_major": 2,
       "version_minor": 0
      },
      "text/plain": [
       "10, 30, balanced, entropy:   0%|          | 0/2 [00:00<?, ?it/s]"
      ]
     },
     "metadata": {},
     "output_type": "display_data"
    },
    {
     "data": {
      "application/vnd.jupyter.widget-view+json": {
       "model_id": "b3f3edcc123d4563bdf8131c921aa150",
       "version_major": 2,
       "version_minor": 0
      },
      "text/plain": [
       "10, 30, None, gini:   0%|          | 0/2 [00:00<?, ?it/s]"
      ]
     },
     "metadata": {},
     "output_type": "display_data"
    },
    {
     "data": {
      "application/vnd.jupyter.widget-view+json": {
       "model_id": "d8f006ddd49141cca281860aac7a3068",
       "version_major": 2,
       "version_minor": 0
      },
      "text/plain": [
       "10, 31, balanced, entropy:   0%|          | 0/2 [00:00<?, ?it/s]"
      ]
     },
     "metadata": {},
     "output_type": "display_data"
    },
    {
     "data": {
      "application/vnd.jupyter.widget-view+json": {
       "model_id": "42c62605efc942c99b95c70238152601",
       "version_major": 2,
       "version_minor": 0
      },
      "text/plain": [
       "10, 31, None, gini:   0%|          | 0/2 [00:00<?, ?it/s]"
      ]
     },
     "metadata": {},
     "output_type": "display_data"
    },
    {
     "data": {
      "application/vnd.jupyter.widget-view+json": {
       "model_id": "471e422a56f840b992961d0625b70b3a",
       "version_major": 2,
       "version_minor": 0
      },
      "text/plain": [
       "10, 32, balanced, entropy:   0%|          | 0/2 [00:00<?, ?it/s]"
      ]
     },
     "metadata": {},
     "output_type": "display_data"
    },
    {
     "data": {
      "application/vnd.jupyter.widget-view+json": {
       "model_id": "249d387ac5924a549092fcdd92493973",
       "version_major": 2,
       "version_minor": 0
      },
      "text/plain": [
       "10, 32, None, gini:   0%|          | 0/2 [00:00<?, ?it/s]"
      ]
     },
     "metadata": {},
     "output_type": "display_data"
    },
    {
     "data": {
      "application/vnd.jupyter.widget-view+json": {
       "model_id": "7425c373f36543649aa103f23fccaecb",
       "version_major": 2,
       "version_minor": 0
      },
      "text/plain": [
       "10, 33, balanced, entropy:   0%|          | 0/2 [00:00<?, ?it/s]"
      ]
     },
     "metadata": {},
     "output_type": "display_data"
    },
    {
     "data": {
      "application/vnd.jupyter.widget-view+json": {
       "model_id": "e15696bac1274485b0c0dcd0ed922624",
       "version_major": 2,
       "version_minor": 0
      },
      "text/plain": [
       "10, 33, None, gini:   0%|          | 0/2 [00:00<?, ?it/s]"
      ]
     },
     "metadata": {},
     "output_type": "display_data"
    },
    {
     "data": {
      "application/vnd.jupyter.widget-view+json": {
       "model_id": "7cbb2295b8cf496a815fef7c6401ff82",
       "version_major": 2,
       "version_minor": 0
      },
      "text/plain": [
       "10, 34, balanced, entropy:   0%|          | 0/2 [00:00<?, ?it/s]"
      ]
     },
     "metadata": {},
     "output_type": "display_data"
    },
    {
     "data": {
      "application/vnd.jupyter.widget-view+json": {
       "model_id": "7be72a61f094463ca4ede21cd040bc7c",
       "version_major": 2,
       "version_minor": 0
      },
      "text/plain": [
       "10, 34, None, gini:   0%|          | 0/2 [00:00<?, ?it/s]"
      ]
     },
     "metadata": {},
     "output_type": "display_data"
    },
    {
     "data": {
      "application/vnd.jupyter.widget-view+json": {
       "model_id": "2fa2efdd226d44c1ba4df0f532b446e0",
       "version_major": 2,
       "version_minor": 0
      },
      "text/plain": [
       "10, 35, balanced, entropy:   0%|          | 0/2 [00:00<?, ?it/s]"
      ]
     },
     "metadata": {},
     "output_type": "display_data"
    },
    {
     "data": {
      "application/vnd.jupyter.widget-view+json": {
       "model_id": "41277100765648588729292af641aec9",
       "version_major": 2,
       "version_minor": 0
      },
      "text/plain": [
       "10, 35, None, gini:   0%|          | 0/2 [00:00<?, ?it/s]"
      ]
     },
     "metadata": {},
     "output_type": "display_data"
    },
    {
     "data": {
      "application/vnd.jupyter.widget-view+json": {
       "model_id": "08cf93cac59f4be582f4b5e08c411925",
       "version_major": 2,
       "version_minor": 0
      },
      "text/plain": [
       "10, 36, balanced, entropy:   0%|          | 0/2 [00:00<?, ?it/s]"
      ]
     },
     "metadata": {},
     "output_type": "display_data"
    },
    {
     "data": {
      "application/vnd.jupyter.widget-view+json": {
       "model_id": "30c66d886392452191f9e3899948b644",
       "version_major": 2,
       "version_minor": 0
      },
      "text/plain": [
       "10, 36, None, gini:   0%|          | 0/2 [00:00<?, ?it/s]"
      ]
     },
     "metadata": {},
     "output_type": "display_data"
    },
    {
     "data": {
      "application/vnd.jupyter.widget-view+json": {
       "model_id": "10401af91a374eb09206fdf98e0e4d16",
       "version_major": 2,
       "version_minor": 0
      },
      "text/plain": [
       "10, 37, balanced, entropy:   0%|          | 0/2 [00:00<?, ?it/s]"
      ]
     },
     "metadata": {},
     "output_type": "display_data"
    },
    {
     "data": {
      "application/vnd.jupyter.widget-view+json": {
       "model_id": "58cfd097ada04a39bd68369e4b7f566d",
       "version_major": 2,
       "version_minor": 0
      },
      "text/plain": [
       "10, 37, None, gini:   0%|          | 0/2 [00:00<?, ?it/s]"
      ]
     },
     "metadata": {},
     "output_type": "display_data"
    },
    {
     "data": {
      "application/vnd.jupyter.widget-view+json": {
       "model_id": "51e68f3d14394045919831822e33a0c2",
       "version_major": 2,
       "version_minor": 0
      },
      "text/plain": [
       "10, 38, balanced, entropy:   0%|          | 0/2 [00:00<?, ?it/s]"
      ]
     },
     "metadata": {},
     "output_type": "display_data"
    },
    {
     "data": {
      "application/vnd.jupyter.widget-view+json": {
       "model_id": "e4901c89a67d480384b4c31a9673b5eb",
       "version_major": 2,
       "version_minor": 0
      },
      "text/plain": [
       "10, 38, None, gini:   0%|          | 0/2 [00:00<?, ?it/s]"
      ]
     },
     "metadata": {},
     "output_type": "display_data"
    },
    {
     "data": {
      "application/vnd.jupyter.widget-view+json": {
       "model_id": "b14ca47fa7be4618b43aabc01fef0f91",
       "version_major": 2,
       "version_minor": 0
      },
      "text/plain": [
       "10, 39, balanced, entropy:   0%|          | 0/2 [00:00<?, ?it/s]"
      ]
     },
     "metadata": {},
     "output_type": "display_data"
    },
    {
     "data": {
      "application/vnd.jupyter.widget-view+json": {
       "model_id": "b9ba5d74c4714148aad62af5efc7da01",
       "version_major": 2,
       "version_minor": 0
      },
      "text/plain": [
       "10, 39, None, gini:   0%|          | 0/2 [00:00<?, ?it/s]"
      ]
     },
     "metadata": {},
     "output_type": "display_data"
    },
    {
     "data": {
      "application/vnd.jupyter.widget-view+json": {
       "model_id": "6c6ded776b0e4eb09806fe340f5db21d",
       "version_major": 2,
       "version_minor": 0
      },
      "text/plain": [
       "10, 40, balanced, entropy:   0%|          | 0/2 [00:00<?, ?it/s]"
      ]
     },
     "metadata": {},
     "output_type": "display_data"
    },
    {
     "data": {
      "application/vnd.jupyter.widget-view+json": {
       "model_id": "c6c9bad74db14c50b3b66f3867ac926f",
       "version_major": 2,
       "version_minor": 0
      },
      "text/plain": [
       "10, 40, None, gini:   0%|          | 0/2 [00:00<?, ?it/s]"
      ]
     },
     "metadata": {},
     "output_type": "display_data"
    },
    {
     "data": {
      "application/vnd.jupyter.widget-view+json": {
       "model_id": "d02127c0f57a49ff8af81d42971dd870",
       "version_major": 2,
       "version_minor": 0
      },
      "text/plain": [
       "10, 41, balanced, entropy:   0%|          | 0/2 [00:00<?, ?it/s]"
      ]
     },
     "metadata": {},
     "output_type": "display_data"
    },
    {
     "data": {
      "application/vnd.jupyter.widget-view+json": {
       "model_id": "1f48c745d63043249d9543776e5c675c",
       "version_major": 2,
       "version_minor": 0
      },
      "text/plain": [
       "10, 41, None, gini:   0%|          | 0/2 [00:00<?, ?it/s]"
      ]
     },
     "metadata": {},
     "output_type": "display_data"
    },
    {
     "data": {
      "application/vnd.jupyter.widget-view+json": {
       "model_id": "c6c3805359e14ff4a3875d1965bf03e1",
       "version_major": 2,
       "version_minor": 0
      },
      "text/plain": [
       "10, 42, balanced, entropy:   0%|          | 0/2 [00:00<?, ?it/s]"
      ]
     },
     "metadata": {},
     "output_type": "display_data"
    },
    {
     "data": {
      "application/vnd.jupyter.widget-view+json": {
       "model_id": "b315b8d81620462ba4f0321a0afe6a41",
       "version_major": 2,
       "version_minor": 0
      },
      "text/plain": [
       "10, 42, None, gini:   0%|          | 0/2 [00:00<?, ?it/s]"
      ]
     },
     "metadata": {},
     "output_type": "display_data"
    },
    {
     "data": {
      "application/vnd.jupyter.widget-view+json": {
       "model_id": "7e0998563f134b2e9968e5f0f442f8bb",
       "version_major": 2,
       "version_minor": 0
      },
      "text/plain": [
       "10, 43, balanced, entropy:   0%|          | 0/2 [00:00<?, ?it/s]"
      ]
     },
     "metadata": {},
     "output_type": "display_data"
    },
    {
     "data": {
      "application/vnd.jupyter.widget-view+json": {
       "model_id": "0677ca9e5fce49be9e8143bb40149ad4",
       "version_major": 2,
       "version_minor": 0
      },
      "text/plain": [
       "10, 43, None, gini:   0%|          | 0/2 [00:00<?, ?it/s]"
      ]
     },
     "metadata": {},
     "output_type": "display_data"
    },
    {
     "data": {
      "application/vnd.jupyter.widget-view+json": {
       "model_id": "f70272ae55d3439a8ded840841fea4ac",
       "version_major": 2,
       "version_minor": 0
      },
      "text/plain": [
       "10, 44, balanced, entropy:   0%|          | 0/2 [00:00<?, ?it/s]"
      ]
     },
     "metadata": {},
     "output_type": "display_data"
    },
    {
     "data": {
      "application/vnd.jupyter.widget-view+json": {
       "model_id": "5489b14bce104690afc899ae5d6a5929",
       "version_major": 2,
       "version_minor": 0
      },
      "text/plain": [
       "10, 44, None, gini:   0%|          | 0/2 [00:00<?, ?it/s]"
      ]
     },
     "metadata": {},
     "output_type": "display_data"
    },
    {
     "data": {
      "application/vnd.jupyter.widget-view+json": {
       "model_id": "629adbfda6684dfea9456aa2ec5506d7",
       "version_major": 2,
       "version_minor": 0
      },
      "text/plain": [
       "10, 45, balanced, entropy:   0%|          | 0/2 [00:00<?, ?it/s]"
      ]
     },
     "metadata": {},
     "output_type": "display_data"
    },
    {
     "data": {
      "application/vnd.jupyter.widget-view+json": {
       "model_id": "ed8967348d1349a89bb59c42fd68782c",
       "version_major": 2,
       "version_minor": 0
      },
      "text/plain": [
       "10, 45, None, gini:   0%|          | 0/2 [00:00<?, ?it/s]"
      ]
     },
     "metadata": {},
     "output_type": "display_data"
    },
    {
     "data": {
      "application/vnd.jupyter.widget-view+json": {
       "model_id": "f7ddd9ec84594bbeb0b94fcb09c11992",
       "version_major": 2,
       "version_minor": 0
      },
      "text/plain": [
       "10, 46, balanced, entropy:   0%|          | 0/2 [00:00<?, ?it/s]"
      ]
     },
     "metadata": {},
     "output_type": "display_data"
    },
    {
     "data": {
      "application/vnd.jupyter.widget-view+json": {
       "model_id": "28958b040af948e991428530b78a36bb",
       "version_major": 2,
       "version_minor": 0
      },
      "text/plain": [
       "10, 46, None, gini:   0%|          | 0/2 [00:00<?, ?it/s]"
      ]
     },
     "metadata": {},
     "output_type": "display_data"
    },
    {
     "data": {
      "application/vnd.jupyter.widget-view+json": {
       "model_id": "0b2fc0fde84444009fbf035a3696b299",
       "version_major": 2,
       "version_minor": 0
      },
      "text/plain": [
       "10, 47, balanced, entropy:   0%|          | 0/2 [00:00<?, ?it/s]"
      ]
     },
     "metadata": {},
     "output_type": "display_data"
    },
    {
     "data": {
      "application/vnd.jupyter.widget-view+json": {
       "model_id": "c8268f6947d147d39fa6a8d5bfa6ed1f",
       "version_major": 2,
       "version_minor": 0
      },
      "text/plain": [
       "10, 47, None, gini:   0%|          | 0/2 [00:00<?, ?it/s]"
      ]
     },
     "metadata": {},
     "output_type": "display_data"
    },
    {
     "data": {
      "application/vnd.jupyter.widget-view+json": {
       "model_id": "bf28188bd6c14a639980ea19ccfde970",
       "version_major": 2,
       "version_minor": 0
      },
      "text/plain": [
       "10, 48, balanced, entropy:   0%|          | 0/2 [00:00<?, ?it/s]"
      ]
     },
     "metadata": {},
     "output_type": "display_data"
    },
    {
     "data": {
      "application/vnd.jupyter.widget-view+json": {
       "model_id": "1728d54b73144088813b2cb095553edc",
       "version_major": 2,
       "version_minor": 0
      },
      "text/plain": [
       "10, 48, None, gini:   0%|          | 0/2 [00:00<?, ?it/s]"
      ]
     },
     "metadata": {},
     "output_type": "display_data"
    },
    {
     "data": {
      "application/vnd.jupyter.widget-view+json": {
       "model_id": "b9dc2491927a4211b0471aa9a02a4b82",
       "version_major": 2,
       "version_minor": 0
      },
      "text/plain": [
       "10, 49, balanced, entropy:   0%|          | 0/2 [00:00<?, ?it/s]"
      ]
     },
     "metadata": {},
     "output_type": "display_data"
    },
    {
     "data": {
      "application/vnd.jupyter.widget-view+json": {
       "model_id": "4eb38b00ebd84c7a8e5deb236541efb6",
       "version_major": 2,
       "version_minor": 0
      },
      "text/plain": [
       "10, 49, None, gini:   0%|          | 0/2 [00:00<?, ?it/s]"
      ]
     },
     "metadata": {},
     "output_type": "display_data"
    },
    {
     "data": {
      "application/vnd.jupyter.widget-view+json": {
       "model_id": "274866c4ef424d178539981daa27db68",
       "version_major": 2,
       "version_minor": 0
      },
      "text/plain": [
       "50, 1, balanced, entropy:   0%|          | 0/2 [00:00<?, ?it/s]"
      ]
     },
     "metadata": {},
     "output_type": "display_data"
    },
    {
     "data": {
      "application/vnd.jupyter.widget-view+json": {
       "model_id": "9d6eebae15e44ee5b37b6032ae13c354",
       "version_major": 2,
       "version_minor": 0
      },
      "text/plain": [
       "50, 1, None, gini:   0%|          | 0/2 [00:00<?, ?it/s]"
      ]
     },
     "metadata": {},
     "output_type": "display_data"
    },
    {
     "data": {
      "application/vnd.jupyter.widget-view+json": {
       "model_id": "063c1430133a40a9813266c2f9b4765b",
       "version_major": 2,
       "version_minor": 0
      },
      "text/plain": [
       "50, 2, balanced, entropy:   0%|          | 0/2 [00:00<?, ?it/s]"
      ]
     },
     "metadata": {},
     "output_type": "display_data"
    },
    {
     "data": {
      "application/vnd.jupyter.widget-view+json": {
       "model_id": "6f479eb0f41544ff8be71c3cc5ac2419",
       "version_major": 2,
       "version_minor": 0
      },
      "text/plain": [
       "50, 2, None, gini:   0%|          | 0/2 [00:00<?, ?it/s]"
      ]
     },
     "metadata": {},
     "output_type": "display_data"
    },
    {
     "data": {
      "application/vnd.jupyter.widget-view+json": {
       "model_id": "ef90f68c43484845b1104b61e829f3ee",
       "version_major": 2,
       "version_minor": 0
      },
      "text/plain": [
       "50, 3, balanced, entropy:   0%|          | 0/2 [00:00<?, ?it/s]"
      ]
     },
     "metadata": {},
     "output_type": "display_data"
    },
    {
     "data": {
      "application/vnd.jupyter.widget-view+json": {
       "model_id": "3f01ea6e75934de69ea947e1592920bb",
       "version_major": 2,
       "version_minor": 0
      },
      "text/plain": [
       "50, 3, None, gini:   0%|          | 0/2 [00:00<?, ?it/s]"
      ]
     },
     "metadata": {},
     "output_type": "display_data"
    },
    {
     "data": {
      "application/vnd.jupyter.widget-view+json": {
       "model_id": "a2a24b6d32794685aa39094aba871f87",
       "version_major": 2,
       "version_minor": 0
      },
      "text/plain": [
       "50, 4, balanced, entropy:   0%|          | 0/2 [00:00<?, ?it/s]"
      ]
     },
     "metadata": {},
     "output_type": "display_data"
    },
    {
     "data": {
      "application/vnd.jupyter.widget-view+json": {
       "model_id": "5810f5b068574c9490482102c8fb49d4",
       "version_major": 2,
       "version_minor": 0
      },
      "text/plain": [
       "50, 4, None, gini:   0%|          | 0/2 [00:00<?, ?it/s]"
      ]
     },
     "metadata": {},
     "output_type": "display_data"
    },
    {
     "data": {
      "application/vnd.jupyter.widget-view+json": {
       "model_id": "fd4367ea357345ecaddaa2dfa58cb30e",
       "version_major": 2,
       "version_minor": 0
      },
      "text/plain": [
       "50, 5, balanced, entropy:   0%|          | 0/2 [00:00<?, ?it/s]"
      ]
     },
     "metadata": {},
     "output_type": "display_data"
    },
    {
     "data": {
      "application/vnd.jupyter.widget-view+json": {
       "model_id": "8cb8b729c93f408e90e267a543a7d422",
       "version_major": 2,
       "version_minor": 0
      },
      "text/plain": [
       "50, 5, None, gini:   0%|          | 0/2 [00:00<?, ?it/s]"
      ]
     },
     "metadata": {},
     "output_type": "display_data"
    },
    {
     "data": {
      "application/vnd.jupyter.widget-view+json": {
       "model_id": "1c5e1db04a3d4f8fa08a725adf0e4221",
       "version_major": 2,
       "version_minor": 0
      },
      "text/plain": [
       "50, 6, balanced, entropy:   0%|          | 0/2 [00:00<?, ?it/s]"
      ]
     },
     "metadata": {},
     "output_type": "display_data"
    },
    {
     "data": {
      "application/vnd.jupyter.widget-view+json": {
       "model_id": "2c27e84c8b0142dcae1819048164c246",
       "version_major": 2,
       "version_minor": 0
      },
      "text/plain": [
       "50, 6, None, gini:   0%|          | 0/2 [00:00<?, ?it/s]"
      ]
     },
     "metadata": {},
     "output_type": "display_data"
    },
    {
     "data": {
      "application/vnd.jupyter.widget-view+json": {
       "model_id": "413d5cae14894a49bbefebb49b7b9f02",
       "version_major": 2,
       "version_minor": 0
      },
      "text/plain": [
       "50, 7, balanced, entropy:   0%|          | 0/2 [00:00<?, ?it/s]"
      ]
     },
     "metadata": {},
     "output_type": "display_data"
    },
    {
     "data": {
      "application/vnd.jupyter.widget-view+json": {
       "model_id": "b64fc2a749af41c2a6f6cfa09b7fb7ed",
       "version_major": 2,
       "version_minor": 0
      },
      "text/plain": [
       "50, 7, None, gini:   0%|          | 0/2 [00:00<?, ?it/s]"
      ]
     },
     "metadata": {},
     "output_type": "display_data"
    },
    {
     "data": {
      "application/vnd.jupyter.widget-view+json": {
       "model_id": "7c971e8efd49451a85ad9bff4354ae68",
       "version_major": 2,
       "version_minor": 0
      },
      "text/plain": [
       "50, 8, balanced, entropy:   0%|          | 0/2 [00:00<?, ?it/s]"
      ]
     },
     "metadata": {},
     "output_type": "display_data"
    },
    {
     "data": {
      "application/vnd.jupyter.widget-view+json": {
       "model_id": "5fb000b43d3c4a9396243fe7d449458d",
       "version_major": 2,
       "version_minor": 0
      },
      "text/plain": [
       "50, 8, None, gini:   0%|          | 0/2 [00:00<?, ?it/s]"
      ]
     },
     "metadata": {},
     "output_type": "display_data"
    },
    {
     "data": {
      "application/vnd.jupyter.widget-view+json": {
       "model_id": "297d0fe954184a289eee92b1f5b81bb8",
       "version_major": 2,
       "version_minor": 0
      },
      "text/plain": [
       "50, 9, balanced, entropy:   0%|          | 0/2 [00:00<?, ?it/s]"
      ]
     },
     "metadata": {},
     "output_type": "display_data"
    },
    {
     "data": {
      "application/vnd.jupyter.widget-view+json": {
       "model_id": "def2ce874e66457cba919b9797f01700",
       "version_major": 2,
       "version_minor": 0
      },
      "text/plain": [
       "50, 9, None, gini:   0%|          | 0/2 [00:00<?, ?it/s]"
      ]
     },
     "metadata": {},
     "output_type": "display_data"
    },
    {
     "data": {
      "application/vnd.jupyter.widget-view+json": {
       "model_id": "bb45750b49ea49e6987c6f42a9e638e3",
       "version_major": 2,
       "version_minor": 0
      },
      "text/plain": [
       "50, 10, balanced, entropy:   0%|          | 0/2 [00:00<?, ?it/s]"
      ]
     },
     "metadata": {},
     "output_type": "display_data"
    },
    {
     "data": {
      "application/vnd.jupyter.widget-view+json": {
       "model_id": "b4591ad23d5a4b1c8ebe7981ca834ccd",
       "version_major": 2,
       "version_minor": 0
      },
      "text/plain": [
       "50, 10, None, gini:   0%|          | 0/2 [00:00<?, ?it/s]"
      ]
     },
     "metadata": {},
     "output_type": "display_data"
    },
    {
     "data": {
      "application/vnd.jupyter.widget-view+json": {
       "model_id": "d4c571eb6fdc46219650b9dec1219bc1",
       "version_major": 2,
       "version_minor": 0
      },
      "text/plain": [
       "50, 11, balanced, entropy:   0%|          | 0/2 [00:00<?, ?it/s]"
      ]
     },
     "metadata": {},
     "output_type": "display_data"
    },
    {
     "data": {
      "application/vnd.jupyter.widget-view+json": {
       "model_id": "9591db146cff4fa59f589abf73874192",
       "version_major": 2,
       "version_minor": 0
      },
      "text/plain": [
       "50, 11, None, gini:   0%|          | 0/2 [00:00<?, ?it/s]"
      ]
     },
     "metadata": {},
     "output_type": "display_data"
    },
    {
     "data": {
      "application/vnd.jupyter.widget-view+json": {
       "model_id": "be220ea9384c4705a98245771af6341b",
       "version_major": 2,
       "version_minor": 0
      },
      "text/plain": [
       "50, 12, balanced, entropy:   0%|          | 0/2 [00:00<?, ?it/s]"
      ]
     },
     "metadata": {},
     "output_type": "display_data"
    },
    {
     "data": {
      "application/vnd.jupyter.widget-view+json": {
       "model_id": "d0870c8a542d4778a2f55e424fdbf66c",
       "version_major": 2,
       "version_minor": 0
      },
      "text/plain": [
       "50, 12, None, gini:   0%|          | 0/2 [00:00<?, ?it/s]"
      ]
     },
     "metadata": {},
     "output_type": "display_data"
    },
    {
     "data": {
      "application/vnd.jupyter.widget-view+json": {
       "model_id": "12d508f3d8df4e28a9f1babfb47235e7",
       "version_major": 2,
       "version_minor": 0
      },
      "text/plain": [
       "50, 13, balanced, entropy:   0%|          | 0/2 [00:00<?, ?it/s]"
      ]
     },
     "metadata": {},
     "output_type": "display_data"
    },
    {
     "data": {
      "application/vnd.jupyter.widget-view+json": {
       "model_id": "66543684b7f04736bc6930711d63fc02",
       "version_major": 2,
       "version_minor": 0
      },
      "text/plain": [
       "50, 13, None, gini:   0%|          | 0/2 [00:00<?, ?it/s]"
      ]
     },
     "metadata": {},
     "output_type": "display_data"
    },
    {
     "data": {
      "application/vnd.jupyter.widget-view+json": {
       "model_id": "bc686bea3d10429b9a2863074284769a",
       "version_major": 2,
       "version_minor": 0
      },
      "text/plain": [
       "50, 14, balanced, entropy:   0%|          | 0/2 [00:00<?, ?it/s]"
      ]
     },
     "metadata": {},
     "output_type": "display_data"
    },
    {
     "data": {
      "application/vnd.jupyter.widget-view+json": {
       "model_id": "a6be669b48cb4dfb88ee9969264175b3",
       "version_major": 2,
       "version_minor": 0
      },
      "text/plain": [
       "50, 14, None, gini:   0%|          | 0/2 [00:00<?, ?it/s]"
      ]
     },
     "metadata": {},
     "output_type": "display_data"
    },
    {
     "data": {
      "application/vnd.jupyter.widget-view+json": {
       "model_id": "adcf45603dc34c02b905be029b2358c1",
       "version_major": 2,
       "version_minor": 0
      },
      "text/plain": [
       "50, 15, balanced, entropy:   0%|          | 0/2 [00:00<?, ?it/s]"
      ]
     },
     "metadata": {},
     "output_type": "display_data"
    },
    {
     "data": {
      "application/vnd.jupyter.widget-view+json": {
       "model_id": "268bead5b05f442da8893e9da3888288",
       "version_major": 2,
       "version_minor": 0
      },
      "text/plain": [
       "50, 15, None, gini:   0%|          | 0/2 [00:00<?, ?it/s]"
      ]
     },
     "metadata": {},
     "output_type": "display_data"
    },
    {
     "data": {
      "application/vnd.jupyter.widget-view+json": {
       "model_id": "ba6a3d6f648e4a80b7f08216f3a27344",
       "version_major": 2,
       "version_minor": 0
      },
      "text/plain": [
       "50, 16, balanced, entropy:   0%|          | 0/2 [00:00<?, ?it/s]"
      ]
     },
     "metadata": {},
     "output_type": "display_data"
    },
    {
     "data": {
      "application/vnd.jupyter.widget-view+json": {
       "model_id": "25a18cbe50694efa957923731eab1a02",
       "version_major": 2,
       "version_minor": 0
      },
      "text/plain": [
       "50, 16, None, gini:   0%|          | 0/2 [00:00<?, ?it/s]"
      ]
     },
     "metadata": {},
     "output_type": "display_data"
    },
    {
     "data": {
      "application/vnd.jupyter.widget-view+json": {
       "model_id": "5f89e4edf6d34838b5f5a1efc8b7efae",
       "version_major": 2,
       "version_minor": 0
      },
      "text/plain": [
       "50, 17, balanced, entropy:   0%|          | 0/2 [00:00<?, ?it/s]"
      ]
     },
     "metadata": {},
     "output_type": "display_data"
    },
    {
     "data": {
      "application/vnd.jupyter.widget-view+json": {
       "model_id": "d0dc0d97c4d847a18a8576f717476fcb",
       "version_major": 2,
       "version_minor": 0
      },
      "text/plain": [
       "50, 17, None, gini:   0%|          | 0/2 [00:00<?, ?it/s]"
      ]
     },
     "metadata": {},
     "output_type": "display_data"
    },
    {
     "data": {
      "application/vnd.jupyter.widget-view+json": {
       "model_id": "16c249fa702145aeae00f2ecca1220b8",
       "version_major": 2,
       "version_minor": 0
      },
      "text/plain": [
       "50, 18, balanced, entropy:   0%|          | 0/2 [00:00<?, ?it/s]"
      ]
     },
     "metadata": {},
     "output_type": "display_data"
    },
    {
     "data": {
      "application/vnd.jupyter.widget-view+json": {
       "model_id": "6b789299a4494fc086c8b9fa237cea4c",
       "version_major": 2,
       "version_minor": 0
      },
      "text/plain": [
       "50, 18, None, gini:   0%|          | 0/2 [00:00<?, ?it/s]"
      ]
     },
     "metadata": {},
     "output_type": "display_data"
    },
    {
     "data": {
      "application/vnd.jupyter.widget-view+json": {
       "model_id": "e48c8cbb353b4d60ad525451c2116d89",
       "version_major": 2,
       "version_minor": 0
      },
      "text/plain": [
       "50, 19, balanced, entropy:   0%|          | 0/2 [00:00<?, ?it/s]"
      ]
     },
     "metadata": {},
     "output_type": "display_data"
    },
    {
     "data": {
      "application/vnd.jupyter.widget-view+json": {
       "model_id": "6da2b9ac82a04015a16e1689ce8b6d40",
       "version_major": 2,
       "version_minor": 0
      },
      "text/plain": [
       "50, 19, None, gini:   0%|          | 0/2 [00:00<?, ?it/s]"
      ]
     },
     "metadata": {},
     "output_type": "display_data"
    },
    {
     "data": {
      "application/vnd.jupyter.widget-view+json": {
       "model_id": "7e514b1437c64c738b21fd6c5fcbd246",
       "version_major": 2,
       "version_minor": 0
      },
      "text/plain": [
       "50, 20, balanced, entropy:   0%|          | 0/2 [00:00<?, ?it/s]"
      ]
     },
     "metadata": {},
     "output_type": "display_data"
    },
    {
     "data": {
      "application/vnd.jupyter.widget-view+json": {
       "model_id": "b046e455599649e09d62be0120e7e5cc",
       "version_major": 2,
       "version_minor": 0
      },
      "text/plain": [
       "50, 20, None, gini:   0%|          | 0/2 [00:00<?, ?it/s]"
      ]
     },
     "metadata": {},
     "output_type": "display_data"
    },
    {
     "data": {
      "application/vnd.jupyter.widget-view+json": {
       "model_id": "f7ced48bcb654fbf932295fd491a8eb0",
       "version_major": 2,
       "version_minor": 0
      },
      "text/plain": [
       "50, 21, balanced, entropy:   0%|          | 0/2 [00:00<?, ?it/s]"
      ]
     },
     "metadata": {},
     "output_type": "display_data"
    },
    {
     "data": {
      "application/vnd.jupyter.widget-view+json": {
       "model_id": "c867cf96883e40719eaad336827e2a37",
       "version_major": 2,
       "version_minor": 0
      },
      "text/plain": [
       "50, 21, None, gini:   0%|          | 0/2 [00:00<?, ?it/s]"
      ]
     },
     "metadata": {},
     "output_type": "display_data"
    },
    {
     "data": {
      "application/vnd.jupyter.widget-view+json": {
       "model_id": "752dac5705c5426da496d36d5e83a694",
       "version_major": 2,
       "version_minor": 0
      },
      "text/plain": [
       "50, 22, balanced, entropy:   0%|          | 0/2 [00:00<?, ?it/s]"
      ]
     },
     "metadata": {},
     "output_type": "display_data"
    },
    {
     "data": {
      "application/vnd.jupyter.widget-view+json": {
       "model_id": "d308011554744f259e5a012a5adf8634",
       "version_major": 2,
       "version_minor": 0
      },
      "text/plain": [
       "50, 22, None, gini:   0%|          | 0/2 [00:00<?, ?it/s]"
      ]
     },
     "metadata": {},
     "output_type": "display_data"
    },
    {
     "data": {
      "application/vnd.jupyter.widget-view+json": {
       "model_id": "f2daaf6f5fa74e49a0a5e1c674dfdaf6",
       "version_major": 2,
       "version_minor": 0
      },
      "text/plain": [
       "50, 23, balanced, entropy:   0%|          | 0/2 [00:00<?, ?it/s]"
      ]
     },
     "metadata": {},
     "output_type": "display_data"
    },
    {
     "data": {
      "application/vnd.jupyter.widget-view+json": {
       "model_id": "823b71827df8483da2ea6fc590c3dcfd",
       "version_major": 2,
       "version_minor": 0
      },
      "text/plain": [
       "50, 23, None, gini:   0%|          | 0/2 [00:00<?, ?it/s]"
      ]
     },
     "metadata": {},
     "output_type": "display_data"
    },
    {
     "data": {
      "application/vnd.jupyter.widget-view+json": {
       "model_id": "b536e93f48aa426f97adef4eca0b2c4b",
       "version_major": 2,
       "version_minor": 0
      },
      "text/plain": [
       "50, 24, balanced, entropy:   0%|          | 0/2 [00:00<?, ?it/s]"
      ]
     },
     "metadata": {},
     "output_type": "display_data"
    },
    {
     "data": {
      "application/vnd.jupyter.widget-view+json": {
       "model_id": "c9863008f60c424394c343cd27182609",
       "version_major": 2,
       "version_minor": 0
      },
      "text/plain": [
       "50, 24, None, gini:   0%|          | 0/2 [00:00<?, ?it/s]"
      ]
     },
     "metadata": {},
     "output_type": "display_data"
    },
    {
     "data": {
      "application/vnd.jupyter.widget-view+json": {
       "model_id": "e8c0052acd684931a7c54697aa94b326",
       "version_major": 2,
       "version_minor": 0
      },
      "text/plain": [
       "50, 25, balanced, entropy:   0%|          | 0/2 [00:00<?, ?it/s]"
      ]
     },
     "metadata": {},
     "output_type": "display_data"
    },
    {
     "data": {
      "application/vnd.jupyter.widget-view+json": {
       "model_id": "c7f3604d35144b33a5cf1c628a74eb6b",
       "version_major": 2,
       "version_minor": 0
      },
      "text/plain": [
       "50, 25, None, gini:   0%|          | 0/2 [00:00<?, ?it/s]"
      ]
     },
     "metadata": {},
     "output_type": "display_data"
    },
    {
     "data": {
      "application/vnd.jupyter.widget-view+json": {
       "model_id": "549ccf82ab5248f680d0f0e5d4e762a7",
       "version_major": 2,
       "version_minor": 0
      },
      "text/plain": [
       "50, 26, balanced, entropy:   0%|          | 0/2 [00:00<?, ?it/s]"
      ]
     },
     "metadata": {},
     "output_type": "display_data"
    },
    {
     "data": {
      "application/vnd.jupyter.widget-view+json": {
       "model_id": "5eb7448e28884e3e8f7d0302cda49e5c",
       "version_major": 2,
       "version_minor": 0
      },
      "text/plain": [
       "50, 26, None, gini:   0%|          | 0/2 [00:00<?, ?it/s]"
      ]
     },
     "metadata": {},
     "output_type": "display_data"
    },
    {
     "data": {
      "application/vnd.jupyter.widget-view+json": {
       "model_id": "e79d1697859d4310ad58e972b4bde07f",
       "version_major": 2,
       "version_minor": 0
      },
      "text/plain": [
       "50, 27, balanced, entropy:   0%|          | 0/2 [00:00<?, ?it/s]"
      ]
     },
     "metadata": {},
     "output_type": "display_data"
    },
    {
     "data": {
      "application/vnd.jupyter.widget-view+json": {
       "model_id": "b95cb61f812f4cdc8e63ad53d230fbcf",
       "version_major": 2,
       "version_minor": 0
      },
      "text/plain": [
       "50, 27, None, gini:   0%|          | 0/2 [00:00<?, ?it/s]"
      ]
     },
     "metadata": {},
     "output_type": "display_data"
    },
    {
     "data": {
      "application/vnd.jupyter.widget-view+json": {
       "model_id": "69aa6f40b23b48d0aaf5450fb7060d3d",
       "version_major": 2,
       "version_minor": 0
      },
      "text/plain": [
       "50, 28, balanced, entropy:   0%|          | 0/2 [00:00<?, ?it/s]"
      ]
     },
     "metadata": {},
     "output_type": "display_data"
    },
    {
     "data": {
      "application/vnd.jupyter.widget-view+json": {
       "model_id": "80481062631947a992c8eb39c9f76fe1",
       "version_major": 2,
       "version_minor": 0
      },
      "text/plain": [
       "50, 28, None, gini:   0%|          | 0/2 [00:00<?, ?it/s]"
      ]
     },
     "metadata": {},
     "output_type": "display_data"
    },
    {
     "data": {
      "application/vnd.jupyter.widget-view+json": {
       "model_id": "4874cad02d43485fbe7d99282f7ca6e7",
       "version_major": 2,
       "version_minor": 0
      },
      "text/plain": [
       "50, 29, balanced, entropy:   0%|          | 0/2 [00:00<?, ?it/s]"
      ]
     },
     "metadata": {},
     "output_type": "display_data"
    },
    {
     "data": {
      "application/vnd.jupyter.widget-view+json": {
       "model_id": "4873e55d12244c25b13dfc6eaa9294b7",
       "version_major": 2,
       "version_minor": 0
      },
      "text/plain": [
       "50, 29, None, gini:   0%|          | 0/2 [00:00<?, ?it/s]"
      ]
     },
     "metadata": {},
     "output_type": "display_data"
    },
    {
     "data": {
      "application/vnd.jupyter.widget-view+json": {
       "model_id": "8385ef26d75c43a2ad888c1d215c4c80",
       "version_major": 2,
       "version_minor": 0
      },
      "text/plain": [
       "50, 30, balanced, entropy:   0%|          | 0/2 [00:00<?, ?it/s]"
      ]
     },
     "metadata": {},
     "output_type": "display_data"
    },
    {
     "data": {
      "application/vnd.jupyter.widget-view+json": {
       "model_id": "f8baea65a296421fb5c7cf854abc8d2e",
       "version_major": 2,
       "version_minor": 0
      },
      "text/plain": [
       "50, 30, None, gini:   0%|          | 0/2 [00:00<?, ?it/s]"
      ]
     },
     "metadata": {},
     "output_type": "display_data"
    },
    {
     "data": {
      "application/vnd.jupyter.widget-view+json": {
       "model_id": "bf43efd2913747cc879c8e3c0cc12a19",
       "version_major": 2,
       "version_minor": 0
      },
      "text/plain": [
       "50, 31, balanced, entropy:   0%|          | 0/2 [00:00<?, ?it/s]"
      ]
     },
     "metadata": {},
     "output_type": "display_data"
    },
    {
     "data": {
      "application/vnd.jupyter.widget-view+json": {
       "model_id": "94dad7cb1fef4dea96e90bf84307d80a",
       "version_major": 2,
       "version_minor": 0
      },
      "text/plain": [
       "50, 31, None, gini:   0%|          | 0/2 [00:00<?, ?it/s]"
      ]
     },
     "metadata": {},
     "output_type": "display_data"
    },
    {
     "data": {
      "application/vnd.jupyter.widget-view+json": {
       "model_id": "125da15745564b2689f6a03ef0a4b78f",
       "version_major": 2,
       "version_minor": 0
      },
      "text/plain": [
       "50, 32, balanced, entropy:   0%|          | 0/2 [00:00<?, ?it/s]"
      ]
     },
     "metadata": {},
     "output_type": "display_data"
    },
    {
     "data": {
      "application/vnd.jupyter.widget-view+json": {
       "model_id": "7b5c2d90e6a241819f1d2cf3c7abc14c",
       "version_major": 2,
       "version_minor": 0
      },
      "text/plain": [
       "50, 32, None, gini:   0%|          | 0/2 [00:00<?, ?it/s]"
      ]
     },
     "metadata": {},
     "output_type": "display_data"
    },
    {
     "data": {
      "application/vnd.jupyter.widget-view+json": {
       "model_id": "72fac1c0cb4e4abd8d9e2a990e4f3288",
       "version_major": 2,
       "version_minor": 0
      },
      "text/plain": [
       "50, 33, balanced, entropy:   0%|          | 0/2 [00:00<?, ?it/s]"
      ]
     },
     "metadata": {},
     "output_type": "display_data"
    },
    {
     "data": {
      "application/vnd.jupyter.widget-view+json": {
       "model_id": "b75fb2e96df84297a5686f3c19678d34",
       "version_major": 2,
       "version_minor": 0
      },
      "text/plain": [
       "50, 33, None, gini:   0%|          | 0/2 [00:00<?, ?it/s]"
      ]
     },
     "metadata": {},
     "output_type": "display_data"
    },
    {
     "data": {
      "application/vnd.jupyter.widget-view+json": {
       "model_id": "362a166f486b4f7aacb6572458235408",
       "version_major": 2,
       "version_minor": 0
      },
      "text/plain": [
       "50, 34, balanced, entropy:   0%|          | 0/2 [00:00<?, ?it/s]"
      ]
     },
     "metadata": {},
     "output_type": "display_data"
    },
    {
     "data": {
      "application/vnd.jupyter.widget-view+json": {
       "model_id": "a4212d6f4bb541f682ae786f745d6619",
       "version_major": 2,
       "version_minor": 0
      },
      "text/plain": [
       "50, 34, None, gini:   0%|          | 0/2 [00:00<?, ?it/s]"
      ]
     },
     "metadata": {},
     "output_type": "display_data"
    },
    {
     "data": {
      "application/vnd.jupyter.widget-view+json": {
       "model_id": "e555b35b16864f3a8d400dc91105dac4",
       "version_major": 2,
       "version_minor": 0
      },
      "text/plain": [
       "50, 35, balanced, entropy:   0%|          | 0/2 [00:00<?, ?it/s]"
      ]
     },
     "metadata": {},
     "output_type": "display_data"
    },
    {
     "data": {
      "application/vnd.jupyter.widget-view+json": {
       "model_id": "268ec0bebe8f4305bbf704d072746101",
       "version_major": 2,
       "version_minor": 0
      },
      "text/plain": [
       "50, 35, None, gini:   0%|          | 0/2 [00:00<?, ?it/s]"
      ]
     },
     "metadata": {},
     "output_type": "display_data"
    },
    {
     "data": {
      "application/vnd.jupyter.widget-view+json": {
       "model_id": "9fdba118021347248d99fc08b6447c56",
       "version_major": 2,
       "version_minor": 0
      },
      "text/plain": [
       "50, 36, balanced, entropy:   0%|          | 0/2 [00:00<?, ?it/s]"
      ]
     },
     "metadata": {},
     "output_type": "display_data"
    },
    {
     "data": {
      "application/vnd.jupyter.widget-view+json": {
       "model_id": "6663785ebc604e6bafcb9775f7ea0071",
       "version_major": 2,
       "version_minor": 0
      },
      "text/plain": [
       "50, 36, None, gini:   0%|          | 0/2 [00:00<?, ?it/s]"
      ]
     },
     "metadata": {},
     "output_type": "display_data"
    },
    {
     "data": {
      "application/vnd.jupyter.widget-view+json": {
       "model_id": "841c4686a5c1459f9712eb26dca7b664",
       "version_major": 2,
       "version_minor": 0
      },
      "text/plain": [
       "50, 37, balanced, entropy:   0%|          | 0/2 [00:00<?, ?it/s]"
      ]
     },
     "metadata": {},
     "output_type": "display_data"
    },
    {
     "data": {
      "application/vnd.jupyter.widget-view+json": {
       "model_id": "124a6facfb334fd6a33e55926552f89e",
       "version_major": 2,
       "version_minor": 0
      },
      "text/plain": [
       "50, 37, None, gini:   0%|          | 0/2 [00:00<?, ?it/s]"
      ]
     },
     "metadata": {},
     "output_type": "display_data"
    },
    {
     "data": {
      "application/vnd.jupyter.widget-view+json": {
       "model_id": "ce9a7c8317c74e5d811946a13c929cf1",
       "version_major": 2,
       "version_minor": 0
      },
      "text/plain": [
       "50, 38, balanced, entropy:   0%|          | 0/2 [00:00<?, ?it/s]"
      ]
     },
     "metadata": {},
     "output_type": "display_data"
    },
    {
     "data": {
      "application/vnd.jupyter.widget-view+json": {
       "model_id": "e2423bc7eec144628cde74122aebc712",
       "version_major": 2,
       "version_minor": 0
      },
      "text/plain": [
       "50, 38, None, gini:   0%|          | 0/2 [00:00<?, ?it/s]"
      ]
     },
     "metadata": {},
     "output_type": "display_data"
    },
    {
     "data": {
      "application/vnd.jupyter.widget-view+json": {
       "model_id": "84c895d712dc442cafc668fedeb71056",
       "version_major": 2,
       "version_minor": 0
      },
      "text/plain": [
       "50, 39, balanced, entropy:   0%|          | 0/2 [00:00<?, ?it/s]"
      ]
     },
     "metadata": {},
     "output_type": "display_data"
    },
    {
     "data": {
      "application/vnd.jupyter.widget-view+json": {
       "model_id": "b30f1e9668b843e4a860aa9ec0022510",
       "version_major": 2,
       "version_minor": 0
      },
      "text/plain": [
       "50, 39, None, gini:   0%|          | 0/2 [00:00<?, ?it/s]"
      ]
     },
     "metadata": {},
     "output_type": "display_data"
    },
    {
     "data": {
      "application/vnd.jupyter.widget-view+json": {
       "model_id": "f3733a8abd614da6b6dfb19df3debeb5",
       "version_major": 2,
       "version_minor": 0
      },
      "text/plain": [
       "50, 40, balanced, entropy:   0%|          | 0/2 [00:00<?, ?it/s]"
      ]
     },
     "metadata": {},
     "output_type": "display_data"
    },
    {
     "data": {
      "application/vnd.jupyter.widget-view+json": {
       "model_id": "4d797a2f527d4899be44c1ec17536f56",
       "version_major": 2,
       "version_minor": 0
      },
      "text/plain": [
       "50, 40, None, gini:   0%|          | 0/2 [00:00<?, ?it/s]"
      ]
     },
     "metadata": {},
     "output_type": "display_data"
    },
    {
     "data": {
      "application/vnd.jupyter.widget-view+json": {
       "model_id": "48505af7d38844bdadd9e8ed7c606a1a",
       "version_major": 2,
       "version_minor": 0
      },
      "text/plain": [
       "50, 41, balanced, entropy:   0%|          | 0/2 [00:00<?, ?it/s]"
      ]
     },
     "metadata": {},
     "output_type": "display_data"
    },
    {
     "data": {
      "application/vnd.jupyter.widget-view+json": {
       "model_id": "0538ea7b59564268a29998213c537647",
       "version_major": 2,
       "version_minor": 0
      },
      "text/plain": [
       "50, 41, None, gini:   0%|          | 0/2 [00:00<?, ?it/s]"
      ]
     },
     "metadata": {},
     "output_type": "display_data"
    },
    {
     "data": {
      "application/vnd.jupyter.widget-view+json": {
       "model_id": "f07236f5c9ed4513ad7a8e7f65dccb64",
       "version_major": 2,
       "version_minor": 0
      },
      "text/plain": [
       "50, 42, balanced, entropy:   0%|          | 0/2 [00:00<?, ?it/s]"
      ]
     },
     "metadata": {},
     "output_type": "display_data"
    },
    {
     "data": {
      "application/vnd.jupyter.widget-view+json": {
       "model_id": "e262825f054a468e84d1b7a57135b497",
       "version_major": 2,
       "version_minor": 0
      },
      "text/plain": [
       "50, 42, None, gini:   0%|          | 0/2 [00:00<?, ?it/s]"
      ]
     },
     "metadata": {},
     "output_type": "display_data"
    },
    {
     "data": {
      "application/vnd.jupyter.widget-view+json": {
       "model_id": "3a58503f41d4410dbfe9f2758c576650",
       "version_major": 2,
       "version_minor": 0
      },
      "text/plain": [
       "50, 43, balanced, entropy:   0%|          | 0/2 [00:00<?, ?it/s]"
      ]
     },
     "metadata": {},
     "output_type": "display_data"
    },
    {
     "data": {
      "application/vnd.jupyter.widget-view+json": {
       "model_id": "ea7bb8fcfa5d4a02b2029e74f0524039",
       "version_major": 2,
       "version_minor": 0
      },
      "text/plain": [
       "50, 43, None, gini:   0%|          | 0/2 [00:00<?, ?it/s]"
      ]
     },
     "metadata": {},
     "output_type": "display_data"
    },
    {
     "data": {
      "application/vnd.jupyter.widget-view+json": {
       "model_id": "e4df6d89e9b44eb68646e23dae2fba68",
       "version_major": 2,
       "version_minor": 0
      },
      "text/plain": [
       "50, 44, balanced, entropy:   0%|          | 0/2 [00:00<?, ?it/s]"
      ]
     },
     "metadata": {},
     "output_type": "display_data"
    },
    {
     "data": {
      "application/vnd.jupyter.widget-view+json": {
       "model_id": "ca9c403883a942d18be14249581f68c2",
       "version_major": 2,
       "version_minor": 0
      },
      "text/plain": [
       "50, 44, None, gini:   0%|          | 0/2 [00:00<?, ?it/s]"
      ]
     },
     "metadata": {},
     "output_type": "display_data"
    },
    {
     "data": {
      "application/vnd.jupyter.widget-view+json": {
       "model_id": "5716fd99e89d4b89a390a6df1feaa6ac",
       "version_major": 2,
       "version_minor": 0
      },
      "text/plain": [
       "50, 45, balanced, entropy:   0%|          | 0/2 [00:00<?, ?it/s]"
      ]
     },
     "metadata": {},
     "output_type": "display_data"
    },
    {
     "data": {
      "application/vnd.jupyter.widget-view+json": {
       "model_id": "b4688f7deda34efca25fab2318611e66",
       "version_major": 2,
       "version_minor": 0
      },
      "text/plain": [
       "50, 45, None, gini:   0%|          | 0/2 [00:00<?, ?it/s]"
      ]
     },
     "metadata": {},
     "output_type": "display_data"
    },
    {
     "data": {
      "application/vnd.jupyter.widget-view+json": {
       "model_id": "dd4c752b9c7d4281a6ed7df47ca92c8f",
       "version_major": 2,
       "version_minor": 0
      },
      "text/plain": [
       "50, 46, balanced, entropy:   0%|          | 0/2 [00:00<?, ?it/s]"
      ]
     },
     "metadata": {},
     "output_type": "display_data"
    },
    {
     "data": {
      "application/vnd.jupyter.widget-view+json": {
       "model_id": "1b616365777c4c409af7e3770172147b",
       "version_major": 2,
       "version_minor": 0
      },
      "text/plain": [
       "50, 46, None, gini:   0%|          | 0/2 [00:00<?, ?it/s]"
      ]
     },
     "metadata": {},
     "output_type": "display_data"
    },
    {
     "data": {
      "application/vnd.jupyter.widget-view+json": {
       "model_id": "7dd7d86f36304b7ca9db0281f2986aa5",
       "version_major": 2,
       "version_minor": 0
      },
      "text/plain": [
       "50, 47, balanced, entropy:   0%|          | 0/2 [00:00<?, ?it/s]"
      ]
     },
     "metadata": {},
     "output_type": "display_data"
    },
    {
     "data": {
      "application/vnd.jupyter.widget-view+json": {
       "model_id": "4475ea5db43d410d9b0931a4b76c4574",
       "version_major": 2,
       "version_minor": 0
      },
      "text/plain": [
       "50, 47, None, gini:   0%|          | 0/2 [00:00<?, ?it/s]"
      ]
     },
     "metadata": {},
     "output_type": "display_data"
    },
    {
     "data": {
      "application/vnd.jupyter.widget-view+json": {
       "model_id": "c784e078b30d4a76b9da2a81c89ab5b1",
       "version_major": 2,
       "version_minor": 0
      },
      "text/plain": [
       "50, 48, balanced, entropy:   0%|          | 0/2 [00:00<?, ?it/s]"
      ]
     },
     "metadata": {},
     "output_type": "display_data"
    },
    {
     "data": {
      "application/vnd.jupyter.widget-view+json": {
       "model_id": "5793ba46913c4b6f915fafb071c1db27",
       "version_major": 2,
       "version_minor": 0
      },
      "text/plain": [
       "50, 48, None, gini:   0%|          | 0/2 [00:00<?, ?it/s]"
      ]
     },
     "metadata": {},
     "output_type": "display_data"
    },
    {
     "data": {
      "application/vnd.jupyter.widget-view+json": {
       "model_id": "ea2c61c6032e4c4eb33eb9e2088501e9",
       "version_major": 2,
       "version_minor": 0
      },
      "text/plain": [
       "50, 49, balanced, entropy:   0%|          | 0/2 [00:00<?, ?it/s]"
      ]
     },
     "metadata": {},
     "output_type": "display_data"
    },
    {
     "data": {
      "application/vnd.jupyter.widget-view+json": {
       "model_id": "d2e2e015800c4639a7aa0b1f631e574b",
       "version_major": 2,
       "version_minor": 0
      },
      "text/plain": [
       "50, 49, None, gini:   0%|          | 0/2 [00:00<?, ?it/s]"
      ]
     },
     "metadata": {},
     "output_type": "display_data"
    },
    {
     "data": {
      "application/vnd.jupyter.widget-view+json": {
       "model_id": "85897f9ccbaa4d56833d1bdf419a5811",
       "version_major": 2,
       "version_minor": 0
      },
      "text/plain": [
       "100, 1, balanced, entropy:   0%|          | 0/2 [00:00<?, ?it/s]"
      ]
     },
     "metadata": {},
     "output_type": "display_data"
    },
    {
     "data": {
      "application/vnd.jupyter.widget-view+json": {
       "model_id": "e3b2fed76271408487c229133c386f49",
       "version_major": 2,
       "version_minor": 0
      },
      "text/plain": [
       "100, 1, None, gini:   0%|          | 0/2 [00:00<?, ?it/s]"
      ]
     },
     "metadata": {},
     "output_type": "display_data"
    },
    {
     "data": {
      "application/vnd.jupyter.widget-view+json": {
       "model_id": "f3dc3fbfa3864df0bbff5f42378c9e88",
       "version_major": 2,
       "version_minor": 0
      },
      "text/plain": [
       "100, 2, balanced, entropy:   0%|          | 0/2 [00:00<?, ?it/s]"
      ]
     },
     "metadata": {},
     "output_type": "display_data"
    },
    {
     "data": {
      "application/vnd.jupyter.widget-view+json": {
       "model_id": "046eb3a0d2814069bb4dd59470fd08fb",
       "version_major": 2,
       "version_minor": 0
      },
      "text/plain": [
       "100, 2, None, gini:   0%|          | 0/2 [00:00<?, ?it/s]"
      ]
     },
     "metadata": {},
     "output_type": "display_data"
    },
    {
     "data": {
      "application/vnd.jupyter.widget-view+json": {
       "model_id": "1b2a2e48cc32454eabed6789bc513eaa",
       "version_major": 2,
       "version_minor": 0
      },
      "text/plain": [
       "100, 3, balanced, entropy:   0%|          | 0/2 [00:00<?, ?it/s]"
      ]
     },
     "metadata": {},
     "output_type": "display_data"
    },
    {
     "data": {
      "application/vnd.jupyter.widget-view+json": {
       "model_id": "b33696663c6c418da12a81ec2265b154",
       "version_major": 2,
       "version_minor": 0
      },
      "text/plain": [
       "100, 3, None, gini:   0%|          | 0/2 [00:00<?, ?it/s]"
      ]
     },
     "metadata": {},
     "output_type": "display_data"
    },
    {
     "data": {
      "application/vnd.jupyter.widget-view+json": {
       "model_id": "f82d3809a5314e40bc6e92723ab310b2",
       "version_major": 2,
       "version_minor": 0
      },
      "text/plain": [
       "100, 4, balanced, entropy:   0%|          | 0/2 [00:00<?, ?it/s]"
      ]
     },
     "metadata": {},
     "output_type": "display_data"
    },
    {
     "data": {
      "application/vnd.jupyter.widget-view+json": {
       "model_id": "e7ce8bb95d7c4f47a25049a33cce584f",
       "version_major": 2,
       "version_minor": 0
      },
      "text/plain": [
       "100, 4, None, gini:   0%|          | 0/2 [00:00<?, ?it/s]"
      ]
     },
     "metadata": {},
     "output_type": "display_data"
    },
    {
     "data": {
      "application/vnd.jupyter.widget-view+json": {
       "model_id": "82e283cdc4e14208b735b187ad7d1074",
       "version_major": 2,
       "version_minor": 0
      },
      "text/plain": [
       "100, 5, balanced, entropy:   0%|          | 0/2 [00:00<?, ?it/s]"
      ]
     },
     "metadata": {},
     "output_type": "display_data"
    },
    {
     "data": {
      "application/vnd.jupyter.widget-view+json": {
       "model_id": "a642f9b1c7ec47ab818a75f282e72eec",
       "version_major": 2,
       "version_minor": 0
      },
      "text/plain": [
       "100, 5, None, gini:   0%|          | 0/2 [00:00<?, ?it/s]"
      ]
     },
     "metadata": {},
     "output_type": "display_data"
    },
    {
     "data": {
      "application/vnd.jupyter.widget-view+json": {
       "model_id": "43b849df735144ad8eb708f2422c75c5",
       "version_major": 2,
       "version_minor": 0
      },
      "text/plain": [
       "100, 6, balanced, entropy:   0%|          | 0/2 [00:00<?, ?it/s]"
      ]
     },
     "metadata": {},
     "output_type": "display_data"
    },
    {
     "data": {
      "application/vnd.jupyter.widget-view+json": {
       "model_id": "d34253bebf504c58a7d8870527ffec39",
       "version_major": 2,
       "version_minor": 0
      },
      "text/plain": [
       "100, 6, None, gini:   0%|          | 0/2 [00:00<?, ?it/s]"
      ]
     },
     "metadata": {},
     "output_type": "display_data"
    },
    {
     "data": {
      "application/vnd.jupyter.widget-view+json": {
       "model_id": "9d1db6d6c7c1453e8031ad7ac1b379b1",
       "version_major": 2,
       "version_minor": 0
      },
      "text/plain": [
       "100, 7, balanced, entropy:   0%|          | 0/2 [00:00<?, ?it/s]"
      ]
     },
     "metadata": {},
     "output_type": "display_data"
    },
    {
     "data": {
      "application/vnd.jupyter.widget-view+json": {
       "model_id": "cd90025980c148f2ad115afd50363d60",
       "version_major": 2,
       "version_minor": 0
      },
      "text/plain": [
       "100, 7, None, gini:   0%|          | 0/2 [00:00<?, ?it/s]"
      ]
     },
     "metadata": {},
     "output_type": "display_data"
    },
    {
     "data": {
      "application/vnd.jupyter.widget-view+json": {
       "model_id": "beb62b1ed0264c2981c42d0f0cf61a79",
       "version_major": 2,
       "version_minor": 0
      },
      "text/plain": [
       "100, 8, balanced, entropy:   0%|          | 0/2 [00:00<?, ?it/s]"
      ]
     },
     "metadata": {},
     "output_type": "display_data"
    },
    {
     "data": {
      "application/vnd.jupyter.widget-view+json": {
       "model_id": "ed009625c8ca4add84ab765f1c623a6b",
       "version_major": 2,
       "version_minor": 0
      },
      "text/plain": [
       "100, 8, None, gini:   0%|          | 0/2 [00:00<?, ?it/s]"
      ]
     },
     "metadata": {},
     "output_type": "display_data"
    },
    {
     "data": {
      "application/vnd.jupyter.widget-view+json": {
       "model_id": "885a91152e6c449998e89137eca0dc41",
       "version_major": 2,
       "version_minor": 0
      },
      "text/plain": [
       "100, 9, balanced, entropy:   0%|          | 0/2 [00:00<?, ?it/s]"
      ]
     },
     "metadata": {},
     "output_type": "display_data"
    },
    {
     "data": {
      "application/vnd.jupyter.widget-view+json": {
       "model_id": "a16078408e7a46af857200822d96b1dc",
       "version_major": 2,
       "version_minor": 0
      },
      "text/plain": [
       "100, 9, None, gini:   0%|          | 0/2 [00:00<?, ?it/s]"
      ]
     },
     "metadata": {},
     "output_type": "display_data"
    },
    {
     "data": {
      "application/vnd.jupyter.widget-view+json": {
       "model_id": "151bf39a462941ec8acde76b3f198821",
       "version_major": 2,
       "version_minor": 0
      },
      "text/plain": [
       "100, 10, balanced, entropy:   0%|          | 0/2 [00:00<?, ?it/s]"
      ]
     },
     "metadata": {},
     "output_type": "display_data"
    },
    {
     "data": {
      "application/vnd.jupyter.widget-view+json": {
       "model_id": "6c844c02115b482eab75eb2ae155fb23",
       "version_major": 2,
       "version_minor": 0
      },
      "text/plain": [
       "100, 10, None, gini:   0%|          | 0/2 [00:00<?, ?it/s]"
      ]
     },
     "metadata": {},
     "output_type": "display_data"
    },
    {
     "data": {
      "application/vnd.jupyter.widget-view+json": {
       "model_id": "1853e2f1e9364ab9ac2139503b6eb536",
       "version_major": 2,
       "version_minor": 0
      },
      "text/plain": [
       "100, 11, balanced, entropy:   0%|          | 0/2 [00:00<?, ?it/s]"
      ]
     },
     "metadata": {},
     "output_type": "display_data"
    },
    {
     "data": {
      "application/vnd.jupyter.widget-view+json": {
       "model_id": "c3bfcef1ad79411b9677c029fcf579b5",
       "version_major": 2,
       "version_minor": 0
      },
      "text/plain": [
       "100, 11, None, gini:   0%|          | 0/2 [00:00<?, ?it/s]"
      ]
     },
     "metadata": {},
     "output_type": "display_data"
    },
    {
     "data": {
      "application/vnd.jupyter.widget-view+json": {
       "model_id": "1c78cec967294607b3bb6d1fc807f2a0",
       "version_major": 2,
       "version_minor": 0
      },
      "text/plain": [
       "100, 12, balanced, entropy:   0%|          | 0/2 [00:00<?, ?it/s]"
      ]
     },
     "metadata": {},
     "output_type": "display_data"
    },
    {
     "data": {
      "application/vnd.jupyter.widget-view+json": {
       "model_id": "6930ead2e9994fef9cccf99eeb8edcb8",
       "version_major": 2,
       "version_minor": 0
      },
      "text/plain": [
       "100, 12, None, gini:   0%|          | 0/2 [00:00<?, ?it/s]"
      ]
     },
     "metadata": {},
     "output_type": "display_data"
    },
    {
     "data": {
      "application/vnd.jupyter.widget-view+json": {
       "model_id": "27a1b79dcf1047e8985fe9360c595898",
       "version_major": 2,
       "version_minor": 0
      },
      "text/plain": [
       "100, 13, balanced, entropy:   0%|          | 0/2 [00:00<?, ?it/s]"
      ]
     },
     "metadata": {},
     "output_type": "display_data"
    },
    {
     "data": {
      "application/vnd.jupyter.widget-view+json": {
       "model_id": "4275fece145a412c9769f1773fbb1629",
       "version_major": 2,
       "version_minor": 0
      },
      "text/plain": [
       "100, 13, None, gini:   0%|          | 0/2 [00:00<?, ?it/s]"
      ]
     },
     "metadata": {},
     "output_type": "display_data"
    },
    {
     "data": {
      "application/vnd.jupyter.widget-view+json": {
       "model_id": "fbe67185e63f4c27a92490e2c97d71b9",
       "version_major": 2,
       "version_minor": 0
      },
      "text/plain": [
       "100, 14, balanced, entropy:   0%|          | 0/2 [00:00<?, ?it/s]"
      ]
     },
     "metadata": {},
     "output_type": "display_data"
    },
    {
     "data": {
      "application/vnd.jupyter.widget-view+json": {
       "model_id": "4480b4a7c6134e60852590a34f16f62d",
       "version_major": 2,
       "version_minor": 0
      },
      "text/plain": [
       "100, 14, None, gini:   0%|          | 0/2 [00:00<?, ?it/s]"
      ]
     },
     "metadata": {},
     "output_type": "display_data"
    },
    {
     "data": {
      "application/vnd.jupyter.widget-view+json": {
       "model_id": "2a82c38b07454396a094131cc25e0386",
       "version_major": 2,
       "version_minor": 0
      },
      "text/plain": [
       "100, 15, balanced, entropy:   0%|          | 0/2 [00:00<?, ?it/s]"
      ]
     },
     "metadata": {},
     "output_type": "display_data"
    },
    {
     "data": {
      "application/vnd.jupyter.widget-view+json": {
       "model_id": "ca8292d731ef40afa53b5a060035b3b1",
       "version_major": 2,
       "version_minor": 0
      },
      "text/plain": [
       "100, 15, None, gini:   0%|          | 0/2 [00:00<?, ?it/s]"
      ]
     },
     "metadata": {},
     "output_type": "display_data"
    },
    {
     "data": {
      "application/vnd.jupyter.widget-view+json": {
       "model_id": "51763ca054424983af5909a0756e6ce6",
       "version_major": 2,
       "version_minor": 0
      },
      "text/plain": [
       "100, 16, balanced, entropy:   0%|          | 0/2 [00:00<?, ?it/s]"
      ]
     },
     "metadata": {},
     "output_type": "display_data"
    },
    {
     "data": {
      "application/vnd.jupyter.widget-view+json": {
       "model_id": "1cbcf634da8e4dd796da51516142a570",
       "version_major": 2,
       "version_minor": 0
      },
      "text/plain": [
       "100, 16, None, gini:   0%|          | 0/2 [00:00<?, ?it/s]"
      ]
     },
     "metadata": {},
     "output_type": "display_data"
    },
    {
     "data": {
      "application/vnd.jupyter.widget-view+json": {
       "model_id": "0fd24439ebbd4f9ba4903e8739f0c100",
       "version_major": 2,
       "version_minor": 0
      },
      "text/plain": [
       "100, 17, balanced, entropy:   0%|          | 0/2 [00:00<?, ?it/s]"
      ]
     },
     "metadata": {},
     "output_type": "display_data"
    },
    {
     "data": {
      "application/vnd.jupyter.widget-view+json": {
       "model_id": "7d93c1ade54241a6bbb1120f57305509",
       "version_major": 2,
       "version_minor": 0
      },
      "text/plain": [
       "100, 17, None, gini:   0%|          | 0/2 [00:00<?, ?it/s]"
      ]
     },
     "metadata": {},
     "output_type": "display_data"
    },
    {
     "data": {
      "application/vnd.jupyter.widget-view+json": {
       "model_id": "54bc86c742a142a9b85580d6b5df1a6d",
       "version_major": 2,
       "version_minor": 0
      },
      "text/plain": [
       "100, 18, balanced, entropy:   0%|          | 0/2 [00:00<?, ?it/s]"
      ]
     },
     "metadata": {},
     "output_type": "display_data"
    },
    {
     "data": {
      "application/vnd.jupyter.widget-view+json": {
       "model_id": "89a428cef6a04d9c94ccce960013e46a",
       "version_major": 2,
       "version_minor": 0
      },
      "text/plain": [
       "100, 18, None, gini:   0%|          | 0/2 [00:00<?, ?it/s]"
      ]
     },
     "metadata": {},
     "output_type": "display_data"
    },
    {
     "data": {
      "application/vnd.jupyter.widget-view+json": {
       "model_id": "cb54072e8a7745b1b50d8c7189d47044",
       "version_major": 2,
       "version_minor": 0
      },
      "text/plain": [
       "100, 19, balanced, entropy:   0%|          | 0/2 [00:00<?, ?it/s]"
      ]
     },
     "metadata": {},
     "output_type": "display_data"
    },
    {
     "data": {
      "application/vnd.jupyter.widget-view+json": {
       "model_id": "3aaeb25c327041d8b0b14f5fb517cd52",
       "version_major": 2,
       "version_minor": 0
      },
      "text/plain": [
       "100, 19, None, gini:   0%|          | 0/2 [00:00<?, ?it/s]"
      ]
     },
     "metadata": {},
     "output_type": "display_data"
    },
    {
     "data": {
      "application/vnd.jupyter.widget-view+json": {
       "model_id": "476e31f5a28842a08ff12ff7b7f90e6b",
       "version_major": 2,
       "version_minor": 0
      },
      "text/plain": [
       "100, 20, balanced, entropy:   0%|          | 0/2 [00:00<?, ?it/s]"
      ]
     },
     "metadata": {},
     "output_type": "display_data"
    },
    {
     "data": {
      "application/vnd.jupyter.widget-view+json": {
       "model_id": "fec3c81e9df64951892af04ee1f38991",
       "version_major": 2,
       "version_minor": 0
      },
      "text/plain": [
       "100, 20, None, gini:   0%|          | 0/2 [00:00<?, ?it/s]"
      ]
     },
     "metadata": {},
     "output_type": "display_data"
    },
    {
     "data": {
      "application/vnd.jupyter.widget-view+json": {
       "model_id": "dac7a0d748ae4b078dc6521d05ea59e0",
       "version_major": 2,
       "version_minor": 0
      },
      "text/plain": [
       "100, 21, balanced, entropy:   0%|          | 0/2 [00:00<?, ?it/s]"
      ]
     },
     "metadata": {},
     "output_type": "display_data"
    },
    {
     "data": {
      "application/vnd.jupyter.widget-view+json": {
       "model_id": "6467f07d5ba54f07a3b3df0a88d2f0b4",
       "version_major": 2,
       "version_minor": 0
      },
      "text/plain": [
       "100, 21, None, gini:   0%|          | 0/2 [00:00<?, ?it/s]"
      ]
     },
     "metadata": {},
     "output_type": "display_data"
    },
    {
     "data": {
      "application/vnd.jupyter.widget-view+json": {
       "model_id": "72d37e256dac40be8ec2f9c72c014399",
       "version_major": 2,
       "version_minor": 0
      },
      "text/plain": [
       "100, 22, balanced, entropy:   0%|          | 0/2 [00:00<?, ?it/s]"
      ]
     },
     "metadata": {},
     "output_type": "display_data"
    },
    {
     "data": {
      "application/vnd.jupyter.widget-view+json": {
       "model_id": "0ae3f44440694ebf8ec851e57ff101ef",
       "version_major": 2,
       "version_minor": 0
      },
      "text/plain": [
       "100, 22, None, gini:   0%|          | 0/2 [00:00<?, ?it/s]"
      ]
     },
     "metadata": {},
     "output_type": "display_data"
    },
    {
     "data": {
      "application/vnd.jupyter.widget-view+json": {
       "model_id": "dc23df5a03de4f38ad53a7d0c293dc13",
       "version_major": 2,
       "version_minor": 0
      },
      "text/plain": [
       "100, 23, balanced, entropy:   0%|          | 0/2 [00:00<?, ?it/s]"
      ]
     },
     "metadata": {},
     "output_type": "display_data"
    },
    {
     "data": {
      "application/vnd.jupyter.widget-view+json": {
       "model_id": "62b91f2d60304534bd4e63ee1ff7f59b",
       "version_major": 2,
       "version_minor": 0
      },
      "text/plain": [
       "100, 23, None, gini:   0%|          | 0/2 [00:00<?, ?it/s]"
      ]
     },
     "metadata": {},
     "output_type": "display_data"
    },
    {
     "data": {
      "application/vnd.jupyter.widget-view+json": {
       "model_id": "af945da8e5494b628dec3f811eeb3644",
       "version_major": 2,
       "version_minor": 0
      },
      "text/plain": [
       "100, 24, balanced, entropy:   0%|          | 0/2 [00:00<?, ?it/s]"
      ]
     },
     "metadata": {},
     "output_type": "display_data"
    },
    {
     "data": {
      "application/vnd.jupyter.widget-view+json": {
       "model_id": "4d5313d03257422994240848bf39c64c",
       "version_major": 2,
       "version_minor": 0
      },
      "text/plain": [
       "100, 24, None, gini:   0%|          | 0/2 [00:00<?, ?it/s]"
      ]
     },
     "metadata": {},
     "output_type": "display_data"
    },
    {
     "data": {
      "application/vnd.jupyter.widget-view+json": {
       "model_id": "9575deada49f497b9b0b200eec01e1c3",
       "version_major": 2,
       "version_minor": 0
      },
      "text/plain": [
       "100, 25, balanced, entropy:   0%|          | 0/2 [00:00<?, ?it/s]"
      ]
     },
     "metadata": {},
     "output_type": "display_data"
    },
    {
     "data": {
      "application/vnd.jupyter.widget-view+json": {
       "model_id": "a00d3b313b9d4631b748dce065ccf367",
       "version_major": 2,
       "version_minor": 0
      },
      "text/plain": [
       "100, 25, None, gini:   0%|          | 0/2 [00:00<?, ?it/s]"
      ]
     },
     "metadata": {},
     "output_type": "display_data"
    },
    {
     "data": {
      "application/vnd.jupyter.widget-view+json": {
       "model_id": "ef77691f7edf429d8e32a38d46b4f459",
       "version_major": 2,
       "version_minor": 0
      },
      "text/plain": [
       "100, 26, balanced, entropy:   0%|          | 0/2 [00:00<?, ?it/s]"
      ]
     },
     "metadata": {},
     "output_type": "display_data"
    },
    {
     "data": {
      "application/vnd.jupyter.widget-view+json": {
       "model_id": "bec29f25426144ad9458e254cdb3237c",
       "version_major": 2,
       "version_minor": 0
      },
      "text/plain": [
       "100, 26, None, gini:   0%|          | 0/2 [00:00<?, ?it/s]"
      ]
     },
     "metadata": {},
     "output_type": "display_data"
    },
    {
     "data": {
      "application/vnd.jupyter.widget-view+json": {
       "model_id": "07d3f98288cf4b4b95198a70eabd55a4",
       "version_major": 2,
       "version_minor": 0
      },
      "text/plain": [
       "100, 27, balanced, entropy:   0%|          | 0/2 [00:00<?, ?it/s]"
      ]
     },
     "metadata": {},
     "output_type": "display_data"
    },
    {
     "data": {
      "application/vnd.jupyter.widget-view+json": {
       "model_id": "e6e3f704cbbe4020ac6e35a71f4e7018",
       "version_major": 2,
       "version_minor": 0
      },
      "text/plain": [
       "100, 27, None, gini:   0%|          | 0/2 [00:00<?, ?it/s]"
      ]
     },
     "metadata": {},
     "output_type": "display_data"
    },
    {
     "data": {
      "application/vnd.jupyter.widget-view+json": {
       "model_id": "c621de4a55fb41d5badb098f617c4aa5",
       "version_major": 2,
       "version_minor": 0
      },
      "text/plain": [
       "100, 28, balanced, entropy:   0%|          | 0/2 [00:00<?, ?it/s]"
      ]
     },
     "metadata": {},
     "output_type": "display_data"
    },
    {
     "data": {
      "application/vnd.jupyter.widget-view+json": {
       "model_id": "f2d2d67e8f1b4fc5bae21352bcb47323",
       "version_major": 2,
       "version_minor": 0
      },
      "text/plain": [
       "100, 28, None, gini:   0%|          | 0/2 [00:00<?, ?it/s]"
      ]
     },
     "metadata": {},
     "output_type": "display_data"
    },
    {
     "data": {
      "application/vnd.jupyter.widget-view+json": {
       "model_id": "062e07ca59ab47ad81f7f0d18bfa0047",
       "version_major": 2,
       "version_minor": 0
      },
      "text/plain": [
       "100, 29, balanced, entropy:   0%|          | 0/2 [00:00<?, ?it/s]"
      ]
     },
     "metadata": {},
     "output_type": "display_data"
    },
    {
     "data": {
      "application/vnd.jupyter.widget-view+json": {
       "model_id": "b0b80a0af2be4ba5aa82f4dbed08a124",
       "version_major": 2,
       "version_minor": 0
      },
      "text/plain": [
       "100, 29, None, gini:   0%|          | 0/2 [00:00<?, ?it/s]"
      ]
     },
     "metadata": {},
     "output_type": "display_data"
    },
    {
     "data": {
      "application/vnd.jupyter.widget-view+json": {
       "model_id": "c36ce36b0ecc4740adb4361b6c34d6cf",
       "version_major": 2,
       "version_minor": 0
      },
      "text/plain": [
       "100, 30, balanced, entropy:   0%|          | 0/2 [00:00<?, ?it/s]"
      ]
     },
     "metadata": {},
     "output_type": "display_data"
    },
    {
     "data": {
      "application/vnd.jupyter.widget-view+json": {
       "model_id": "ec3e9b2250d9487cb67902be75985be7",
       "version_major": 2,
       "version_minor": 0
      },
      "text/plain": [
       "100, 30, None, gini:   0%|          | 0/2 [00:00<?, ?it/s]"
      ]
     },
     "metadata": {},
     "output_type": "display_data"
    },
    {
     "data": {
      "application/vnd.jupyter.widget-view+json": {
       "model_id": "91d391acb4be4f7e908c8b2a4d8b44db",
       "version_major": 2,
       "version_minor": 0
      },
      "text/plain": [
       "100, 31, balanced, entropy:   0%|          | 0/2 [00:00<?, ?it/s]"
      ]
     },
     "metadata": {},
     "output_type": "display_data"
    },
    {
     "data": {
      "application/vnd.jupyter.widget-view+json": {
       "model_id": "d64dd52db9c842efa5aa1216400c3f0d",
       "version_major": 2,
       "version_minor": 0
      },
      "text/plain": [
       "100, 31, None, gini:   0%|          | 0/2 [00:00<?, ?it/s]"
      ]
     },
     "metadata": {},
     "output_type": "display_data"
    },
    {
     "data": {
      "application/vnd.jupyter.widget-view+json": {
       "model_id": "b8f7533c9f15464784a2b11f9de9a2f6",
       "version_major": 2,
       "version_minor": 0
      },
      "text/plain": [
       "100, 32, balanced, entropy:   0%|          | 0/2 [00:00<?, ?it/s]"
      ]
     },
     "metadata": {},
     "output_type": "display_data"
    },
    {
     "data": {
      "application/vnd.jupyter.widget-view+json": {
       "model_id": "957136422a3e4c629c286cc19e952904",
       "version_major": 2,
       "version_minor": 0
      },
      "text/plain": [
       "100, 32, None, gini:   0%|          | 0/2 [00:00<?, ?it/s]"
      ]
     },
     "metadata": {},
     "output_type": "display_data"
    },
    {
     "data": {
      "application/vnd.jupyter.widget-view+json": {
       "model_id": "3a482836cf624429a0b09ed5961bf352",
       "version_major": 2,
       "version_minor": 0
      },
      "text/plain": [
       "100, 33, balanced, entropy:   0%|          | 0/2 [00:00<?, ?it/s]"
      ]
     },
     "metadata": {},
     "output_type": "display_data"
    },
    {
     "data": {
      "application/vnd.jupyter.widget-view+json": {
       "model_id": "cdf5e8d92fcd4aef8b43b6c2b6174e06",
       "version_major": 2,
       "version_minor": 0
      },
      "text/plain": [
       "100, 33, None, gini:   0%|          | 0/2 [00:00<?, ?it/s]"
      ]
     },
     "metadata": {},
     "output_type": "display_data"
    },
    {
     "data": {
      "application/vnd.jupyter.widget-view+json": {
       "model_id": "36a6ce9062684459a3d696c1d9889003",
       "version_major": 2,
       "version_minor": 0
      },
      "text/plain": [
       "100, 34, balanced, entropy:   0%|          | 0/2 [00:00<?, ?it/s]"
      ]
     },
     "metadata": {},
     "output_type": "display_data"
    },
    {
     "data": {
      "application/vnd.jupyter.widget-view+json": {
       "model_id": "a4d0c474812f492a82c7b062e45f4fc2",
       "version_major": 2,
       "version_minor": 0
      },
      "text/plain": [
       "100, 34, None, gini:   0%|          | 0/2 [00:00<?, ?it/s]"
      ]
     },
     "metadata": {},
     "output_type": "display_data"
    },
    {
     "data": {
      "application/vnd.jupyter.widget-view+json": {
       "model_id": "ba5ecc7d921241f39c283cb91cb11f20",
       "version_major": 2,
       "version_minor": 0
      },
      "text/plain": [
       "100, 35, balanced, entropy:   0%|          | 0/2 [00:00<?, ?it/s]"
      ]
     },
     "metadata": {},
     "output_type": "display_data"
    },
    {
     "data": {
      "application/vnd.jupyter.widget-view+json": {
       "model_id": "30e55c5578c04a8581971def59fab147",
       "version_major": 2,
       "version_minor": 0
      },
      "text/plain": [
       "100, 35, None, gini:   0%|          | 0/2 [00:00<?, ?it/s]"
      ]
     },
     "metadata": {},
     "output_type": "display_data"
    },
    {
     "data": {
      "application/vnd.jupyter.widget-view+json": {
       "model_id": "3bc5f58bee5d437489b23d840aef5e67",
       "version_major": 2,
       "version_minor": 0
      },
      "text/plain": [
       "100, 36, balanced, entropy:   0%|          | 0/2 [00:00<?, ?it/s]"
      ]
     },
     "metadata": {},
     "output_type": "display_data"
    },
    {
     "data": {
      "application/vnd.jupyter.widget-view+json": {
       "model_id": "a4320f5e0e964589b7d57c15197a29a7",
       "version_major": 2,
       "version_minor": 0
      },
      "text/plain": [
       "100, 36, None, gini:   0%|          | 0/2 [00:00<?, ?it/s]"
      ]
     },
     "metadata": {},
     "output_type": "display_data"
    },
    {
     "data": {
      "application/vnd.jupyter.widget-view+json": {
       "model_id": "0bccf1517d0c4778b0aba57db2040834",
       "version_major": 2,
       "version_minor": 0
      },
      "text/plain": [
       "100, 37, balanced, entropy:   0%|          | 0/2 [00:00<?, ?it/s]"
      ]
     },
     "metadata": {},
     "output_type": "display_data"
    },
    {
     "data": {
      "application/vnd.jupyter.widget-view+json": {
       "model_id": "2587a247d4ef4931aa2a51e983737001",
       "version_major": 2,
       "version_minor": 0
      },
      "text/plain": [
       "100, 37, None, gini:   0%|          | 0/2 [00:00<?, ?it/s]"
      ]
     },
     "metadata": {},
     "output_type": "display_data"
    },
    {
     "data": {
      "application/vnd.jupyter.widget-view+json": {
       "model_id": "510f9101f17f401aabe2fe8f25d5f476",
       "version_major": 2,
       "version_minor": 0
      },
      "text/plain": [
       "100, 38, balanced, entropy:   0%|          | 0/2 [00:00<?, ?it/s]"
      ]
     },
     "metadata": {},
     "output_type": "display_data"
    },
    {
     "data": {
      "application/vnd.jupyter.widget-view+json": {
       "model_id": "e50b8f56b9f14e49b761461c3df6ea52",
       "version_major": 2,
       "version_minor": 0
      },
      "text/plain": [
       "100, 38, None, gini:   0%|          | 0/2 [00:00<?, ?it/s]"
      ]
     },
     "metadata": {},
     "output_type": "display_data"
    },
    {
     "data": {
      "application/vnd.jupyter.widget-view+json": {
       "model_id": "03bc1c4185dc48a987b03a4b87e9e88f",
       "version_major": 2,
       "version_minor": 0
      },
      "text/plain": [
       "100, 39, balanced, entropy:   0%|          | 0/2 [00:00<?, ?it/s]"
      ]
     },
     "metadata": {},
     "output_type": "display_data"
    },
    {
     "data": {
      "application/vnd.jupyter.widget-view+json": {
       "model_id": "35f0435337d545118562511943f6950f",
       "version_major": 2,
       "version_minor": 0
      },
      "text/plain": [
       "100, 39, None, gini:   0%|          | 0/2 [00:00<?, ?it/s]"
      ]
     },
     "metadata": {},
     "output_type": "display_data"
    },
    {
     "data": {
      "application/vnd.jupyter.widget-view+json": {
       "model_id": "7aa81eeed26b4742a6183e6a61432b0b",
       "version_major": 2,
       "version_minor": 0
      },
      "text/plain": [
       "100, 40, balanced, entropy:   0%|          | 0/2 [00:00<?, ?it/s]"
      ]
     },
     "metadata": {},
     "output_type": "display_data"
    },
    {
     "data": {
      "application/vnd.jupyter.widget-view+json": {
       "model_id": "398fc688950e42e5a3d1d162f39b9e88",
       "version_major": 2,
       "version_minor": 0
      },
      "text/plain": [
       "100, 40, None, gini:   0%|          | 0/2 [00:00<?, ?it/s]"
      ]
     },
     "metadata": {},
     "output_type": "display_data"
    },
    {
     "data": {
      "application/vnd.jupyter.widget-view+json": {
       "model_id": "cc38e34abaac46c8a79cde6ea934685e",
       "version_major": 2,
       "version_minor": 0
      },
      "text/plain": [
       "100, 41, balanced, entropy:   0%|          | 0/2 [00:00<?, ?it/s]"
      ]
     },
     "metadata": {},
     "output_type": "display_data"
    },
    {
     "data": {
      "application/vnd.jupyter.widget-view+json": {
       "model_id": "b0a6d9ebe90646629c658fe5c09e62be",
       "version_major": 2,
       "version_minor": 0
      },
      "text/plain": [
       "100, 41, None, gini:   0%|          | 0/2 [00:00<?, ?it/s]"
      ]
     },
     "metadata": {},
     "output_type": "display_data"
    },
    {
     "data": {
      "application/vnd.jupyter.widget-view+json": {
       "model_id": "305790bb7c2040368205bdab2b42f18d",
       "version_major": 2,
       "version_minor": 0
      },
      "text/plain": [
       "100, 42, balanced, entropy:   0%|          | 0/2 [00:00<?, ?it/s]"
      ]
     },
     "metadata": {},
     "output_type": "display_data"
    },
    {
     "data": {
      "application/vnd.jupyter.widget-view+json": {
       "model_id": "f00e3ce5365043198bdcc3cf6a2bf309",
       "version_major": 2,
       "version_minor": 0
      },
      "text/plain": [
       "100, 42, None, gini:   0%|          | 0/2 [00:00<?, ?it/s]"
      ]
     },
     "metadata": {},
     "output_type": "display_data"
    },
    {
     "data": {
      "application/vnd.jupyter.widget-view+json": {
       "model_id": "d1aa8ac33d774556abe31fd9ea052ccf",
       "version_major": 2,
       "version_minor": 0
      },
      "text/plain": [
       "100, 43, balanced, entropy:   0%|          | 0/2 [00:00<?, ?it/s]"
      ]
     },
     "metadata": {},
     "output_type": "display_data"
    },
    {
     "data": {
      "application/vnd.jupyter.widget-view+json": {
       "model_id": "29faf0d5ee6d4890949a5fd1996cb289",
       "version_major": 2,
       "version_minor": 0
      },
      "text/plain": [
       "100, 43, None, gini:   0%|          | 0/2 [00:00<?, ?it/s]"
      ]
     },
     "metadata": {},
     "output_type": "display_data"
    },
    {
     "data": {
      "application/vnd.jupyter.widget-view+json": {
       "model_id": "68c3b25b424f4ca29b364eba59a93c58",
       "version_major": 2,
       "version_minor": 0
      },
      "text/plain": [
       "100, 44, balanced, entropy:   0%|          | 0/2 [00:00<?, ?it/s]"
      ]
     },
     "metadata": {},
     "output_type": "display_data"
    },
    {
     "data": {
      "application/vnd.jupyter.widget-view+json": {
       "model_id": "40b6b498f5234364b4299d22aa5cefe8",
       "version_major": 2,
       "version_minor": 0
      },
      "text/plain": [
       "100, 44, None, gini:   0%|          | 0/2 [00:00<?, ?it/s]"
      ]
     },
     "metadata": {},
     "output_type": "display_data"
    },
    {
     "data": {
      "application/vnd.jupyter.widget-view+json": {
       "model_id": "3353656684c74a029fb6affe39a277c9",
       "version_major": 2,
       "version_minor": 0
      },
      "text/plain": [
       "100, 45, balanced, entropy:   0%|          | 0/2 [00:00<?, ?it/s]"
      ]
     },
     "metadata": {},
     "output_type": "display_data"
    },
    {
     "data": {
      "application/vnd.jupyter.widget-view+json": {
       "model_id": "51b174b2f03648e3bf53980f015767fa",
       "version_major": 2,
       "version_minor": 0
      },
      "text/plain": [
       "100, 45, None, gini:   0%|          | 0/2 [00:00<?, ?it/s]"
      ]
     },
     "metadata": {},
     "output_type": "display_data"
    },
    {
     "data": {
      "application/vnd.jupyter.widget-view+json": {
       "model_id": "3a72b898664f4bd2803c1a058d049a85",
       "version_major": 2,
       "version_minor": 0
      },
      "text/plain": [
       "100, 46, balanced, entropy:   0%|          | 0/2 [00:00<?, ?it/s]"
      ]
     },
     "metadata": {},
     "output_type": "display_data"
    },
    {
     "data": {
      "application/vnd.jupyter.widget-view+json": {
       "model_id": "96c9dff5c8f74325919f70fdbc185cdf",
       "version_major": 2,
       "version_minor": 0
      },
      "text/plain": [
       "100, 46, None, gini:   0%|          | 0/2 [00:00<?, ?it/s]"
      ]
     },
     "metadata": {},
     "output_type": "display_data"
    },
    {
     "data": {
      "application/vnd.jupyter.widget-view+json": {
       "model_id": "4231cc390b5d408ebf57eac3b759e4f3",
       "version_major": 2,
       "version_minor": 0
      },
      "text/plain": [
       "100, 47, balanced, entropy:   0%|          | 0/2 [00:00<?, ?it/s]"
      ]
     },
     "metadata": {},
     "output_type": "display_data"
    },
    {
     "data": {
      "application/vnd.jupyter.widget-view+json": {
       "model_id": "3874edc1770b4a6aaf7280bb6a4ede7c",
       "version_major": 2,
       "version_minor": 0
      },
      "text/plain": [
       "100, 47, None, gini:   0%|          | 0/2 [00:00<?, ?it/s]"
      ]
     },
     "metadata": {},
     "output_type": "display_data"
    },
    {
     "data": {
      "application/vnd.jupyter.widget-view+json": {
       "model_id": "6b1efd5f51d044788fc89e34838400de",
       "version_major": 2,
       "version_minor": 0
      },
      "text/plain": [
       "100, 48, balanced, entropy:   0%|          | 0/2 [00:00<?, ?it/s]"
      ]
     },
     "metadata": {},
     "output_type": "display_data"
    },
    {
     "data": {
      "application/vnd.jupyter.widget-view+json": {
       "model_id": "a7222cb5d8f44ba38230c26165832a2c",
       "version_major": 2,
       "version_minor": 0
      },
      "text/plain": [
       "100, 48, None, gini:   0%|          | 0/2 [00:00<?, ?it/s]"
      ]
     },
     "metadata": {},
     "output_type": "display_data"
    },
    {
     "data": {
      "application/vnd.jupyter.widget-view+json": {
       "model_id": "5bc5980db1394e2f9b6fdecc239fc7d0",
       "version_major": 2,
       "version_minor": 0
      },
      "text/plain": [
       "100, 49, balanced, entropy:   0%|          | 0/2 [00:00<?, ?it/s]"
      ]
     },
     "metadata": {},
     "output_type": "display_data"
    },
    {
     "data": {
      "application/vnd.jupyter.widget-view+json": {
       "model_id": "d9c576fd11254775b21db01cc3a52ba2",
       "version_major": 2,
       "version_minor": 0
      },
      "text/plain": [
       "100, 49, None, gini:   0%|          | 0/2 [00:00<?, ?it/s]"
      ]
     },
     "metadata": {},
     "output_type": "display_data"
    }
   ],
   "source": [
    "for i in range(len(n_estimators)):\n",
    "    for j in range(len(max_depth)):\n",
    "        for k in range(len(class_weight)):\n",
    "            for l in trange(len(criterion), desc=f\"{n_estimators[i]}, {max_depth[j]}, {class_weight[k]}, {criterion[k]}\"):\n",
    "                n_estimators_list.append(n_estimators[i])\n",
    "                max_depth_list.append(max_depth[j])\n",
    "                class_weight_list.append(class_weight[k])\n",
    "                criterion_list.append(criterion[l])\n",
    "                cvs = cross_val_score(RandomForestClassifier(n_estimators=n_estimators[i],\n",
    "                                                            max_depth=max_depth[j],\n",
    "                                                            class_weight=class_weight[k],\n",
    "                                                            criterion=criterion[l],\n",
    "                                                            n_jobs=-1,\n",
    "                                                            random_state=21),\n",
    "                                        X_train, y_train, cv=5, n_jobs=-1)\n",
    "                mean_list.append(cvs.mean())\n",
    "                std_list.append(cvs.std())"
   ]
  },
  {
   "cell_type": "code",
   "execution_count": 30,
   "metadata": {},
   "outputs": [
    {
     "data": {
      "text/html": [
       "<div>\n",
       "<style scoped>\n",
       "    .dataframe tbody tr th:only-of-type {\n",
       "        vertical-align: middle;\n",
       "    }\n",
       "\n",
       "    .dataframe tbody tr th {\n",
       "        vertical-align: top;\n",
       "    }\n",
       "\n",
       "    .dataframe thead th {\n",
       "        text-align: right;\n",
       "    }\n",
       "</style>\n",
       "<table border=\"1\" class=\"dataframe\">\n",
       "  <thead>\n",
       "    <tr style=\"text-align: right;\">\n",
       "      <th></th>\n",
       "      <th>n_estimators</th>\n",
       "      <th>max_depth</th>\n",
       "      <th>class_weight</th>\n",
       "      <th>criterion</th>\n",
       "      <th>mean_accuracy</th>\n",
       "      <th>std_accuracy</th>\n",
       "    </tr>\n",
       "  </thead>\n",
       "  <tbody>\n",
       "    <tr>\n",
       "      <th>503</th>\n",
       "      <td>50</td>\n",
       "      <td>28</td>\n",
       "      <td>None</td>\n",
       "      <td>gini</td>\n",
       "      <td>0.904290</td>\n",
       "      <td>0.010961</td>\n",
       "    </tr>\n",
       "    <tr>\n",
       "      <th>711</th>\n",
       "      <td>100</td>\n",
       "      <td>31</td>\n",
       "      <td>None</td>\n",
       "      <td>gini</td>\n",
       "      <td>0.903547</td>\n",
       "      <td>0.014380</td>\n",
       "    </tr>\n",
       "    <tr>\n",
       "      <th>509</th>\n",
       "      <td>50</td>\n",
       "      <td>30</td>\n",
       "      <td>balanced</td>\n",
       "      <td>gini</td>\n",
       "      <td>0.902817</td>\n",
       "      <td>0.013554</td>\n",
       "    </tr>\n",
       "    <tr>\n",
       "      <th>525</th>\n",
       "      <td>50</td>\n",
       "      <td>34</td>\n",
       "      <td>balanced</td>\n",
       "      <td>gini</td>\n",
       "      <td>0.902809</td>\n",
       "      <td>0.013010</td>\n",
       "    </tr>\n",
       "    <tr>\n",
       "      <th>783</th>\n",
       "      <td>100</td>\n",
       "      <td>49</td>\n",
       "      <td>None</td>\n",
       "      <td>gini</td>\n",
       "      <td>0.902806</td>\n",
       "      <td>0.010460</td>\n",
       "    </tr>\n",
       "    <tr>\n",
       "      <th>771</th>\n",
       "      <td>100</td>\n",
       "      <td>46</td>\n",
       "      <td>None</td>\n",
       "      <td>gini</td>\n",
       "      <td>0.902806</td>\n",
       "      <td>0.010460</td>\n",
       "    </tr>\n",
       "    <tr>\n",
       "      <th>759</th>\n",
       "      <td>100</td>\n",
       "      <td>43</td>\n",
       "      <td>None</td>\n",
       "      <td>gini</td>\n",
       "      <td>0.902806</td>\n",
       "      <td>0.010460</td>\n",
       "    </tr>\n",
       "    <tr>\n",
       "      <th>755</th>\n",
       "      <td>100</td>\n",
       "      <td>42</td>\n",
       "      <td>None</td>\n",
       "      <td>gini</td>\n",
       "      <td>0.902806</td>\n",
       "      <td>0.010460</td>\n",
       "    </tr>\n",
       "    <tr>\n",
       "      <th>751</th>\n",
       "      <td>100</td>\n",
       "      <td>41</td>\n",
       "      <td>None</td>\n",
       "      <td>gini</td>\n",
       "      <td>0.902806</td>\n",
       "      <td>0.010460</td>\n",
       "    </tr>\n",
       "    <tr>\n",
       "      <th>747</th>\n",
       "      <td>100</td>\n",
       "      <td>40</td>\n",
       "      <td>None</td>\n",
       "      <td>gini</td>\n",
       "      <td>0.902806</td>\n",
       "      <td>0.010460</td>\n",
       "    </tr>\n",
       "    <tr>\n",
       "      <th>743</th>\n",
       "      <td>100</td>\n",
       "      <td>39</td>\n",
       "      <td>None</td>\n",
       "      <td>gini</td>\n",
       "      <td>0.902806</td>\n",
       "      <td>0.010460</td>\n",
       "    </tr>\n",
       "    <tr>\n",
       "      <th>739</th>\n",
       "      <td>100</td>\n",
       "      <td>38</td>\n",
       "      <td>None</td>\n",
       "      <td>gini</td>\n",
       "      <td>0.902806</td>\n",
       "      <td>0.010460</td>\n",
       "    </tr>\n",
       "    <tr>\n",
       "      <th>735</th>\n",
       "      <td>100</td>\n",
       "      <td>37</td>\n",
       "      <td>None</td>\n",
       "      <td>gini</td>\n",
       "      <td>0.902806</td>\n",
       "      <td>0.010460</td>\n",
       "    </tr>\n",
       "    <tr>\n",
       "      <th>731</th>\n",
       "      <td>100</td>\n",
       "      <td>36</td>\n",
       "      <td>None</td>\n",
       "      <td>gini</td>\n",
       "      <td>0.902806</td>\n",
       "      <td>0.010460</td>\n",
       "    </tr>\n",
       "    <tr>\n",
       "      <th>507</th>\n",
       "      <td>50</td>\n",
       "      <td>29</td>\n",
       "      <td>None</td>\n",
       "      <td>gini</td>\n",
       "      <td>0.902806</td>\n",
       "      <td>0.011698</td>\n",
       "    </tr>\n",
       "    <tr>\n",
       "      <th>767</th>\n",
       "      <td>100</td>\n",
       "      <td>45</td>\n",
       "      <td>None</td>\n",
       "      <td>gini</td>\n",
       "      <td>0.902806</td>\n",
       "      <td>0.010460</td>\n",
       "    </tr>\n",
       "    <tr>\n",
       "      <th>763</th>\n",
       "      <td>100</td>\n",
       "      <td>44</td>\n",
       "      <td>None</td>\n",
       "      <td>gini</td>\n",
       "      <td>0.902806</td>\n",
       "      <td>0.010460</td>\n",
       "    </tr>\n",
       "    <tr>\n",
       "      <th>775</th>\n",
       "      <td>100</td>\n",
       "      <td>47</td>\n",
       "      <td>None</td>\n",
       "      <td>gini</td>\n",
       "      <td>0.902806</td>\n",
       "      <td>0.010460</td>\n",
       "    </tr>\n",
       "    <tr>\n",
       "      <th>779</th>\n",
       "      <td>100</td>\n",
       "      <td>48</td>\n",
       "      <td>None</td>\n",
       "      <td>gini</td>\n",
       "      <td>0.902806</td>\n",
       "      <td>0.010460</td>\n",
       "    </tr>\n",
       "    <tr>\n",
       "      <th>517</th>\n",
       "      <td>50</td>\n",
       "      <td>32</td>\n",
       "      <td>balanced</td>\n",
       "      <td>gini</td>\n",
       "      <td>0.902803</td>\n",
       "      <td>0.013267</td>\n",
       "    </tr>\n",
       "  </tbody>\n",
       "</table>\n",
       "</div>"
      ],
      "text/plain": [
       "     n_estimators  max_depth class_weight criterion  mean_accuracy  \\\n",
       "503            50         28         None      gini       0.904290   \n",
       "711           100         31         None      gini       0.903547   \n",
       "509            50         30     balanced      gini       0.902817   \n",
       "525            50         34     balanced      gini       0.902809   \n",
       "783           100         49         None      gini       0.902806   \n",
       "771           100         46         None      gini       0.902806   \n",
       "759           100         43         None      gini       0.902806   \n",
       "755           100         42         None      gini       0.902806   \n",
       "751           100         41         None      gini       0.902806   \n",
       "747           100         40         None      gini       0.902806   \n",
       "743           100         39         None      gini       0.902806   \n",
       "739           100         38         None      gini       0.902806   \n",
       "735           100         37         None      gini       0.902806   \n",
       "731           100         36         None      gini       0.902806   \n",
       "507            50         29         None      gini       0.902806   \n",
       "767           100         45         None      gini       0.902806   \n",
       "763           100         44         None      gini       0.902806   \n",
       "775           100         47         None      gini       0.902806   \n",
       "779           100         48         None      gini       0.902806   \n",
       "517            50         32     balanced      gini       0.902803   \n",
       "\n",
       "     std_accuracy  \n",
       "503      0.010961  \n",
       "711      0.014380  \n",
       "509      0.013554  \n",
       "525      0.013010  \n",
       "783      0.010460  \n",
       "771      0.010460  \n",
       "759      0.010460  \n",
       "755      0.010460  \n",
       "751      0.010460  \n",
       "747      0.010460  \n",
       "743      0.010460  \n",
       "739      0.010460  \n",
       "735      0.010460  \n",
       "731      0.010460  \n",
       "507      0.011698  \n",
       "767      0.010460  \n",
       "763      0.010460  \n",
       "775      0.010460  \n",
       "779      0.010460  \n",
       "517      0.013267  "
      ]
     },
     "execution_count": 30,
     "metadata": {},
     "output_type": "execute_result"
    }
   ],
   "source": [
    "scores = pd.DataFrame({'n_estimators': n_estimators_list,\n",
    "                       'max_depth': max_depth_list,\n",
    "                       'class_weight': class_weight_list,\n",
    "                       'criterion': criterion_list,\n",
    "                       'mean_accuracy': mean_list,\n",
    "                       'std_accuracy': std_list})\n",
    "scores.sort_values('mean_accuracy', inplace=True, ascending=False)\n",
    "scores.head(20)"
   ]
  },
  {
   "cell_type": "markdown",
   "metadata": {},
   "source": [
    "### 6. Прогнозы\n",
    " \n",
    "1. Выберите лучшую модель и используйте ее для создания прогнозов для тестового датасета.\n",
    "2. Рассчитайте финальную accuracy."
   ]
  },
  {
   "cell_type": "code",
   "execution_count": 31,
   "metadata": {},
   "outputs": [
    {
     "data": {
      "text/plain": [
       "0.9289940828402367"
      ]
     },
     "execution_count": 31,
     "metadata": {},
     "output_type": "execute_result"
    }
   ],
   "source": [
    "best = RandomForestClassifier(class_weight=None, criterion='gini', max_depth=28, n_estimators=50, random_state=21)\n",
    "best.fit(X_train, y_train)\n",
    "accuracy_score(y_test, best.predict(X_test))"
   ]
  }
 ],
 "metadata": {
  "kernelspec": {
   "display_name": "Python 3.9.12 ('base')",
   "language": "python",
   "name": "python3"
  },
  "language_info": {
   "codemirror_mode": {
    "name": "ipython",
    "version": 3
   },
   "file_extension": ".py",
   "mimetype": "text/x-python",
   "name": "python",
   "nbconvert_exporter": "python",
   "pygments_lexer": "ipython3",
   "version": "3.9.12"
  },
  "orig_nbformat": 4,
  "vscode": {
   "interpreter": {
    "hash": "52d9bec1bd0dd1d60d9f041927d73dc99a1ae836019e05c066f33f67e6a94d9c"
   }
  }
 },
 "nbformat": 4,
 "nbformat_minor": 2
}
